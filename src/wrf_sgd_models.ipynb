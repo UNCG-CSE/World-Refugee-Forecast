{
 "cells": [
  {
   "cell_type": "code",
<<<<<<< HEAD:src/basheer_stuff_2.ipynb
   "execution_count": 7,
=======
<<<<<<< HEAD:src/wrf_sgd_models.ipynb
   "execution_count": 1,
   "metadata": {},
   "outputs": [
    {
     "name": "stderr",
     "output_type": "stream",
     "text": [
      "/usr/lib/python2.7/dist-packages/matplotlib/__init__.py:874: UserWarning:\n",
      "\n",
      "axes.color_cycle is deprecated and replaced with axes.prop_cycle; please use the latter.\n",
      "\n"
     ]
    }
   ],
=======
   "execution_count": 13,
>>>>>>> 474b809caea95617b84549b7d90a9e7b14431a0e:src/wrf_sgd_models.ipynb
   "metadata": {
    "collapsed": true
   },
   "outputs": [],
>>>>>>> fce04edae95790f41e5dba78c5d59f7240c808eb:src/.ipynb_checkpoints/basheer_stuff_2-checkpoint.ipynb
   "source": [
    "%matplotlib inline\n",
    "import pandas as pd\n",
    "import numpy as np\n",
    "import plotly \n",
    "import plotly.plotly as py \n",
    "import plotly.figure_factory as ff\n",
    "from plotly.graph_objs import *\n",
    "import matplotlib.pyplot as plt\n",
    "import matplotlib.lines as mlines\n",
    "import seaborn as sns\n",
    "import scipy.stats as stats\n",
    "import math\n",
    "from sklearn import linear_model\n",
    "from sklearn.linear_model import SGDRegressor"
   ]
  },
  {
   "cell_type": "code",
<<<<<<< HEAD:src/basheer_stuff_2.ipynb
   "execution_count": 8,
   "metadata": {},
   "outputs": [
    {
     "ename": "ValueError",
     "evalue": "Buffer has wrong number of dimensions (expected 1, got 0)",
     "output_type": "error",
     "traceback": [
      "\u001b[0;31m---------------------------------------------------------------------------\u001b[0m",
      "\u001b[0;31mValueError\u001b[0m                                Traceback (most recent call last)",
      "\u001b[0;32m<ipython-input-8-3dc53a2d5927>\u001b[0m in \u001b[0;36m<module>\u001b[0;34m()\u001b[0m\n\u001b[1;32m      1\u001b[0m \u001b[0mmonthlyAsylumSeekers\u001b[0m \u001b[0;34m=\u001b[0m \u001b[0mpd\u001b[0m\u001b[0;34m.\u001b[0m\u001b[0mread_csv\u001b[0m\u001b[0;34m(\u001b[0m\u001b[0;34m\"../data/refugee_monthly.csv\"\u001b[0m\u001b[0;34m,\u001b[0m \u001b[0msep\u001b[0m\u001b[0;34m=\u001b[0m\u001b[0;34m\",\"\u001b[0m\u001b[0;34m,\u001b[0m \u001b[0mengine\u001b[0m\u001b[0;34m=\u001b[0m\u001b[0;34m'python'\u001b[0m\u001b[0;34m,\u001b[0m \u001b[0mencoding\u001b[0m \u001b[0;34m=\u001b[0m\u001b[0;34m'latin1'\u001b[0m\u001b[0;34m)\u001b[0m\u001b[0;34m\u001b[0m\u001b[0m\n\u001b[1;32m      2\u001b[0m \u001b[0mmonthlyAsylumSeekers\u001b[0m \u001b[0;34m=\u001b[0m \u001b[0mmonthlyAsylumSeekers\u001b[0m\u001b[0;34m[\u001b[0m\u001b[0mmonthlyAsylumSeekers\u001b[0m\u001b[0;34m[\u001b[0m\u001b[0;34m'Value'\u001b[0m\u001b[0;34m]\u001b[0m \u001b[0;34m!=\u001b[0m \u001b[0;34m'*'\u001b[0m\u001b[0;34m]\u001b[0m\u001b[0;34m\u001b[0m\u001b[0m\n\u001b[0;32m----> 3\u001b[0;31m \u001b[0mmonthlyAsylumSeekers\u001b[0m\u001b[0;34m[\u001b[0m\u001b[0;34m'Value'\u001b[0m\u001b[0;34m]\u001b[0m \u001b[0;34m=\u001b[0m \u001b[0mmonthlyAsylumSeekers\u001b[0m\u001b[0;34m[\u001b[0m\u001b[0;34m'Value'\u001b[0m\u001b[0;34m]\u001b[0m\u001b[0;34m.\u001b[0m\u001b[0mapply\u001b[0m\u001b[0;34m(\u001b[0m\u001b[0mpd\u001b[0m\u001b[0;34m.\u001b[0m\u001b[0mto_numeric\u001b[0m\u001b[0;34m)\u001b[0m\u001b[0;34m\u001b[0m\u001b[0m\n\u001b[0m\u001b[1;32m      4\u001b[0m \u001b[0mmonthlyAsylumSeekers\u001b[0m\u001b[0;34m.\u001b[0m\u001b[0mhead\u001b[0m\u001b[0;34m(\u001b[0m\u001b[0;34m)\u001b[0m\u001b[0;34m\u001b[0m\u001b[0m\n",
      "\u001b[0;32m/usr/lib/python2.7/dist-packages/pandas/core/series.pyc\u001b[0m in \u001b[0;36mapply\u001b[0;34m(self, func, convert_dtype, args, **kwds)\u001b[0m\n\u001b[1;32m   2167\u001b[0m             \u001b[0mvalues\u001b[0m \u001b[0;34m=\u001b[0m \u001b[0mlib\u001b[0m\u001b[0;34m.\u001b[0m\u001b[0mmap_infer\u001b[0m\u001b[0;34m(\u001b[0m\u001b[0mvalues\u001b[0m\u001b[0;34m,\u001b[0m \u001b[0mlib\u001b[0m\u001b[0;34m.\u001b[0m\u001b[0mTimestamp\u001b[0m\u001b[0;34m)\u001b[0m\u001b[0;34m\u001b[0m\u001b[0m\n\u001b[1;32m   2168\u001b[0m \u001b[0;34m\u001b[0m\u001b[0m\n\u001b[0;32m-> 2169\u001b[0;31m         \u001b[0mmapped\u001b[0m \u001b[0;34m=\u001b[0m \u001b[0mlib\u001b[0m\u001b[0;34m.\u001b[0m\u001b[0mmap_infer\u001b[0m\u001b[0;34m(\u001b[0m\u001b[0mvalues\u001b[0m\u001b[0;34m,\u001b[0m \u001b[0mf\u001b[0m\u001b[0;34m,\u001b[0m \u001b[0mconvert\u001b[0m\u001b[0;34m=\u001b[0m\u001b[0mconvert_dtype\u001b[0m\u001b[0;34m)\u001b[0m\u001b[0;34m\u001b[0m\u001b[0m\n\u001b[0m\u001b[1;32m   2170\u001b[0m         \u001b[0;32mif\u001b[0m \u001b[0mlen\u001b[0m\u001b[0;34m(\u001b[0m\u001b[0mmapped\u001b[0m\u001b[0;34m)\u001b[0m \u001b[0;32mand\u001b[0m \u001b[0misinstance\u001b[0m\u001b[0;34m(\u001b[0m\u001b[0mmapped\u001b[0m\u001b[0;34m[\u001b[0m\u001b[0;36m0\u001b[0m\u001b[0;34m]\u001b[0m\u001b[0;34m,\u001b[0m \u001b[0mSeries\u001b[0m\u001b[0;34m)\u001b[0m\u001b[0;34m:\u001b[0m\u001b[0;34m\u001b[0m\u001b[0m\n\u001b[1;32m   2171\u001b[0m             \u001b[0;32mfrom\u001b[0m \u001b[0mpandas\u001b[0m\u001b[0;34m.\u001b[0m\u001b[0mcore\u001b[0m\u001b[0;34m.\u001b[0m\u001b[0mframe\u001b[0m \u001b[0;32mimport\u001b[0m \u001b[0mDataFrame\u001b[0m\u001b[0;34m\u001b[0m\u001b[0m\n",
      "\u001b[0;32mpandas/src/inference.pyx\u001b[0m in \u001b[0;36mpandas.lib.map_infer (pandas/lib.c:62578)\u001b[0;34m()\u001b[0m\n",
      "\u001b[0;32m/usr/lib/python2.7/dist-packages/pandas/tools/util.pyc\u001b[0m in \u001b[0;36mto_numeric\u001b[0;34m(arg, errors)\u001b[0m\n\u001b[1;32m     94\u001b[0m         conv = lib.maybe_convert_numeric(arg,\n\u001b[1;32m     95\u001b[0m                                          \u001b[0mset\u001b[0m\u001b[0;34m(\u001b[0m\u001b[0;34m)\u001b[0m\u001b[0;34m,\u001b[0m\u001b[0;34m\u001b[0m\u001b[0m\n\u001b[0;32m---> 96\u001b[0;31m                                          coerce_numeric=coerce_numeric)\n\u001b[0m\u001b[1;32m     97\u001b[0m     \u001b[0;32mexcept\u001b[0m\u001b[0;34m:\u001b[0m\u001b[0;34m\u001b[0m\u001b[0m\n\u001b[1;32m     98\u001b[0m         \u001b[0;32mif\u001b[0m \u001b[0merrors\u001b[0m \u001b[0;34m==\u001b[0m \u001b[0;34m'raise'\u001b[0m\u001b[0;34m:\u001b[0m\u001b[0;34m\u001b[0m\u001b[0m\n",
      "\u001b[0;32mpandas/src/inference.pyx\u001b[0m in \u001b[0;36mpandas.lib.maybe_convert_numeric (pandas/lib.c:52369)\u001b[0;34m()\u001b[0m\n",
      "\u001b[0;31mValueError\u001b[0m: Buffer has wrong number of dimensions (expected 1, got 0)"
     ]
=======
<<<<<<< HEAD:src/wrf_sgd_models.ipynb
   "execution_count": 2,
   "metadata": {},
=======
   "execution_count": 14,
   "metadata": {
    "collapsed": false
   },
>>>>>>> fce04edae95790f41e5dba78c5d59f7240c808eb:src/.ipynb_checkpoints/basheer_stuff_2-checkpoint.ipynb
   "outputs": [
    {
     "data": {
      "text/html": [
       "<div>\n",
       "<style scoped>\n",
       "    .dataframe tbody tr th:only-of-type {\n",
       "        vertical-align: middle;\n",
       "    }\n",
       "\n",
       "    .dataframe tbody tr th {\n",
       "        vertical-align: top;\n",
       "    }\n",
       "\n",
       "    .dataframe thead th {\n",
       "        text-align: right;\n",
       "    }\n",
       "</style>\n",
       "<table border=\"1\" class=\"dataframe\">\n",
       "  <thead>\n",
       "    <tr style=\"text-align: right;\">\n",
       "      <th></th>\n",
       "      <th>Country / territory of asylum/residence</th>\n",
       "      <th>Origin</th>\n",
       "      <th>Year</th>\n",
       "      <th>Month</th>\n",
       "      <th>Value</th>\n",
       "    </tr>\n",
       "  </thead>\n",
       "  <tbody>\n",
       "    <tr>\n",
       "      <th>0</th>\n",
       "      <td>Greece</td>\n",
       "      <td>Georgia</td>\n",
       "      <td>2008</td>\n",
       "      <td>March</td>\n",
       "      <td>140</td>\n",
       "    </tr>\n",
       "    <tr>\n",
       "      <th>1</th>\n",
       "      <td>Greece</td>\n",
       "      <td>Georgia</td>\n",
       "      <td>2008</td>\n",
       "      <td>April</td>\n",
       "      <td>199</td>\n",
       "    </tr>\n",
       "    <tr>\n",
       "      <th>2</th>\n",
       "      <td>Greece</td>\n",
       "      <td>Georgia</td>\n",
       "      <td>2008</td>\n",
       "      <td>May</td>\n",
       "      <td>210</td>\n",
       "    </tr>\n",
       "    <tr>\n",
       "      <th>3</th>\n",
       "      <td>Greece</td>\n",
       "      <td>Georgia</td>\n",
       "      <td>2008</td>\n",
       "      <td>June</td>\n",
       "      <td>208</td>\n",
       "    </tr>\n",
       "    <tr>\n",
       "      <th>4</th>\n",
       "      <td>Greece</td>\n",
       "      <td>Georgia</td>\n",
       "      <td>2008</td>\n",
       "      <td>July</td>\n",
       "      <td>224</td>\n",
       "    </tr>\n",
       "  </tbody>\n",
       "</table>\n",
       "</div>"
      ],
      "text/plain": [
       "  Country / territory of asylum/residence   Origin  Year  Month  Value\n",
       "0                                  Greece  Georgia  2008  March    140\n",
       "1                                  Greece  Georgia  2008  April    199\n",
       "2                                  Greece  Georgia  2008    May    210\n",
       "3                                  Greece  Georgia  2008   June    208\n",
       "4                                  Greece  Georgia  2008   July    224"
      ]
     },
<<<<<<< HEAD:src/wrf_sgd_models.ipynb
     "execution_count": 2,
=======
     "execution_count": 14,
>>>>>>> fce04edae95790f41e5dba78c5d59f7240c808eb:src/.ipynb_checkpoints/basheer_stuff_2-checkpoint.ipynb
     "metadata": {},
     "output_type": "execute_result"
>>>>>>> 474b809caea95617b84549b7d90a9e7b14431a0e:src/wrf_sgd_models.ipynb
    }
   ],
   "source": [
    "monthlyAsylumSeekers = pd.read_csv(\"../data/refugee_monthly.csv\", sep=\",\", engine='python', encoding ='latin1')   \n",
    "monthlyAsylumSeekers = monthlyAsylumSeekers[monthlyAsylumSeekers['Value'] != '*']\n",
    "monthlyAsylumSeekers['Value'] = monthlyAsylumSeekers['Value'].apply(pd.to_numeric)\n",
    "monthlyAsylumSeekers.head()"
   ]
  },
  {
   "cell_type": "code",
<<<<<<< HEAD:src/wrf_sgd_models.ipynb
   "execution_count": 3,
   "metadata": {},
=======
   "execution_count": 15,
<<<<<<< HEAD:src/basheer_stuff_2.ipynb
   "metadata": {},
=======
   "metadata": {
    "collapsed": false
   },
>>>>>>> fce04edae95790f41e5dba78c5d59f7240c808eb:src/.ipynb_checkpoints/basheer_stuff_2-checkpoint.ipynb
>>>>>>> 474b809caea95617b84549b7d90a9e7b14431a0e:src/wrf_sgd_models.ipynb
   "outputs": [
    {
     "data": {
      "text/html": [
       "<div>\n",
       "<style scoped>\n",
       "    .dataframe tbody tr th:only-of-type {\n",
       "        vertical-align: middle;\n",
       "    }\n",
       "\n",
       "    .dataframe tbody tr th {\n",
       "        vertical-align: top;\n",
       "    }\n",
       "\n",
       "    .dataframe thead th {\n",
       "        text-align: right;\n",
       "    }\n",
       "</style>\n",
       "<table border=\"1\" class=\"dataframe\">\n",
       "  <thead>\n",
       "    <tr style=\"text-align: right;\">\n",
       "      <th></th>\n",
       "      <th>Country_territoryofasylum_residence</th>\n",
       "      <th>Origin</th>\n",
       "      <th>Year</th>\n",
       "      <th>Month</th>\n",
       "      <th>Value</th>\n",
       "    </tr>\n",
       "  </thead>\n",
       "  <tbody>\n",
       "    <tr>\n",
       "      <th>0</th>\n",
       "      <td>Greece</td>\n",
       "      <td>Georgia</td>\n",
       "      <td>2008</td>\n",
       "      <td>March</td>\n",
       "      <td>140</td>\n",
       "    </tr>\n",
       "    <tr>\n",
       "      <th>1</th>\n",
       "      <td>Greece</td>\n",
       "      <td>Georgia</td>\n",
       "      <td>2008</td>\n",
       "      <td>April</td>\n",
       "      <td>199</td>\n",
       "    </tr>\n",
       "    <tr>\n",
       "      <th>2</th>\n",
       "      <td>Greece</td>\n",
       "      <td>Georgia</td>\n",
       "      <td>2008</td>\n",
       "      <td>May</td>\n",
       "      <td>210</td>\n",
       "    </tr>\n",
       "    <tr>\n",
       "      <th>3</th>\n",
       "      <td>Greece</td>\n",
       "      <td>Georgia</td>\n",
       "      <td>2008</td>\n",
       "      <td>June</td>\n",
       "      <td>208</td>\n",
       "    </tr>\n",
       "    <tr>\n",
       "      <th>4</th>\n",
       "      <td>Greece</td>\n",
       "      <td>Georgia</td>\n",
       "      <td>2008</td>\n",
       "      <td>July</td>\n",
       "      <td>224</td>\n",
       "    </tr>\n",
       "  </tbody>\n",
       "</table>\n",
       "</div>"
      ],
      "text/plain": [
       "  Country_territoryofasylum_residence   Origin  Year  Month  Value\n",
       "0                              Greece  Georgia  2008  March    140\n",
       "1                              Greece  Georgia  2008  April    199\n",
       "2                              Greece  Georgia  2008    May    210\n",
       "3                              Greece  Georgia  2008   June    208\n",
       "4                              Greece  Georgia  2008   July    224"
      ]
     },
<<<<<<< HEAD:src/wrf_sgd_models.ipynb
     "execution_count": 3,
=======
     "execution_count": 15,
>>>>>>> fce04edae95790f41e5dba78c5d59f7240c808eb:src/.ipynb_checkpoints/basheer_stuff_2-checkpoint.ipynb
     "metadata": {},
     "output_type": "execute_result"
    }
   ],
   "source": [
    "monthlyAsylumSeekers.sort_values(by=['Year'])\n",
    "monthlyAsylumSeekers.rename(columns={'Country / territory of asylum/residence':'Country_territoryofasylum_residence'}, inplace=True)\n",
    "monthlyAsylumSeekers.head()"
   ]
  },
  {
   "cell_type": "code",
<<<<<<< HEAD:src/wrf_sgd_models.ipynb
   "execution_count": 4,
   "metadata": {},
=======
   "execution_count": 16,
   "metadata": {
    "collapsed": true
   },
>>>>>>> fce04edae95790f41e5dba78c5d59f7240c808eb:src/.ipynb_checkpoints/basheer_stuff_2-checkpoint.ipynb
   "outputs": [],
   "source": [
    "from sklearn import preprocessing\n",
    "countryTrainer=preprocessing.LabelEncoder()\n",
    "originTrainer=preprocessing.LabelEncoder()\n",
    "monthTrainer=preprocessing.LabelEncoder()"
   ]
  },
  {
   "cell_type": "markdown",
   "metadata": {},
   "source": [
    "Transform categorical into numerical"
   ]
  },
  {
   "cell_type": "code",
<<<<<<< HEAD:src/wrf_sgd_models.ipynb
   "execution_count": 5,
   "metadata": {},
=======
   "execution_count": 17,
<<<<<<< HEAD:src/basheer_stuff_2.ipynb
   "metadata": {},
=======
   "metadata": {
    "collapsed": false
   },
>>>>>>> fce04edae95790f41e5dba78c5d59f7240c808eb:src/.ipynb_checkpoints/basheer_stuff_2-checkpoint.ipynb
>>>>>>> 474b809caea95617b84549b7d90a9e7b14431a0e:src/wrf_sgd_models.ipynb
   "outputs": [
    {
     "data": {
      "text/html": [
       "<div>\n",
       "<style scoped>\n",
       "    .dataframe tbody tr th:only-of-type {\n",
       "        vertical-align: middle;\n",
       "    }\n",
       "\n",
       "    .dataframe tbody tr th {\n",
       "        vertical-align: top;\n",
       "    }\n",
       "\n",
       "    .dataframe thead th {\n",
       "        text-align: right;\n",
       "    }\n",
       "</style>\n",
       "<table border=\"1\" class=\"dataframe\">\n",
       "  <thead>\n",
       "    <tr style=\"text-align: right;\">\n",
       "      <th></th>\n",
       "      <th>Country_territoryofasylum_residence</th>\n",
       "      <th>Origin</th>\n",
       "      <th>Month</th>\n",
       "    </tr>\n",
       "  </thead>\n",
       "  <tbody>\n",
       "    <tr>\n",
       "      <th>0</th>\n",
       "      <td>15</td>\n",
       "      <td>68</td>\n",
       "      <td>7</td>\n",
       "    </tr>\n",
       "    <tr>\n",
       "      <th>1</th>\n",
       "      <td>15</td>\n",
       "      <td>68</td>\n",
       "      <td>0</td>\n",
       "    </tr>\n",
       "    <tr>\n",
       "      <th>2</th>\n",
       "      <td>15</td>\n",
       "      <td>68</td>\n",
       "      <td>8</td>\n",
       "    </tr>\n",
       "    <tr>\n",
       "      <th>3</th>\n",
       "      <td>15</td>\n",
       "      <td>68</td>\n",
       "      <td>6</td>\n",
       "    </tr>\n",
       "    <tr>\n",
       "      <th>4</th>\n",
       "      <td>15</td>\n",
       "      <td>68</td>\n",
       "      <td>5</td>\n",
       "    </tr>\n",
       "  </tbody>\n",
       "</table>\n",
       "</div>"
      ],
      "text/plain": [
       "   Country_territoryofasylum_residence  Origin  Month\n",
       "0                                   15      68      7\n",
       "1                                   15      68      0\n",
       "2                                   15      68      8\n",
       "3                                   15      68      6\n",
       "4                                   15      68      5"
      ]
     },
<<<<<<< HEAD:src/wrf_sgd_models.ipynb
     "execution_count": 5,
=======
     "execution_count": 17,
>>>>>>> fce04edae95790f41e5dba78c5d59f7240c808eb:src/.ipynb_checkpoints/basheer_stuff_2-checkpoint.ipynb
     "metadata": {},
     "output_type": "execute_result"
    }
   ],
   "source": [
    "\n",
    "monthlyAsylumSeekers['Country_territoryofasylum_residence']=countryTrainer.fit_transform(monthlyAsylumSeekers['Country_territoryofasylum_residence'])\n",
    "monthlyAsylumSeekers['Month']=monthTrainer.fit_transform(monthlyAsylumSeekers['Month'])\n",
    "monthlyAsylumSeekers['Origin']=originTrainer.fit_transform(monthlyAsylumSeekers['Origin'])\n",
    "monthlyAsylumSeekers[['Country_territoryofasylum_residence','Origin', 'Month']].head()"
   ]
  },
  {
   "cell_type": "markdown",
   "metadata": {},
   "source": [
    "Test to see if it works"
   ]
  },
  {
   "cell_type": "code",
<<<<<<< HEAD:src/wrf_sgd_models.ipynb
   "execution_count": 6,
   "metadata": {},
=======
   "execution_count": 24,
<<<<<<< HEAD:src/basheer_stuff_2.ipynb
   "metadata": {},
=======
   "metadata": {
    "collapsed": false
   },
>>>>>>> fce04edae95790f41e5dba78c5d59f7240c808eb:src/.ipynb_checkpoints/basheer_stuff_2-checkpoint.ipynb
>>>>>>> 474b809caea95617b84549b7d90a9e7b14431a0e:src/wrf_sgd_models.ipynb
   "outputs": [
    {
     "name": "stdout",
     "output_type": "stream",
     "text": [
      "[u'April' u'August' u'December' u'February' u'January' u'July' u'June'\n",
      " u'March' u'May' u'November' u'October' u'September']\n",
      "[7 0 8]\n",
      "[15]\n",
      "United Kingdom of Great Britain and Northern Ireland\n",
      "[68]\n"
     ]
    }
   ],
   "source": [
    "print monthTrainer.inverse_transform([0,1,2,3,4,5,6,7,8,9,10,11])\n",
    "print monthTrainer.transform(['March','April','May'])\n",
    "print countryTrainer.transform(['Greece'])\n",
    "print originTrainer.transform(['Georgia'])"
   ]
  },
  {
   "cell_type": "markdown",
   "metadata": {},
   "source": [
    "Gonna try SGD classifier first so y needs to be categorical country of asylum"
   ]
  },
  {
   "cell_type": "code",
<<<<<<< HEAD:src/wrf_sgd_models.ipynb
   "execution_count": 7,
   "metadata": {},
=======
   "execution_count": 19,
<<<<<<< HEAD:src/basheer_stuff_2.ipynb
   "metadata": {},
=======
   "metadata": {
    "collapsed": false
   },
>>>>>>> fce04edae95790f41e5dba78c5d59f7240c808eb:src/.ipynb_checkpoints/basheer_stuff_2-checkpoint.ipynb
>>>>>>> 474b809caea95617b84549b7d90a9e7b14431a0e:src/wrf_sgd_models.ipynb
   "outputs": [
    {
     "data": {
      "text/plain": [
       "0    15\n",
       "1    15\n",
       "2    15\n",
       "3    15\n",
       "4    15\n",
       "Name: Country_territoryofasylum_residence, dtype: int64"
      ]
     },
<<<<<<< HEAD:src/wrf_sgd_models.ipynb
     "execution_count": 7,
=======
     "execution_count": 19,
>>>>>>> fce04edae95790f41e5dba78c5d59f7240c808eb:src/.ipynb_checkpoints/basheer_stuff_2-checkpoint.ipynb
     "metadata": {},
     "output_type": "execute_result"
    }
   ],
   "source": [
    "X=monthlyAsylumSeekers[['Value','Origin','Month']]\n",
    "y=monthlyAsylumSeekers['Country_territoryofasylum_residence']\n",
    "y.head()"
   ]
  },
  {
   "cell_type": "markdown",
   "metadata": {},
   "source": [
    "Test linear regression (not important, but wanted to see)"
   ]
  },
  {
   "cell_type": "code",
<<<<<<< HEAD:src/wrf_sgd_models.ipynb
   "execution_count": 8,
   "metadata": {},
=======
   "execution_count": 20,
   "metadata": {
    "collapsed": true
   },
>>>>>>> fce04edae95790f41e5dba78c5d59f7240c808eb:src/.ipynb_checkpoints/basheer_stuff_2-checkpoint.ipynb
   "outputs": [],
   "source": [
    "lm = linear_model.LinearRegression()\n",
    "# create a fitted model for the countries\n",
    "#lm = smf.ols(formula='Country_territoryofasylum_residence ~ Value + Origin + Month', data=monthlyAsylumSeekers).fit()\n",
    "#lm=smf.ols(Y, X).fit()\n",
    "model=lm.fit(X,y)"
   ]
  },
  {
   "cell_type": "code",
<<<<<<< HEAD:src/wrf_sgd_models.ipynb
   "execution_count": 9,
   "metadata": {},
=======
   "execution_count": 21,
<<<<<<< HEAD:src/basheer_stuff_2.ipynb
   "metadata": {},
=======
   "metadata": {
    "collapsed": false
   },
>>>>>>> fce04edae95790f41e5dba78c5d59f7240c808eb:src/.ipynb_checkpoints/basheer_stuff_2-checkpoint.ipynb
>>>>>>> 474b809caea95617b84549b7d90a9e7b14431a0e:src/wrf_sgd_models.ipynb
   "outputs": [
    {
     "name": "stdout",
     "output_type": "stream",
     "text": [
      "[26.589428543664752]\n"
     ]
    }
   ],
   "source": [
    "prediction=model.predict([[200,originTrainer.transform(['Afghanistan'])[0],monthTrainer.transform(['March'])[0]]]).tolist()\n",
    "print prediction"
   ]
  },
  {
   "cell_type": "markdown",
   "metadata": {},
   "source": [
    "SGDClassifier to predict where a country of asylum based on value, month, and country of origin"
   ]
  },
  {
   "cell_type": "code",
<<<<<<< HEAD:src/wrf_sgd_models.ipynb
   "execution_count": 38,
   "metadata": {},
   "outputs": [
    {
=======
   "execution_count": 22,
   "metadata": {},
   "outputs": [
    {
     "name": "stderr",
     "output_type": "stream",
     "text": [
      "C:\\Users\\Basheer\\Anaconda2\\lib\\site-packages\\sklearn\\linear_model\\stochastic_gradient.py:84: FutureWarning:\n",
      "\n",
      "max_iter and tol parameters have been added in <class 'sklearn.linear_model.stochastic_gradient.SGDClassifier'> in 0.19. If both are left unset, they default to max_iter=5 and tol=None. If tol is not None, max_iter defaults to max_iter=1000. From 0.21, default max_iter will be 1000, and default tol will be 1e-3.\n",
      "\n"
     ]
    },
    {
>>>>>>> fce04edae95790f41e5dba78c5d59f7240c808eb:src/.ipynb_checkpoints/basheer_stuff_2-checkpoint.ipynb
     "data": {
      "text/plain": [
       "SGDClassifier(alpha=0.0001, average=False, class_weight=None, epsilon=0.1,\n",
       "       eta0=0.0, fit_intercept=True, l1_ratio=0.15,\n",
<<<<<<< HEAD:src/wrf_sgd_models.ipynb
       "       learning_rate='optimal', loss='hinge', max_iter=None, n_iter=None,\n",
=======
       "       learning_rate='optimal', loss='hinge', max_iter=5, n_iter=None,\n",
>>>>>>> fce04edae95790f41e5dba78c5d59f7240c808eb:src/.ipynb_checkpoints/basheer_stuff_2-checkpoint.ipynb
       "       n_jobs=1, penalty='l2', power_t=0.5, random_state=None,\n",
       "       shuffle=True, tol=None, verbose=0, warm_start=False)"
      ]
     },
<<<<<<< HEAD:src/wrf_sgd_models.ipynb
     "execution_count": 38,
=======
     "execution_count": 22,
>>>>>>> fce04edae95790f41e5dba78c5d59f7240c808eb:src/.ipynb_checkpoints/basheer_stuff_2-checkpoint.ipynb
     "metadata": {},
     "output_type": "execute_result"
    }
   ],
   "source": [
    "clf = linear_model.SGDClassifier()\n",
    "clf.fit(X, y)"
   ]
  },
  {
   "cell_type": "markdown",
   "metadata": {},
   "source": [
    "Test"
   ]
  },
  {
   "cell_type": "code",
   "execution_count": 23,
   "metadata": {},
   "outputs": [
    {
     "data": {
      "text/plain": [
       "array([44], dtype=int64)"
      ]
     },
     "execution_count": 23,
     "metadata": {},
     "output_type": "execute_result"
    }
   ],
   "source": [
    "clf.predict([[110,originTrainer.transform(['Afghanistan'])[0],monthTrainer.transform(['March'])[0]]])"
   ]
  },
  {
   "cell_type": "code",
   "execution_count": 25,
   "metadata": {},
   "outputs": [
    {
     "name": "stdout",
     "output_type": "stream",
     "text": [
      "United Kingdom of Great Britain and Northern Ireland\n"
     ]
    }
   ],
   "source": [
    "print countryTrainer.inverse_transform(44)"
   ]
  },
  {
   "cell_type": "code",
   "execution_count": 43,
   "metadata": {},
   "outputs": [
    {
     "data": {
      "text/plain": [
       "array([19])"
      ]
     },
     "execution_count": 43,
     "metadata": {},
     "output_type": "execute_result"
    }
   ],
   "source": [
    "clf.predict([[110,originTrainer.transform(['Syrian Arab Rep.'])[0], monthTrainer.transform(['April'])[0]]])"
   ]
  },
  {
   "cell_type": "code",
   "execution_count": 44,
   "metadata": {},
   "outputs": [
    {
     "name": "stdout",
     "output_type": "stream",
     "text": [
      "Italy\n"
     ]
    }
   ],
   "source": [
    "print countryTrainer.inverse_transform(19)"
   ]
  },
  {
   "cell_type": "code",
   "execution_count": null,
   "metadata": {},
   "outputs": [],
   "source": []
  }
 ],
 "metadata": {
  "anaconda-cloud": {},
  "kernelspec": {
   "display_name": "Python 2",
   "language": "python",
   "name": "python2"
  },
  "language_info": {
   "codemirror_mode": {
    "name": "ipython",
    "version": 2
   },
   "file_extension": ".py",
   "mimetype": "text/x-python",
   "name": "python",
   "nbconvert_exporter": "python",
   "pygments_lexer": "ipython2",
   "version": "2.7.12"
  }
 },
 "nbformat": 4,
 "nbformat_minor": 2
}
