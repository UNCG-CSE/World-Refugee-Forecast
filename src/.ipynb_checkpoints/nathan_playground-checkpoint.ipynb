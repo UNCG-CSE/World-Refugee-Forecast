{
 "cells": [
  {
   "cell_type": "code",
   "execution_count": 3,
   "metadata": {},
   "outputs": [],
   "source": [
    "%matplotlib inline\n",
    "import matplotlib.pyplot as plt\n",
    "import pandas as pd\n",
    "import numpy as np\n",
    "import seaborn as sns\n",
    "import scipy.stats as stats\n",
    "from scipy.stats import poisson\n",
    "import plotly \n",
    "import plotly.plotly as py \n",
    "import plotly.figure_factory as ff\n",
    "from plotly.graph_objs import *\n",
    "import cufflinks as cf\n",
    "plotly.tools.set_credentials_file(username='bluecrayon52', api_key='jidjcpp2L31WYmRfaHZx')\n"
   ]
  },
  {
   "cell_type": "code",
   "execution_count": 20,
   "metadata": {},
   "outputs": [
    {
     "data": {
      "text/html": [
       "<div>\n",
       "<style scoped>\n",
       "    .dataframe tbody tr th:only-of-type {\n",
       "        vertical-align: middle;\n",
       "    }\n",
       "\n",
       "    .dataframe tbody tr th {\n",
       "        vertical-align: top;\n",
       "    }\n",
       "\n",
       "    .dataframe thead th {\n",
       "        text-align: right;\n",
       "    }\n",
       "</style>\n",
       "<table border=\"1\" class=\"dataframe\">\n",
       "  <thead>\n",
       "    <tr style=\"text-align: right;\">\n",
       "      <th></th>\n",
       "      <th>Country / territory of asylum/residence</th>\n",
       "      <th>Origin</th>\n",
       "      <th>Year</th>\n",
       "      <th>Month</th>\n",
       "      <th>Value</th>\n",
       "    </tr>\n",
       "  </thead>\n",
       "  <tbody>\n",
       "    <tr>\n",
       "      <th>315117</th>\n",
       "      <td>Germany</td>\n",
       "      <td>Syrian Arab Rep.</td>\n",
       "      <td>2016</td>\n",
       "      <td>February</td>\n",
       "      <td>36860.0</td>\n",
       "    </tr>\n",
       "    <tr>\n",
       "      <th>293335</th>\n",
       "      <td>Germany</td>\n",
       "      <td>Syrian Arab Rep.</td>\n",
       "      <td>2015</td>\n",
       "      <td>November</td>\n",
       "      <td>30863.0</td>\n",
       "    </tr>\n",
       "    <tr>\n",
       "      <th>315118</th>\n",
       "      <td>Germany</td>\n",
       "      <td>Syrian Arab Rep.</td>\n",
       "      <td>2016</td>\n",
       "      <td>March</td>\n",
       "      <td>30856.0</td>\n",
       "    </tr>\n",
       "    <tr>\n",
       "      <th>315116</th>\n",
       "      <td>Germany</td>\n",
       "      <td>Syrian Arab Rep.</td>\n",
       "      <td>2016</td>\n",
       "      <td>January</td>\n",
       "      <td>30261.0</td>\n",
       "    </tr>\n",
       "    <tr>\n",
       "      <th>293334</th>\n",
       "      <td>Germany</td>\n",
       "      <td>Syrian Arab Rep.</td>\n",
       "      <td>2015</td>\n",
       "      <td>October</td>\n",
       "      <td>30216.0</td>\n",
       "    </tr>\n",
       "    <tr>\n",
       "      <th>315119</th>\n",
       "      <td>Germany</td>\n",
       "      <td>Syrian Arab Rep.</td>\n",
       "      <td>2016</td>\n",
       "      <td>April</td>\n",
       "      <td>28561.0</td>\n",
       "    </tr>\n",
       "    <tr>\n",
       "      <th>315123</th>\n",
       "      <td>Germany</td>\n",
       "      <td>Syrian Arab Rep.</td>\n",
       "      <td>2016</td>\n",
       "      <td>August</td>\n",
       "      <td>27315.0</td>\n",
       "    </tr>\n",
       "    <tr>\n",
       "      <th>315121</th>\n",
       "      <td>Germany</td>\n",
       "      <td>Syrian Arab Rep.</td>\n",
       "      <td>2016</td>\n",
       "      <td>June</td>\n",
       "      <td>26454.0</td>\n",
       "    </tr>\n",
       "    <tr>\n",
       "      <th>293336</th>\n",
       "      <td>Germany</td>\n",
       "      <td>Syrian Arab Rep.</td>\n",
       "      <td>2015</td>\n",
       "      <td>December</td>\n",
       "      <td>25250.0</td>\n",
       "    </tr>\n",
       "    <tr>\n",
       "      <th>315122</th>\n",
       "      <td>Germany</td>\n",
       "      <td>Syrian Arab Rep.</td>\n",
       "      <td>2016</td>\n",
       "      <td>July</td>\n",
       "      <td>23979.0</td>\n",
       "    </tr>\n",
       "  </tbody>\n",
       "</table>\n",
       "</div>"
      ],
      "text/plain": [
       "       Country / territory of asylum/residence            Origin  Year  \\\n",
       "315117                                 Germany  Syrian Arab Rep.  2016   \n",
       "293335                                 Germany  Syrian Arab Rep.  2015   \n",
       "315118                                 Germany  Syrian Arab Rep.  2016   \n",
       "315116                                 Germany  Syrian Arab Rep.  2016   \n",
       "293334                                 Germany  Syrian Arab Rep.  2015   \n",
       "315119                                 Germany  Syrian Arab Rep.  2016   \n",
       "315123                                 Germany  Syrian Arab Rep.  2016   \n",
       "315121                                 Germany  Syrian Arab Rep.  2016   \n",
       "293336                                 Germany  Syrian Arab Rep.  2015   \n",
       "315122                                 Germany  Syrian Arab Rep.  2016   \n",
       "\n",
       "           Month    Value  \n",
       "315117  February  36860.0  \n",
       "293335  November  30863.0  \n",
       "315118     March  30856.0  \n",
       "315116   January  30261.0  \n",
       "293334   October  30216.0  \n",
       "315119     April  28561.0  \n",
       "315123    August  27315.0  \n",
       "315121      June  26454.0  \n",
       "293336  December  25250.0  \n",
       "315122      July  23979.0  "
      ]
     },
     "execution_count": 20,
     "metadata": {},
     "output_type": "execute_result"
    }
   ],
   "source": [
    "df = pd.read_csv(\"../data/asylum_seekers_monthly.csv\", header = 3, low_memory=False, dtype={'Year': str})\n",
    "df['Value'] = pd.to_numeric(df['Value'], errors='coerce')\n",
    "df=df.dropna(subset=['Value'])\n",
    "# df.dtypes\n",
    "df.sort_values('Value',ascending=False).head(10)"
   ]
  },
  {
   "cell_type": "code",
   "execution_count": 9,
   "metadata": {},
   "outputs": [
    {
     "data": {
      "text/html": [
       "<div>\n",
       "<style scoped>\n",
       "    .dataframe tbody tr th:only-of-type {\n",
       "        vertical-align: middle;\n",
       "    }\n",
       "\n",
       "    .dataframe tbody tr th {\n",
       "        vertical-align: top;\n",
       "    }\n",
       "\n",
       "    .dataframe thead th {\n",
       "        text-align: right;\n",
       "    }\n",
       "</style>\n",
       "<table border=\"1\" class=\"dataframe\">\n",
       "  <thead>\n",
       "    <tr style=\"text-align: right;\">\n",
       "      <th></th>\n",
       "      <th>Value</th>\n",
       "    </tr>\n",
       "  </thead>\n",
       "  <tbody>\n",
       "    <tr>\n",
       "      <th>count</th>\n",
       "      <td>5994.000000</td>\n",
       "    </tr>\n",
       "    <tr>\n",
       "      <th>mean</th>\n",
       "      <td>158.915916</td>\n",
       "    </tr>\n",
       "    <tr>\n",
       "      <th>std</th>\n",
       "      <td>771.702755</td>\n",
       "    </tr>\n",
       "    <tr>\n",
       "      <th>min</th>\n",
       "      <td>1.000000</td>\n",
       "    </tr>\n",
       "    <tr>\n",
       "      <th>25%</th>\n",
       "      <td>6.000000</td>\n",
       "    </tr>\n",
       "    <tr>\n",
       "      <th>50%</th>\n",
       "      <td>28.000000</td>\n",
       "    </tr>\n",
       "    <tr>\n",
       "      <th>75%</th>\n",
       "      <td>95.000000</td>\n",
       "    </tr>\n",
       "    <tr>\n",
       "      <th>max</th>\n",
       "      <td>20353.000000</td>\n",
       "    </tr>\n",
       "  </tbody>\n",
       "</table>\n",
       "</div>"
      ],
      "text/plain": [
       "              Value\n",
       "count   5994.000000\n",
       "mean     158.915916\n",
       "std      771.702755\n",
       "min        1.000000\n",
       "25%        6.000000\n",
       "50%       28.000000\n",
       "75%       95.000000\n",
       "max    20353.000000"
      ]
     },
     "execution_count": 9,
     "metadata": {},
     "output_type": "execute_result"
    }
   ],
   "source": [
    "afg = df[df['Origin']=='Afghanistan']\n",
    "afg.describe()\n"
   ]
  },
  {
   "cell_type": "code",
   "execution_count": 50,
   "metadata": {},
   "outputs": [],
   "source": [
    "afg_mean = int(round(afg.mean()))\n",
    "afg_median = afg.median()\n",
    "afg_var = afg.var()\n",
    "afg_std = afg.std()\n",
    "afg_mad = abs(afg['Value'] - afg['Value'].median()).median()*1.4826"
   ]
  },
  {
   "cell_type": "code",
   "execution_count": 97,
   "metadata": {
    "scrolled": true
   },
   "outputs": [
    {
     "data": {
      "text/plain": [
       "<matplotlib.collections.LineCollection at 0x11fb30490>"
      ]
     },
     "execution_count": 97,
     "metadata": {},
     "output_type": "execute_result"
    },
    {
     "data": {
      "image/png": "[encoded data removed]",
      "text/plain": [
       "<matplotlib.figure.Figure at 0x11f9d8d50>"
      ]
     },
     "metadata": {},
     "output_type": "display_data"
    }
   ],
   "source": [
    "afg.plot(kind=\"density\",\n",
    "                figsize=(10,5),\n",
    "                xlim=(0, 800))\n",
    "\n",
    "\n",
    "plt.vlines(afg_mean,     # Plot black line at mean\n",
    "           ymin=0, \n",
    "           ymax=0.0025,\n",
    "           linewidth=2.0)\n",
    "\n",
    "plt.vlines(afg_median,   # Plot red line at median\n",
    "           ymin=0, \n",
    "           ymax=0.0025,\n",
    "           linewidth=2.0,\n",
    "           color=\"red\")\n",
    "\n",
    "# plt.vlines(afg_var,   # Plot blue line at variance \n",
    "#            ymin=0, \n",
    "#            ymax=0.0022,\n",
    "#            linewidth=2.0,\n",
    "#            color=\"blue\")\n",
    "\n",
    "plt.vlines(afg_std,   # Plot green line at standard deviation\n",
    "           ymin=0, \n",
    "           ymax=0.0025,\n",
    "           linewidth=2.0,\n",
    "           color=\"green\")\n",
    "\n",
    "plt.vlines(afg_mad,   # Plot  yellow line at median absolute deviation\n",
    "           ymin=0, \n",
    "           ymax=0.0025,\n",
    "           linewidth=2.0,\n",
    "           color=\"yellow\")"
   ]
  },
  {
   "cell_type": "code",
   "execution_count": 169,
   "metadata": {},
   "outputs": [
    {
     "data": {
      "text/plain": [
       "<matplotlib.collections.LineCollection at 0x123035390>"
      ]
     },
     "execution_count": 169,
     "metadata": {},
     "output_type": "execute_result"
    },
    {
     "data": {
      "image/png": "[encoded data removed]",
      "text/plain": [
       "<matplotlib.figure.Figure at 0x1230356d0>"
      ]
     },
     "metadata": {},
     "output_type": "display_data"
    }
   ],
   "source": [
    "fig, ax = plt.subplots(1, 1)\n",
    "mu = afg_mean\n",
    "mean, var, skew, kurt = poisson.stats(mu, moments='mvsk')\n",
    "x = np.arange(poisson.ppf(0.01, mu), poisson.ppf(0.99, mu))\n",
    "ax.plot(x, poisson.pmf(x, mu), 'bo', ms=8, label='poisson pmf')\n",
    "ax.vlines(x, 0, poisson.pmf(x, mu), colors='b', lw=5, alpha=0.5)"
   ]
  },
  {
   "cell_type": "code",
   "execution_count": 10,
   "metadata": {
    "scrolled": true
   },
   "outputs": [
    {
     "data": {
      "text/html": [
       "<div>\n",
       "<style scoped>\n",
       "    .dataframe tbody tr th:only-of-type {\n",
       "        vertical-align: middle;\n",
       "    }\n",
       "\n",
       "    .dataframe tbody tr th {\n",
       "        vertical-align: top;\n",
       "    }\n",
       "\n",
       "    .dataframe thead th {\n",
       "        text-align: right;\n",
       "    }\n",
       "</style>\n",
       "<table border=\"1\" class=\"dataframe\">\n",
       "  <thead>\n",
       "    <tr style=\"text-align: right;\">\n",
       "      <th></th>\n",
       "      <th>Value</th>\n",
       "    </tr>\n",
       "  </thead>\n",
       "  <tbody>\n",
       "    <tr>\n",
       "      <th>count</th>\n",
       "      <td>6243.000000</td>\n",
       "    </tr>\n",
       "    <tr>\n",
       "      <th>mean</th>\n",
       "      <td>144.200545</td>\n",
       "    </tr>\n",
       "    <tr>\n",
       "      <th>std</th>\n",
       "      <td>581.263320</td>\n",
       "    </tr>\n",
       "    <tr>\n",
       "      <th>min</th>\n",
       "      <td>1.000000</td>\n",
       "    </tr>\n",
       "    <tr>\n",
       "      <th>25%</th>\n",
       "      <td>7.000000</td>\n",
       "    </tr>\n",
       "    <tr>\n",
       "      <th>50%</th>\n",
       "      <td>25.000000</td>\n",
       "    </tr>\n",
       "    <tr>\n",
       "      <th>75%</th>\n",
       "      <td>89.000000</td>\n",
       "    </tr>\n",
       "    <tr>\n",
       "      <th>max</th>\n",
       "      <td>12009.000000</td>\n",
       "    </tr>\n",
       "  </tbody>\n",
       "</table>\n",
       "</div>"
      ],
      "text/plain": [
       "              Value\n",
       "count   6243.000000\n",
       "mean     144.200545\n",
       "std      581.263320\n",
       "min        1.000000\n",
       "25%        7.000000\n",
       "50%       25.000000\n",
       "75%       89.000000\n",
       "max    12009.000000"
      ]
     },
     "execution_count": 10,
     "metadata": {},
     "output_type": "execute_result"
    }
   ],
   "source": [
    "irq = df[df['Origin']=='Iraq'] \n",
    "irq.describe()"
   ]
  },
  {
   "cell_type": "code",
   "execution_count": 72,
   "metadata": {},
   "outputs": [],
   "source": [
    "irq_mean = int(round(irq.mean()))\n",
    "irq_median = irq.median()\n",
    "irq_var = irq.var()\n",
    "irq_std = irq.std()\n",
    "irq_mad = abs(irq['Value'] - irq['Value'].median()).median()*1.4826"
   ]
  },
  {
   "cell_type": "code",
   "execution_count": 96,
   "metadata": {},
   "outputs": [
    {
     "data": {
      "text/plain": [
       "<matplotlib.collections.LineCollection at 0x11f9ebe10>"
      ]
     },
     "execution_count": 96,
     "metadata": {},
     "output_type": "execute_result"
    },
    {
     "data": {
      "image/png": "[encoded data removed]",
      "text/plain": [
       "<matplotlib.figure.Figure at 0x11f717650>"
      ]
     },
     "metadata": {},
     "output_type": "display_data"
    }
   ],
   "source": [
    "irq.plot(kind=\"density\",\n",
    "                figsize=(10,5),\n",
    "                xlim=(0, 600))\n",
    "\n",
    "plt.vlines(irq_mean,     # Plot black line at mean\n",
    "           ymin=0, \n",
    "           ymax=0.0032,\n",
    "           linewidth=2.0)\n",
    "\n",
    "plt.vlines(irq_median,   # Plot red line at median\n",
    "           ymin=0, \n",
    "           ymax=0.0032,\n",
    "           linewidth=2.0,\n",
    "           color=\"red\")\n",
    "\n",
    "plt.vlines(irq_std,   # Plot green line at standard deviation\n",
    "           ymin=0, \n",
    "           ymax=0.0032,\n",
    "           linewidth=2.0,\n",
    "           color=\"green\")\n",
    "\n",
    "plt.vlines(irq_mad,   # Plot  yellow line at median absolute deviation\n",
    "           ymin=0, \n",
    "           ymax=0.0032,\n",
    "           linewidth=2.0,\n",
    "           color=\"yellow\")"
   ]
  },
  {
   "cell_type": "code",
   "execution_count": 161,
   "metadata": {},
   "outputs": [
    {
     "data": {
      "text/plain": [
       "<matplotlib.collections.LineCollection at 0x122b81cd0>"
      ]
     },
     "execution_count": 161,
     "metadata": {},
     "output_type": "execute_result"
    },
    {
     "data": {
      "image/png": "[encoded data removed]",
      "text/plain": [
       "<matplotlib.figure.Figure at 0x122b81d50>"
      ]
     },
     "metadata": {},
     "output_type": "display_data"
    }
   ],
   "source": [
    "fig, ax = plt.subplots(1, 1)\n",
    "mu = irq_mean\n",
    "mean, var, skew, kurt = poisson.stats(mu, moments='mvsk')\n",
    "x = np.arange(poisson.ppf(0.01, mu), poisson.ppf(0.99, mu))\n",
    "ax.plot(x, poisson.pmf(x, mu), 'bo', ms=8, label='poisson pmf')\n",
    "ax.vlines(x, 0, poisson.pmf(x, mu), colors='b', lw=5, alpha=0.5)"
   ]
  },
  {
   "cell_type": "code",
   "execution_count": 11,
   "metadata": {},
   "outputs": [
    {
     "data": {
      "text/html": [
       "<div>\n",
       "<style scoped>\n",
       "    .dataframe tbody tr th:only-of-type {\n",
       "        vertical-align: middle;\n",
       "    }\n",
       "\n",
       "    .dataframe tbody tr th {\n",
       "        vertical-align: top;\n",
       "    }\n",
       "\n",
       "    .dataframe thead th {\n",
       "        text-align: right;\n",
       "    }\n",
       "</style>\n",
       "<table border=\"1\" class=\"dataframe\">\n",
       "  <thead>\n",
       "    <tr style=\"text-align: right;\">\n",
       "      <th></th>\n",
       "      <th>Value</th>\n",
       "    </tr>\n",
       "  </thead>\n",
       "  <tbody>\n",
       "    <tr>\n",
       "      <th>count</th>\n",
       "      <td>5221.000000</td>\n",
       "    </tr>\n",
       "    <tr>\n",
       "      <th>mean</th>\n",
       "      <td>58.108025</td>\n",
       "    </tr>\n",
       "    <tr>\n",
       "      <th>std</th>\n",
       "      <td>116.207127</td>\n",
       "    </tr>\n",
       "    <tr>\n",
       "      <th>min</th>\n",
       "      <td>1.000000</td>\n",
       "    </tr>\n",
       "    <tr>\n",
       "      <th>25%</th>\n",
       "      <td>5.000000</td>\n",
       "    </tr>\n",
       "    <tr>\n",
       "      <th>50%</th>\n",
       "      <td>17.000000</td>\n",
       "    </tr>\n",
       "    <tr>\n",
       "      <th>75%</th>\n",
       "      <td>52.000000</td>\n",
       "    </tr>\n",
       "    <tr>\n",
       "      <th>max</th>\n",
       "      <td>1336.000000</td>\n",
       "    </tr>\n",
       "  </tbody>\n",
       "</table>\n",
       "</div>"
      ],
      "text/plain": [
       "             Value\n",
       "count  5221.000000\n",
       "mean     58.108025\n",
       "std     116.207127\n",
       "min       1.000000\n",
       "25%       5.000000\n",
       "50%      17.000000\n",
       "75%      52.000000\n",
       "max    1336.000000"
      ]
     },
     "execution_count": 11,
     "metadata": {},
     "output_type": "execute_result"
    }
   ],
   "source": [
    "som = df[df['Origin']=='Somalia'] \n",
    "som.describe()"
   ]
  },
  {
   "cell_type": "code",
   "execution_count": 75,
   "metadata": {},
   "outputs": [],
   "source": [
    "som_mean = int(round(som.mean()))\n",
    "som_median = som.median()\n",
    "som_var = som.var()\n",
    "som_std = som.std()\n",
    "som_mad = abs(som['Value'] - som['Value'].median()).median()*1.4826"
   ]
  },
  {
   "cell_type": "code",
   "execution_count": 94,
   "metadata": {},
   "outputs": [
    {
     "data": {
      "text/plain": [
       "<matplotlib.collections.LineCollection at 0x11f72f310>"
      ]
     },
     "execution_count": 94,
     "metadata": {},
     "output_type": "execute_result"
    },
    {
     "data": {
      "image/png": "[encoded data removed]",
      "text/plain": [
       "<matplotlib.figure.Figure at 0x11f1c9110>"
      ]
     },
     "metadata": {},
     "output_type": "display_data"
    }
   ],
   "source": [
    "som.plot(kind=\"density\",\n",
    "                figsize=(10,5),\n",
    "                xlim=(0, 150))\n",
    "plt.vlines(som_mean,     # Plot black line at mean\n",
    "           ymin=0, \n",
    "           ymax=0.012,\n",
    "           linewidth=2.0)\n",
    "\n",
    "plt.vlines(som_median,   # Plot red line at median\n",
    "           ymin=0, \n",
    "           ymax=0.012,\n",
    "           linewidth=2.0,\n",
    "           color=\"red\")\n",
    "\n",
    "plt.vlines(som_std,   # Plot green line at standard deviation\n",
    "           ymin=0, \n",
    "           ymax=0.012,\n",
    "           linewidth=2.0,\n",
    "           color=\"green\")\n",
    "\n",
    "plt.vlines(som_mad,   # Plot  yellow line at median absolute deviation\n",
    "           ymin=0, \n",
    "           ymax=0.012,\n",
    "           linewidth=2.0,\n",
    "           color=\"yellow\")"
   ]
  },
  {
   "cell_type": "code",
   "execution_count": 162,
   "metadata": {},
   "outputs": [
    {
     "data": {
      "text/plain": [
       "<matplotlib.collections.LineCollection at 0x122c48b90>"
      ]
     },
     "execution_count": 162,
     "metadata": {},
     "output_type": "execute_result"
    },
    {
     "data": {
      "image/png": "[encoded data removed]",
      "text/plain": [
       "<matplotlib.figure.Figure at 0x122c48bd0>"
      ]
     },
     "metadata": {},
     "output_type": "display_data"
    }
   ],
   "source": [
    "fig, ax = plt.subplots(1, 1)\n",
    "mu = som_mean\n",
    "mean, var, skew, kurt = poisson.stats(mu, moments='mvsk')\n",
    "x = np.arange(poisson.ppf(0.01, mu), poisson.ppf(0.99, mu))\n",
    "ax.plot(x, poisson.pmf(x, mu), 'bo', ms=8, label='poisson pmf')\n",
    "ax.vlines(x, 0, poisson.pmf(x, mu), colors='b', lw=5, alpha=0.5)"
   ]
  },
  {
   "cell_type": "code",
   "execution_count": 17,
   "metadata": {},
   "outputs": [
    {
     "data": {
      "text/html": [
       "<div>\n",
       "<style scoped>\n",
       "    .dataframe tbody tr th:only-of-type {\n",
       "        vertical-align: middle;\n",
       "    }\n",
       "\n",
       "    .dataframe tbody tr th {\n",
       "        vertical-align: top;\n",
       "    }\n",
       "\n",
       "    .dataframe thead th {\n",
       "        text-align: right;\n",
       "    }\n",
       "</style>\n",
       "<table border=\"1\" class=\"dataframe\">\n",
       "  <thead>\n",
       "    <tr style=\"text-align: right;\">\n",
       "      <th></th>\n",
       "      <th>Value</th>\n",
       "    </tr>\n",
       "  </thead>\n",
       "  <tbody>\n",
       "    <tr>\n",
       "      <th>count</th>\n",
       "      <td>5544.000000</td>\n",
       "    </tr>\n",
       "    <tr>\n",
       "      <th>mean</th>\n",
       "      <td>185.327020</td>\n",
       "    </tr>\n",
       "    <tr>\n",
       "      <th>std</th>\n",
       "      <td>1494.966385</td>\n",
       "    </tr>\n",
       "    <tr>\n",
       "      <th>min</th>\n",
       "      <td>1.000000</td>\n",
       "    </tr>\n",
       "    <tr>\n",
       "      <th>25%</th>\n",
       "      <td>3.000000</td>\n",
       "    </tr>\n",
       "    <tr>\n",
       "      <th>50%</th>\n",
       "      <td>11.000000</td>\n",
       "    </tr>\n",
       "    <tr>\n",
       "      <th>75%</th>\n",
       "      <td>49.000000</td>\n",
       "    </tr>\n",
       "    <tr>\n",
       "      <th>max</th>\n",
       "      <td>36860.000000</td>\n",
       "    </tr>\n",
       "  </tbody>\n",
       "</table>\n",
       "</div>"
      ],
      "text/plain": [
       "              Value\n",
       "count   5544.000000\n",
       "mean     185.327020\n",
       "std     1494.966385\n",
       "min        1.000000\n",
       "25%        3.000000\n",
       "50%       11.000000\n",
       "75%       49.000000\n",
       "max    36860.000000"
      ]
     },
     "execution_count": 17,
     "metadata": {},
     "output_type": "execute_result"
    }
   ],
   "source": [
    "syr = df[df['Origin']=='Syrian Arab Rep.'] \n",
    "syr.describe()"
   ]
  },
  {
   "cell_type": "code",
   "execution_count": 77,
   "metadata": {},
   "outputs": [],
   "source": [
    "syr_mean = int(round(syr.mean()))\n",
    "syr_median = syr.median()\n",
    "syr_var = syr.var()\n",
    "syr_std = syr.std()\n",
    "syr_mad = abs(syr['Value'] - syr['Value'].median()).median()*1.4826"
   ]
  },
  {
   "cell_type": "code",
   "execution_count": 101,
   "metadata": {},
   "outputs": [
    {
     "data": {
      "text/plain": [
       "<matplotlib.collections.LineCollection at 0x120081c90>"
      ]
     },
     "execution_count": 101,
     "metadata": {},
     "output_type": "execute_result"
    },
    {
     "data": {
      "image/png": "[encoded data removed]",
      "text/plain": [
       "<matplotlib.figure.Figure at 0x11fc857d0>"
      ]
     },
     "metadata": {},
     "output_type": "display_data"
    }
   ],
   "source": [
    "syr.plot(kind=\"density\",\n",
    "                figsize=(10,5),\n",
    "                xlim=(0, 1600))\n",
    "plt.vlines(syr_mean,     # Plot black line at mean\n",
    "           ymin=0, \n",
    "           ymax=0.0014,\n",
    "           linewidth=2.0)\n",
    "\n",
    "plt.vlines(syr_median,   # Plot red line at median\n",
    "           ymin=0, \n",
    "           ymax=0.0014,\n",
    "           linewidth=2.0,\n",
    "           color=\"red\")\n",
    "\n",
    "plt.vlines(syr_std,   # Plot green line at standard deviation\n",
    "           ymin=0, \n",
    "           ymax=0.0014,\n",
    "           linewidth=2.0,\n",
    "           color=\"green\")\n",
    "\n",
    "plt.vlines(syr_mad,   # Plot  yellow line at median absolute deviation\n",
    "           ymin=0, \n",
    "           ymax=0.0014,\n",
    "           linewidth=2.0,\n",
    "           color=\"yellow\")"
   ]
  },
  {
   "cell_type": "code",
   "execution_count": 163,
   "metadata": {},
   "outputs": [
    {
     "data": {
      "text/plain": [
       "<matplotlib.collections.LineCollection at 0x122d42590>"
      ]
     },
     "execution_count": 163,
     "metadata": {},
     "output_type": "execute_result"
    },
    {
     "data": {
      "image/png": "[encoded data removed]",
      "text/plain": [
       "<matplotlib.figure.Figure at 0x122d42610>"
      ]
     },
     "metadata": {},
     "output_type": "display_data"
    }
   ],
   "source": [
    "fig, ax = plt.subplots(1, 1)\n",
    "mu = syr_mean\n",
    "mean, var, skew, kurt = poisson.stats(mu, moments='mvsk')\n",
    "x = np.arange(poisson.ppf(0.01, mu), poisson.ppf(0.99, mu))\n",
    "ax.plot(x, poisson.pmf(x, mu), 'bo', ms=8, label='poisson pmf')\n",
    "ax.vlines(x, 0, poisson.pmf(x, mu), colors='b', lw=5, alpha=0.5)"
   ]
  },
  {
   "cell_type": "code",
   "execution_count": null,
   "metadata": {},
   "outputs": [],
   "source": []
  }
 ],
 "metadata": {
  "kernelspec": {
   "display_name": "Python 2",
   "language": "python",
   "name": "python2"
  },
  "language_info": {
   "codemirror_mode": {
    "name": "ipython",
    "version": 2
   },
   "file_extension": ".py",
   "mimetype": "text/x-python",
   "name": "python",
   "nbconvert_exporter": "python",
   "pygments_lexer": "ipython2",
   "version": "2.7.10"
  }
 },
 "nbformat": 4,
 "nbformat_minor": 2
}
