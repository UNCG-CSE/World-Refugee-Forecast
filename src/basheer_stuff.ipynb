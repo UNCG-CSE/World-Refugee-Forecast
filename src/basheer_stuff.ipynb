{
 "cells": [
  {
   "cell_type": "code",
   "execution_count": 1,
   "metadata": {
    "collapsed": true
   },
   "outputs": [],
   "source": [
    "%matplotlib inline\n",
    "import pandas as pd\n",
    "import numpy as np\n",
    "import plotly \n",
    "import plotly.plotly as py \n",
    "import plotly.figure_factory as ff\n",
    "from plotly.graph_objs import *\n",
    "import matplotlib.pyplot as plt\n",
    "import matplotlib.lines as mlines\n",
    "import seaborn as sns\n",
    "import scipy.stats as stats\n",
    "import math"
   ]
  },
  {
   "cell_type": "code",
   "execution_count": 3,
   "metadata": {},
   "outputs": [
    {
     "data": {
      "text/html": [
       "<div>\n",
       "<style>\n",
       "    .dataframe thead tr:only-child th {\n",
       "        text-align: right;\n",
       "    }\n",
       "\n",
       "    .dataframe thead th {\n",
       "        text-align: left;\n",
       "    }\n",
       "\n",
       "    .dataframe tbody tr th {\n",
       "        vertical-align: top;\n",
       "    }\n",
       "</style>\n",
       "<table border=\"1\" class=\"dataframe\">\n",
       "  <thead>\n",
       "    <tr style=\"text-align: right;\">\n",
       "      <th></th>\n",
       "      <th>Country / territory of asylum/residence</th>\n",
       "      <th>Origin</th>\n",
       "      <th>Year</th>\n",
       "      <th>Month</th>\n",
       "      <th>Value</th>\n",
       "    </tr>\n",
       "  </thead>\n",
       "  <tbody>\n",
       "    <tr>\n",
       "      <th>0</th>\n",
       "      <td>Greece</td>\n",
       "      <td>Georgia</td>\n",
       "      <td>2008</td>\n",
       "      <td>March</td>\n",
       "      <td>140</td>\n",
       "    </tr>\n",
       "    <tr>\n",
       "      <th>1</th>\n",
       "      <td>Greece</td>\n",
       "      <td>Georgia</td>\n",
       "      <td>2008</td>\n",
       "      <td>April</td>\n",
       "      <td>199</td>\n",
       "    </tr>\n",
       "    <tr>\n",
       "      <th>2</th>\n",
       "      <td>Greece</td>\n",
       "      <td>Georgia</td>\n",
       "      <td>2008</td>\n",
       "      <td>May</td>\n",
       "      <td>210</td>\n",
       "    </tr>\n",
       "    <tr>\n",
       "      <th>3</th>\n",
       "      <td>Greece</td>\n",
       "      <td>Georgia</td>\n",
       "      <td>2008</td>\n",
       "      <td>June</td>\n",
       "      <td>208</td>\n",
       "    </tr>\n",
       "    <tr>\n",
       "      <th>4</th>\n",
       "      <td>Greece</td>\n",
       "      <td>Georgia</td>\n",
       "      <td>2008</td>\n",
       "      <td>July</td>\n",
       "      <td>224</td>\n",
       "    </tr>\n",
       "  </tbody>\n",
       "</table>\n",
       "</div>"
      ],
      "text/plain": [
       "  Country / territory of asylum/residence   Origin  Year  Month  Value\n",
       "0                                  Greece  Georgia  2008  March    140\n",
       "1                                  Greece  Georgia  2008  April    199\n",
       "2                                  Greece  Georgia  2008    May    210\n",
       "3                                  Greece  Georgia  2008   June    208\n",
       "4                                  Greece  Georgia  2008   July    224"
      ]
     },
     "execution_count": 3,
     "metadata": {},
     "output_type": "execute_result"
    }
   ],
   "source": [
    "monthlyAsylumSeekers = pd.read_csv(\"../data/refugee_monthly.csv\", sep=\",\", engine='python', encoding ='latin1')   \n",
    "monthlyAsylumSeekers = monthlyAsylumSeekers[monthlyAsylumSeekers['Value'] != '*']\n",
    "monthlyAsylumSeekers['Value'] = monthlyAsylumSeekers['Value'].apply(pd.to_numeric)\n",
    "monthlyAsylumSeekers.head()"
   ]
  },
  {
   "cell_type": "markdown",
   "metadata": {},
   "source": [
    "Assignment 4 will be done on the 4 Countries that have had more than 100,000 people flee through out the years"
   ]
  },
  {
   "cell_type": "code",
   "execution_count": 3,
   "metadata": {},
   "outputs": [
    {
     "data": {
      "text/plain": [
       "Origin\n",
       "Saint Lucia     3671\n",
       "Maldives         226\n",
       "Malaysia       21031\n",
       "Montenegro     13738\n",
       "Monaco            14\n",
       "Name: Value, dtype: int64"
      ]
     },
     "execution_count": 3,
     "metadata": {},
     "output_type": "execute_result"
    }
   ],
   "source": [
    "Monthly=monthlyAsylumSeekers.sort_values(['Value']).groupby(['Origin'], sort=False)['Value'].sum()\n",
    "Monthly.head()"
   ]
  },
  {
   "cell_type": "markdown",
   "metadata": {},
   "source": [
    "Armenia, Mexico, Sri Lanka, and Ukraine will be used"
   ]
  },
  {
   "cell_type": "code",
   "execution_count": 4,
   "metadata": {},
   "outputs": [
    {
     "data": {
      "text/html": [
       "<div>\n",
       "<style>\n",
       "    .dataframe thead tr:only-child th {\n",
       "        text-align: right;\n",
       "    }\n",
       "\n",
       "    .dataframe thead th {\n",
       "        text-align: left;\n",
       "    }\n",
       "\n",
       "    .dataframe tbody tr th {\n",
       "        vertical-align: top;\n",
       "    }\n",
       "</style>\n",
       "<table border=\"1\" class=\"dataframe\">\n",
       "  <thead>\n",
       "    <tr style=\"text-align: right;\">\n",
       "      <th></th>\n",
       "      <th>Country / territory of asylum/residence</th>\n",
       "      <th>Origin</th>\n",
       "      <th>Year</th>\n",
       "      <th>Month</th>\n",
       "      <th>Value</th>\n",
       "    </tr>\n",
       "  </thead>\n",
       "  <tbody>\n",
       "    <tr>\n",
       "      <th>258</th>\n",
       "      <td>Greece</td>\n",
       "      <td>Armenia</td>\n",
       "      <td>2013</td>\n",
       "      <td>February</td>\n",
       "      <td>3</td>\n",
       "    </tr>\n",
       "    <tr>\n",
       "      <th>651</th>\n",
       "      <td>Greece</td>\n",
       "      <td>Armenia</td>\n",
       "      <td>2013</td>\n",
       "      <td>March</td>\n",
       "      <td>3</td>\n",
       "    </tr>\n",
       "    <tr>\n",
       "      <th>780</th>\n",
       "      <td>Greece</td>\n",
       "      <td>Armenia</td>\n",
       "      <td>2013</td>\n",
       "      <td>April</td>\n",
       "      <td>8</td>\n",
       "    </tr>\n",
       "    <tr>\n",
       "      <th>781</th>\n",
       "      <td>Greece</td>\n",
       "      <td>Armenia</td>\n",
       "      <td>2013</td>\n",
       "      <td>May</td>\n",
       "      <td>1</td>\n",
       "    </tr>\n",
       "    <tr>\n",
       "      <th>782</th>\n",
       "      <td>Greece</td>\n",
       "      <td>Armenia</td>\n",
       "      <td>2013</td>\n",
       "      <td>June</td>\n",
       "      <td>3</td>\n",
       "    </tr>\n",
       "  </tbody>\n",
       "</table>\n",
       "</div>"
      ],
      "text/plain": [
       "    Country / territory of asylum/residence   Origin  Year     Month  Value\n",
       "258                                  Greece  Armenia  2013  February      3\n",
       "651                                  Greece  Armenia  2013     March      3\n",
       "780                                  Greece  Armenia  2013     April      8\n",
       "781                                  Greece  Armenia  2013       May      1\n",
       "782                                  Greece  Armenia  2013      June      3"
      ]
     },
     "execution_count": 4,
     "metadata": {},
     "output_type": "execute_result"
    }
   ],
   "source": [
    "MexicoMonthly=monthlyAsylumSeekers[(monthlyAsylumSeekers['Origin']=='Mexico')]\n",
    "SriLankaMonthly=monthlyAsylumSeekers[(monthlyAsylumSeekers['Origin']=='Sri Lanka')]\n",
    "ArmeniaMonthly=monthlyAsylumSeekers[(monthlyAsylumSeekers['Origin']=='Armenia')]\n",
    "UkraineMonthly=monthlyAsylumSeekers[monthlyAsylumSeekers['Origin']=='Ukraine']\n",
    "ArmeniaMonthly.head()"
   ]
  },
  {
   "cell_type": "markdown",
   "metadata": {},
   "source": [
    "Mean refugees for each country"
   ]
  },
  {
   "cell_type": "code",
   "execution_count": 5,
   "metadata": {},
   "outputs": [
    {
     "data": {
      "text/plain": [
       "Year  Month   \n",
       "1999  April       11.884615\n",
       "      August      22.592593\n",
       "      December    24.035714\n",
       "      February    11.125000\n",
       "      January     13.040000\n",
       "Name: Value, dtype: float64"
      ]
     },
     "execution_count": 5,
     "metadata": {},
     "output_type": "execute_result"
    }
   ],
   "source": [
    "MexicoMeanMonthly=MexicoMonthly.groupby(['Year', 'Month'], as_index=True, sort=True)['Value'].mean()\n",
    "SriLankaMeanMonthly=SriLankaMonthly.groupby(['Year', 'Month'], as_index=True, sort=True)['Value'].mean()\n",
    "ArmeniaMeanMonthly=ArmeniaMonthly.groupby(['Year', 'Month'], as_index=True, sort=True)['Value'].mean()\n",
    "UkraineMeanMonthly=UkraineMonthly.groupby(['Year', 'Month'], as_index=True, sort=True)['Value'].mean()\n",
    "UkraineMeanMonthly.head()"
   ]
  },
  {
   "cell_type": "markdown",
   "metadata": {},
   "source": [
    "The median amount of refugees for each country"
   ]
  },
  {
   "cell_type": "code",
   "execution_count": 6,
   "metadata": {},
   "outputs": [
    {
     "data": {
      "text/plain": [
       "Year  Month   \n",
       "1999  April        4.5\n",
       "      August      12.0\n",
       "      December     8.5\n",
       "      February     5.5\n",
       "      January      9.0\n",
       "Name: Value, dtype: float64"
      ]
     },
     "execution_count": 6,
     "metadata": {},
     "output_type": "execute_result"
    }
   ],
   "source": [
    "\n",
    "MexicoMedianMonthly=MexicoMonthly.groupby(['Year', 'Month'], as_index=True, sort=True)['Value'].median()\n",
    "SriLankaMedianMonthly=SriLankaMonthly.groupby(['Year', 'Month'], as_index=True, sort=True)['Value'].median()\n",
    "ArmeniaMedianMonthly=ArmeniaMonthly.groupby(['Year', 'Month'], as_index=True, sort=True)['Value'].median()\n",
    "UkraineMedianMonthly=UkraineMonthly.groupby(['Year', 'Month'], as_index=True, sort=True)['Value'].median()\n",
    "UkraineMedianMonthly.head()"
   ]
  },
  {
   "cell_type": "code",
   "execution_count": 7,
   "metadata": {},
   "outputs": [],
   "source": [
    "MexicoQuantile= [MexicoMonthly.groupby(['Year', 'Month'], sort=True)['Value'].quantile(0),   \n",
    "            MexicoMonthly.groupby(['Year', 'Month'], sort=True)['Value'].quantile(0.25),\n",
    "            MexicoMonthly.groupby(['Year', 'Month'], sort=True)['Value'].quantile(0.50),\n",
    "            MexicoMonthly.groupby(['Year', 'Month'], sort=True)['Value'].quantile(0.75),\n",
    "            MexicoMonthly.groupby(['Year', 'Month'], sort=True)['Value'].quantile(1)]\n",
    "UkraineQuantile= [UkraineMonthly.groupby(['Year', 'Month'], sort=True)['Value'].quantile(0),   \n",
    "            UkraineMonthly.groupby(['Year', 'Month'], sort=True)['Value'].quantile(0.25),\n",
    "            UkraineMonthly.groupby(['Year', 'Month'], sort=True)['Value'].quantile(0.50),\n",
    "            UkraineMonthly.groupby(['Year', 'Month'], sort=True)['Value'].quantile(0.75),\n",
    "            UkraineMonthly.groupby(['Year', 'Month'], sort=True)['Value'].quantile(1)]\n",
    "ArmeniaQuantile= [ArmeniaMonthly.groupby(['Year', 'Month'], sort=True)['Value'].quantile(0),   \n",
    "            ArmeniaMonthly.groupby(['Year', 'Month'], sort=True)['Value'].quantile(0.25),\n",
    "            ArmeniaMonthly.groupby(['Year', 'Month'], sort=True)['Value'].quantile(0.50),\n",
    "            ArmeniaMonthly.groupby(['Year', 'Month'], sort=True)['Value'].quantile(0.75),\n",
    "            ArmeniaMonthly.groupby(['Year', 'Month'], sort=True)['Value'].quantile(1)]\n",
    "SriLankaQuantile= [SriLankaMonthly.groupby(['Year', 'Month'], sort=True)['Value'].quantile(0),   \n",
    "            SriLankaMonthly.groupby(['Year', 'Month'], sort=True)['Value'].quantile(0.25),\n",
    "            SriLankaMonthly.groupby(['Year', 'Month'], sort=True)['Value'].quantile(0.50),\n",
    "            SriLankaMonthly.groupby(['Year', 'Month'], sort=True)['Value'].quantile(0.75),\n",
    "            SriLankaMonthly.groupby(['Year', 'Month'], sort=True)['Value'].quantile(1)]\n"
   ]
  },
  {
   "cell_type": "markdown",
   "metadata": {},
   "source": [
    "### Minimum Value"
   ]
  },
  {
   "cell_type": "code",
   "execution_count": 8,
   "metadata": {},
   "outputs": [
    {
     "data": {
      "text/plain": [
       "Year  Month   \n",
       "1999  April        1.0\n",
       "      August      18.0\n",
       "      December     1.0\n",
       "      February    17.0\n",
       "      January      7.0\n",
       "Name: Value, dtype: float64"
      ]
     },
     "execution_count": 8,
     "metadata": {},
     "output_type": "execute_result"
    }
   ],
   "source": [
    "MexicoQuantile[0].head()"
   ]
  },
  {
   "cell_type": "code",
   "execution_count": 9,
   "metadata": {},
   "outputs": [
    {
     "data": {
      "text/plain": [
       "Year  Month   \n",
       "1999  April       1.0\n",
       "      August      1.0\n",
       "      December    2.0\n",
       "      February    1.0\n",
       "      January     1.0\n",
       "Name: Value, dtype: float64"
      ]
     },
     "execution_count": 9,
     "metadata": {},
     "output_type": "execute_result"
    }
   ],
   "source": [
    "UkraineQuantile[0].head()"
   ]
  },
  {
   "cell_type": "code",
   "execution_count": 10,
   "metadata": {},
   "outputs": [
    {
     "data": {
      "text/plain": [
       "Year  Month   \n",
       "1999  April       1.0\n",
       "      August      2.0\n",
       "      December    1.0\n",
       "      February    1.0\n",
       "      January     1.0\n",
       "Name: Value, dtype: float64"
      ]
     },
     "execution_count": 10,
     "metadata": {},
     "output_type": "execute_result"
    }
   ],
   "source": [
    "SriLankaQuantile[0].head()"
   ]
  },
  {
   "cell_type": "code",
   "execution_count": 11,
   "metadata": {},
   "outputs": [
    {
     "data": {
      "text/plain": [
       "Year  Month   \n",
       "1999  April       1.0\n",
       "      August      1.0\n",
       "      December    2.0\n",
       "      February    1.0\n",
       "      January     1.0\n",
       "Name: Value, dtype: float64"
      ]
     },
     "execution_count": 11,
     "metadata": {},
     "output_type": "execute_result"
    }
   ],
   "source": [
    "ArmeniaQuantile[0].head()"
   ]
  },
  {
   "cell_type": "markdown",
   "metadata": {},
   "source": [
    "### Median"
   ]
  },
  {
   "cell_type": "code",
   "execution_count": 12,
   "metadata": {},
   "outputs": [
    {
     "data": {
      "text/plain": [
       "Year  Month   \n",
       "1999  April       14.5\n",
       "      August      18.0\n",
       "      December    16.0\n",
       "      February    17.0\n",
       "      January      7.0\n",
       "Name: Value, dtype: float64"
      ]
     },
     "execution_count": 12,
     "metadata": {},
     "output_type": "execute_result"
    }
   ],
   "source": [
    "MexicoQuantile[1].head()"
   ]
  },
  {
   "cell_type": "code",
   "execution_count": 13,
   "metadata": {},
   "outputs": [
    {
     "data": {
      "text/plain": [
       "Year  Month   \n",
       "1999  April       2.0\n",
       "      August      5.5\n",
       "      December    4.0\n",
       "      February    2.0\n",
       "      January     6.0\n",
       "Name: Value, dtype: float64"
      ]
     },
     "execution_count": 13,
     "metadata": {},
     "output_type": "execute_result"
    }
   ],
   "source": [
    "UkraineQuantile[1].head()"
   ]
  },
  {
   "cell_type": "code",
   "execution_count": 14,
   "metadata": {},
   "outputs": [
    {
     "data": {
      "text/plain": [
       "Year  Month   \n",
       "1999  April       2.00\n",
       "      August      5.00\n",
       "      December    8.00\n",
       "      February    5.25\n",
       "      January     4.25\n",
       "Name: Value, dtype: float64"
      ]
     },
     "execution_count": 14,
     "metadata": {},
     "output_type": "execute_result"
    }
   ],
   "source": [
    "SriLankaQuantile[1].head()"
   ]
  },
  {
   "cell_type": "code",
   "execution_count": 15,
   "metadata": {},
   "outputs": [
    {
     "data": {
      "text/plain": [
       "Year  Month   \n",
       "1999  April       4.50\n",
       "      August      3.25\n",
       "      December    9.00\n",
       "      February    5.00\n",
       "      January     2.00\n",
       "Name: Value, dtype: float64"
      ]
     },
     "execution_count": 15,
     "metadata": {},
     "output_type": "execute_result"
    }
   ],
   "source": [
    "ArmeniaQuantile[1].head()"
   ]
  },
  {
   "cell_type": "markdown",
   "metadata": {},
   "source": [
    "### Mean"
   ]
  },
  {
   "cell_type": "code",
   "execution_count": 16,
   "metadata": {},
   "outputs": [
    {
     "data": {
      "text/plain": [
       "Year  Month   \n",
       "1999  April       19.0\n",
       "      August      18.0\n",
       "      December    21.0\n",
       "      February    17.0\n",
       "      January      7.0\n",
       "Name: Value, dtype: float64"
      ]
     },
     "execution_count": 16,
     "metadata": {},
     "output_type": "execute_result"
    }
   ],
   "source": [
    "MexicoQuantile[2].head()"
   ]
  },
  {
   "cell_type": "code",
   "execution_count": 17,
   "metadata": {},
   "outputs": [
    {
     "data": {
      "text/plain": [
       "Year  Month   \n",
       "1999  April        4.5\n",
       "      August      12.0\n",
       "      December     8.5\n",
       "      February     5.5\n",
       "      January      9.0\n",
       "Name: Value, dtype: float64"
      ]
     },
     "execution_count": 17,
     "metadata": {},
     "output_type": "execute_result"
    }
   ],
   "source": [
    "UkraineQuantile[2].head()"
   ]
  },
  {
   "cell_type": "code",
   "execution_count": 18,
   "metadata": {},
   "outputs": [
    {
     "data": {
      "text/plain": [
       "Year  Month   \n",
       "1999  April       10.0\n",
       "      August      29.0\n",
       "      December    18.5\n",
       "      February    21.0\n",
       "      January     35.5\n",
       "Name: Value, dtype: float64"
      ]
     },
     "execution_count": 18,
     "metadata": {},
     "output_type": "execute_result"
    }
   ],
   "source": [
    "SriLankaQuantile[2].head()"
   ]
  },
  {
   "cell_type": "code",
   "execution_count": 19,
   "metadata": {},
   "outputs": [
    {
     "data": {
      "text/plain": [
       "Year  Month   \n",
       "1999  April       11.0\n",
       "      August      18.5\n",
       "      December    19.5\n",
       "      February    20.0\n",
       "      January      6.0\n",
       "Name: Value, dtype: float64"
      ]
     },
     "execution_count": 19,
     "metadata": {},
     "output_type": "execute_result"
    }
   ],
   "source": [
    "ArmeniaQuantile[2].head()"
   ]
  },
  {
   "cell_type": "markdown",
   "metadata": {},
   "source": [
    "### Maximum"
   ]
  },
  {
   "cell_type": "code",
   "execution_count": 20,
   "metadata": {},
   "outputs": [
    {
     "data": {
      "text/plain": [
       "Year  Month   \n",
       "1999  April       37.75\n",
       "      August      65.00\n",
       "      December    36.00\n",
       "      February    36.00\n",
       "      January     46.50\n",
       "Name: Value, dtype: float64"
      ]
     },
     "execution_count": 20,
     "metadata": {},
     "output_type": "execute_result"
    }
   ],
   "source": [
    "MexicoQuantile[3].head()"
   ]
  },
  {
   "cell_type": "code",
   "execution_count": 21,
   "metadata": {},
   "outputs": [
    {
     "data": {
      "text/plain": [
       "Year  Month   \n",
       "1999  April       22.0\n",
       "      August      22.0\n",
       "      December    23.0\n",
       "      February    16.0\n",
       "      January     19.0\n",
       "Name: Value, dtype: float64"
      ]
     },
     "execution_count": 21,
     "metadata": {},
     "output_type": "execute_result"
    }
   ],
   "source": [
    "UkraineQuantile[3].head()"
   ]
  },
  {
   "cell_type": "code",
   "execution_count": 22,
   "metadata": {},
   "outputs": [
    {
     "data": {
      "text/plain": [
       "Year  Month   \n",
       "1999  April        52.0\n",
       "      August       81.0\n",
       "      December     85.5\n",
       "      February     51.0\n",
       "      January     109.0\n",
       "Name: Value, dtype: float64"
      ]
     },
     "execution_count": 22,
     "metadata": {},
     "output_type": "execute_result"
    }
   ],
   "source": [
    "SriLankaQuantile[3].head()"
   ]
  },
  {
   "cell_type": "code",
   "execution_count": 23,
   "metadata": {},
   "outputs": [
    {
     "data": {
      "text/plain": [
       "Year  Month   \n",
       "1999  April       38.0\n",
       "      August      67.0\n",
       "      December    57.0\n",
       "      February    80.0\n",
       "      January     44.0\n",
       "Name: Value, dtype: float64"
      ]
     },
     "execution_count": 23,
     "metadata": {},
     "output_type": "execute_result"
    }
   ],
   "source": [
    "ArmeniaQuantile[3].head()"
   ]
  },
  {
   "cell_type": "markdown",
   "metadata": {},
   "source": [
    "### Divergence of Mean and Median (All four countries have a relatively high divergence each year with Mexico having the highest total divergence. This means these countries will probably be skewed)"
   ]
  },
  {
   "cell_type": "code",
   "execution_count": 24,
   "metadata": {},
   "outputs": [
    {
     "data": {
      "text/plain": [
       "15566.597360972359"
      ]
     },
     "execution_count": 24,
     "metadata": {},
     "output_type": "execute_result"
    }
   ],
   "source": [
    "Mexicodivergence=MexicoMeanMonthly-MexicoMedianMonthly\n",
    "Mexicodivergence.sum()"
   ]
  },
  {
   "cell_type": "code",
   "execution_count": 25,
   "metadata": {},
   "outputs": [
    {
     "data": {
      "text/plain": [
       "2698.339188497123"
      ]
     },
     "execution_count": 25,
     "metadata": {},
     "output_type": "execute_result"
    }
   ],
   "source": [
    "UkraineDivergence=UkraineMeanMonthly-UkraineMedianMonthly\n",
    "UkraineDivergence.sum()"
   ]
  },
  {
   "cell_type": "code",
   "execution_count": 26,
   "metadata": {},
   "outputs": [
    {
     "data": {
      "text/plain": [
       "3188.5790070018215"
      ]
     },
     "execution_count": 26,
     "metadata": {},
     "output_type": "execute_result"
    }
   ],
   "source": [
    "ArmeniaDivergence=ArmeniaMeanMonthly-ArmeniaMedianMonthly\n",
    "ArmeniaDivergence.sum()"
   ]
  },
  {
   "cell_type": "code",
   "execution_count": 27,
   "metadata": {},
   "outputs": [
    {
     "data": {
      "text/plain": [
       "4687.058603735287"
      ]
     },
     "execution_count": 27,
     "metadata": {},
     "output_type": "execute_result"
    }
   ],
   "source": [
    "SriLankaDivergence=SriLankaMeanMonthly-SriLankaMedianMonthly\n",
    "SriLankaDivergence.sum()"
   ]
  },
  {
   "cell_type": "markdown",
   "metadata": {},
   "source": [
    "##### The mean is noticebly more than the median so the density plot is skewed to the right. This means we have outliers a the right end of the distribution"
   ]
  },
  {
   "cell_type": "code",
   "execution_count": 28,
   "metadata": {},
   "outputs": [
    {
     "name": "stdout",
     "output_type": "stream",
     "text": [
      "Mexico\n"
     ]
    },
    {
     "data": {
      "image/png": "[encoded data removed]",
      "text/plain": [
       "<matplotlib.figure.Figure at 0x10e00e10>"
      ]
     },
     "metadata": {},
     "output_type": "display_data"
    },
    {
     "name": "stdout",
     "output_type": "stream",
     "text": [
      "Armenia\n"
     ]
    },
    {
     "data": {
      "image/png": "[encoded data removed]",
      "text/plain": [
       "<matplotlib.figure.Figure at 0xd30cb00>"
      ]
     },
     "metadata": {},
     "output_type": "display_data"
    },
    {
     "name": "stdout",
     "output_type": "stream",
     "text": [
      "Sri Lanka\n"
     ]
    },
    {
     "data": {
      "image/png": "[encoded data removed]",
      "text/plain": [
       "<matplotlib.figure.Figure at 0xd30c6d8>"
      ]
     },
     "metadata": {},
     "output_type": "display_data"
    },
    {
     "name": "stdout",
     "output_type": "stream",
     "text": [
      "Ukraine\n"
     ]
    },
    {
     "data": {
      "image/png": "[encoded data removed]",
      "text/plain": [
       "<matplotlib.figure.Figure at 0xd754fd0>"
      ]
     },
     "metadata": {},
     "output_type": "display_data"
    }
   ],
   "source": [
    "countries=['Mexico', 'Armenia','Sri Lanka', 'Ukraine']\n",
    "i=0\n",
    "while i<len(countries):\n",
    "    print countries[i]\n",
    "    \n",
    "    CertainMonthlyData = monthlyAsylumSeekers[(monthlyAsylumSeekers['Origin']==countries[i])].groupby(['Year','Month'], as_index=True, sort=True)['Value'].sum()                        \n",
    "    fig, ax = plt.subplots(figsize=(5, 4))\n",
    "    CertainMonthlyData.plot(kind=\"density\",\n",
    "              figsize=(10,10), ax=ax)\n",
    "    if(countries[i]=='Mexico'):\n",
    "        max=0.00045\n",
    "    if(countries[i]=='Armenia'):\n",
    "        max=0.002\n",
    "    if(countries[i]=='Sri Lanka'):\n",
    "        max=0.0012\n",
    "    if(countries[i]=='Ukraine'):\n",
    "        max=0.0008\n",
    "    \n",
    "    plt.vlines(CertainMonthlyData.mean(),     # Plot black line at mean\n",
    "           ymin=0, \n",
    "           ymax=max,\n",
    "           linewidth=5.0)\n",
    "\n",
    "    plt.vlines(CertainMonthlyData.median(),   # Plot red line at median\n",
    "           ymin=0, \n",
    "           ymax=max, \n",
    "           linewidth=2.0,\n",
    "           color=\"red\")\n",
    "    plt.show()\n",
    "    i=i+1\n"
   ]
  },
  {
   "cell_type": "markdown",
   "metadata": {},
   "source": [
    "##### Cumulative distribution function (CDF)"
   ]
  },
  {
   "cell_type": "code",
   "execution_count": 29,
   "metadata": {},
   "outputs": [
    {
     "name": "stdout",
     "output_type": "stream",
     "text": [
      "Mexico\n"
     ]
    },
    {
     "data": {
      "image/png": "[encoded data removed]",
      "text/plain": [
       "<matplotlib.figure.Figure at 0xd754f98>"
      ]
     },
     "metadata": {},
     "output_type": "display_data"
    },
    {
     "name": "stdout",
     "output_type": "stream",
     "text": [
      "Armenia\n"
     ]
    },
    {
     "data": {
      "image/png": "[encoded data removed]",
      "text/plain": [
       "<matplotlib.figure.Figure at 0xd3a87b8>"
      ]
     },
     "metadata": {},
     "output_type": "display_data"
    },
    {
     "name": "stdout",
     "output_type": "stream",
     "text": [
      "Sri Lanka\n"
     ]
    },
    {
     "data": {
      "image/png": "[encoded data removed]",
      "text/plain": [
       "<matplotlib.figure.Figure at 0xd392f98>"
      ]
     },
     "metadata": {},
     "output_type": "display_data"
    },
    {
     "name": "stdout",
     "output_type": "stream",
     "text": [
      "Ukraine\n"
     ]
    },
    {
     "data": {
      "image/png": "[encoded data removed]",
      "text/plain": [
       "<matplotlib.figure.Figure at 0xdf37ef0>"
      ]
     },
     "metadata": {},
     "output_type": "display_data"
    }
   ],
   "source": [
    "countries=['Mexico', 'Armenia','Sri Lanka', 'Ukraine']\n",
    "i=0\n",
    "while i<len(countries):\n",
    "    print countries[i]\n",
    "    \n",
    "    CertainMonthlyData = monthlyAsylumSeekers[(monthlyAsylumSeekers['Origin']==countries[i])].groupby(['Year','Month'], as_index=True, sort=True)['Value'].sum()\n",
    "    fig, ax = plt.subplots(figsize=(10,10))\n",
    "    sns.distplot(CertainMonthlyData,\n",
    "             hist_kws=dict(cumulative=True),\n",
    "             kde_kws=dict(cumulative=True), ax=ax)\n",
    "    plt.show()\n",
    "    i=i+1;"
   ]
  },
  {
   "cell_type": "markdown",
   "metadata": {},
   "source": [
    "# Poisson Distribution"
   ]
  },
  {
   "cell_type": "code",
   "execution_count": 30,
   "metadata": {},
   "outputs": [
    {
     "name": "stdout",
     "output_type": "stream",
     "text": [
      "Mexico\n",
      "mean 1509.0\n",
      "median 1182.0\n",
      "maximum number 5200\n"
     ]
    },
    {
     "data": {
      "image/png": "[encoded data removed]",
      "text/plain": [
       "<matplotlib.figure.Figure at 0xda7a5c0>"
      ]
     },
     "metadata": {},
     "output_type": "display_data"
    },
    {
     "name": "stdout",
     "output_type": "stream",
     "text": [
      "Armenia\n",
      "mean 660.0\n",
      "median 571.0\n",
      "maximum number 1524\n"
     ]
    },
    {
     "data": {
      "image/png": "[encoded data removed]",
      "text/plain": [
       "<matplotlib.figure.Figure at 0xdbfe3c8>"
      ]
     },
     "metadata": {},
     "output_type": "display_data"
    },
    {
     "name": "stdout",
     "output_type": "stream",
     "text": [
      "Sri Lanka\n",
      "mean 941.0\n",
      "median 859.0\n",
      "maximum number 2121\n"
     ]
    },
    {
     "data": {
      "image/png": "[encoded data removed]",
      "text/plain": [
       "<matplotlib.figure.Figure at 0xdbfeb00>"
      ]
     },
     "metadata": {},
     "output_type": "display_data"
    },
    {
     "name": "stdout",
     "output_type": "stream",
     "text": [
      "Ukraine\n",
      "mean 743.0\n",
      "median 422.0\n",
      "maximum number 3722\n"
     ]
    },
    {
     "data": {
      "image/png": "[encoded data removed]",
      "text/plain": [
       "<matplotlib.figure.Figure at 0xdbfeeb8>"
      ]
     },
     "metadata": {},
     "output_type": "display_data"
    }
   ],
   "source": [
    "countries=['Mexico', 'Armenia','Sri Lanka', 'Ukraine']\n",
    "i=0\n",
    "while i<len(countries):\n",
    "    print countries[i]\n",
    "    \n",
    "    CertainMonthlyData = monthlyAsylumSeekers[(monthlyAsylumSeekers['Origin']==countries[i])].groupby(['Year','Month'], as_index=True, sort=True)['Value'].sum()                        \n",
    "    fig, ax = plt.subplots(figsize=(5, 4))\n",
    "    if(countries[i]=='Mexico'):\n",
    "        meanMexico=math.ceil(CertainMonthlyData.mean())\n",
    "        mean=meanMexico\n",
    "        medianMexico=CertainMonthlyData.median()\n",
    "        median=medianMexico\n",
    "        varMexico=CertainMonthlyData.var() #Calculating var her for method of moments\n",
    "    if(countries[i]=='Armenia'):\n",
    "        meanArmenia=math.ceil(CertainMonthlyData.mean())\n",
    "        mean=meanArmenia\n",
    "        medianArmenia=CertainMonthlyData.median()\n",
    "        median=medianArmenia\n",
    "        varArmenia=CertainMonthlyData.var()\n",
    "    if(countries[i]=='Sri Lanka'):\n",
    "        meanSriLanka=math.ceil(CertainMonthlyData.mean())\n",
    "        mean=meanSriLanka\n",
    "        medianSriLanka=CertainMonthlyData.median()\n",
    "        median=medianSriLanka\n",
    "        varSriLanka=CertainMonthlyData.var()\n",
    "    if(countries[i]=='Ukraine'):\n",
    "        meanUkraine=math.ceil(CertainMonthlyData.mean())\n",
    "        mean=meanUkraine\n",
    "        medianUkraine=CertainMonthlyData.median()\n",
    "        median=medianUkraine\n",
    "        varUkraine=CertainMonthlyData.var()\n",
    "    maxNum=CertainMonthlyData.max()\n",
    "    print \"mean \"+str(mean)\n",
    "    print \"median \"+str(median)\n",
    "    print \"maximum number \"+str(maxNum)\n",
    "    CertainMonthlyData.plot(kind='hist',range=(-0.5,maxNum+0.5), bins=maxNum/100, ec='black')\n",
    "    i=i+1\n",
    "    plt.show()"
   ]
  },
  {
   "cell_type": "markdown",
   "metadata": {},
   "source": [
    "##### All distributions:\n",
    "The poisson distribution is skewed to the right so the lower the frequency of leaves the higher the amount of people leave each time. Ukraine is the most heavily skewed and the least skewed is Sri Lanka.\n",
    "##### Mexico\n",
    "The highest frequency is near a thousand people leaving. So if there is a high frequency of people leaving in a time period, then it will probably be around a thousand\n",
    "##### Armenia\n",
    "The highest frequency is 400-500 people leaving at a time\n",
    "##### Sri Lanka\n",
    "The highest frequency is 800-900 people leaving at a time\n",
    "##### Ukraine\n",
    "Ukraine has the highest amount of leaves, but each leave is no more than 250 poeple."
   ]
  },
  {
   "cell_type": "markdown",
   "metadata": {},
   "source": [
    "##### Check probabilities with cdf"
   ]
  },
  {
   "cell_type": "code",
   "execution_count": 31,
   "metadata": {},
   "outputs": [
    {
     "name": "stdout",
     "output_type": "stream",
     "text": [
      "Mexico: 1.22065379654e-18\n",
      "Armenia: 0.000215893255877\n",
      "Sri Lanka: 0.00356069238231\n",
      "Ukraine: 8.27557320909e-38\n"
     ]
    }
   ],
   "source": [
    "print \"Mexico: \"+str(stats.poisson.cdf(k=medianMexico,     # Check the probability of k leaves or less\n",
    "                  mu=meanMexico))   # With leave rate of 1509(mean arrival rate)\n",
    "print \"Armenia: \"+str(stats.poisson.cdf(k=medianArmenia,     # Check the probability of k leaves or less\n",
    "                  mu=meanArmenia))   # With leave rate of 660(mean arrival rate)\n",
    "print \"Sri Lanka: \"+str(stats.poisson.cdf(k=medianSriLanka,     # Check the probability of k leaves or less\n",
    "                  mu=meanSriLanka))   # With leave rate of 941(mean arrival rate)\n",
    "print \"Ukraine: \"+str(stats.poisson.cdf(k=medianUkraine,     # Check the probability of k leaves or less\n",
    "                  mu=meanUkraine))   # With leave rate of 743(mean arrival rate)"
   ]
  },
  {
   "cell_type": "markdown",
   "metadata": {},
   "source": [
    "Each distribution had the probabilties tested with the poisson cdf. Their means were used at the mu value and their median values were used as k-values.\n",
    "Ukraine had the lowest probabilty, basically 0, since its median(of number of people leaving per month) and its mean(average amount of people leaving per month) have such a high divergence. \n",
    "Mexico also has a bascially 0 probility in this case since its divergence is also high.\n",
    "Armenia and Sri Lanka both have high divergences, but not as bad as Mexico and Ukraine"
   ]
  },
  {
   "cell_type": "markdown",
   "metadata": {},
   "source": [
    "##### The poisson Distribution is appropriate for this data because we can find out the probabilty of a certain amount of people fleeing thier country at a time"
   ]
  },
  {
   "cell_type": "markdown",
   "metadata": {},
   "source": [
    "### Method of Moments"
   ]
  },
  {
   "cell_type": "markdown",
   "metadata": {},
   "source": [
    "We need the mean and variance of each country to calculate method of moments"
   ]
  },
  {
   "cell_type": "code",
   "execution_count": 34,
   "metadata": {},
   "outputs": [
    {
     "name": "stdout",
     "output_type": "stream",
     "text": [
      "Mexico\n",
      "1.76513115849\n",
      "854.893979261\n",
      "Armenia\n",
      "5.93820161033\n",
      "111.14476121\n",
      "Sri Lanka\n",
      "6.25210931151\n",
      "150.509204672\n",
      "Ukraine\n",
      "0.745710194116\n",
      "996.365620133\n"
     ]
    }
   ],
   "source": [
    "alpha_mom_mexico = meanMexico** 2 / varMexico\n",
    "beta_mom_mexico = varMexico / meanMexico\n",
    "print \"Mexico\"\n",
    "print alpha_mom_mexico\n",
    "print beta_mom_mexico\n",
    "alpha_mom_armenia = meanArmenia** 2 / varArmenia\n",
    "beta_mom_armenia = varArmenia / meanArmenia\n",
    "print \"Armenia\"\n",
    "print alpha_mom_armenia\n",
    "print beta_mom_armenia\n",
    "alpha_mom_SriLanka = meanSriLanka** 2 / varSriLanka\n",
    "beta_mom_SriLanka = varSriLanka / meanSriLanka\n",
    "print \"Sri Lanka\"\n",
    "print alpha_mom_SriLanka\n",
    "print beta_mom_SriLanka\n",
    "alpha_mom_ukraine = meanUkraine** 2 / varUkraine\n",
    "beta_mom_ukraine = varUkraine / meanUkraine\n",
    "print \"Ukraine\"\n",
    "print alpha_mom_ukraine\n",
    "print beta_mom_ukraine"
   ]
  },
  {
   "cell_type": "markdown",
   "metadata": {
    "collapsed": true
   },
   "source": [
    "# Linear Regression"
   ]
  },
  {
   "cell_type": "code",
   "execution_count": 107,
   "metadata": {
    "collapsed": true
   },
   "outputs": [],
   "source": [
    "def cleanDataSets(df):\n",
    "    # dropping empty rows \n",
    "    df2=df.dropna(subset=['1990','1991','1992','1993','1994','1995','1996','1997','1998','1999','2000','2001','2002',\n",
    "                 '2003','2004','2005','2006','2007','2008','2009','2010','2011','2012','2013','2014','2015','2016'], \n",
    "                  how='all')\n",
    "    # dropping empty columns \n",
    "    df3=df2.dropna(axis=1, how='all')\n",
    "    df4=df3.drop('Indicator Code',axis=1)\n",
    "    df5=df4.drop('Indicator Name',axis=1)\n",
    "    return df5"
   ]
  },
  {
   "cell_type": "code",
   "execution_count": 108,
   "metadata": {
    "scrolled": true
   },
   "outputs": [
    {
     "data": {
      "text/html": [
       "<div>\n",
       "<style>\n",
       "    .dataframe thead tr:only-child th {\n",
       "        text-align: right;\n",
       "    }\n",
       "\n",
       "    .dataframe thead th {\n",
       "        text-align: left;\n",
       "    }\n",
       "\n",
       "    .dataframe tbody tr th {\n",
       "        vertical-align: top;\n",
       "    }\n",
       "</style>\n",
       "<table border=\"1\" class=\"dataframe\">\n",
       "  <thead>\n",
       "    <tr style=\"text-align: right;\">\n",
       "      <th></th>\n",
       "      <th>1999</th>\n",
       "      <th>2000</th>\n",
       "      <th>2001</th>\n",
       "      <th>2002</th>\n",
       "      <th>2003</th>\n",
       "      <th>2004</th>\n",
       "      <th>2005</th>\n",
       "      <th>2006</th>\n",
       "      <th>2007</th>\n",
       "      <th>2008</th>\n",
       "      <th>2009</th>\n",
       "      <th>2010</th>\n",
       "      <th>2011</th>\n",
       "      <th>2012</th>\n",
       "      <th>2013</th>\n",
       "      <th>2014</th>\n",
       "      <th>2015</th>\n",
       "      <th>2016</th>\n",
       "    </tr>\n",
       "    <tr>\n",
       "      <th>Country Name</th>\n",
       "      <th></th>\n",
       "      <th></th>\n",
       "      <th></th>\n",
       "      <th></th>\n",
       "      <th></th>\n",
       "      <th></th>\n",
       "      <th></th>\n",
       "      <th></th>\n",
       "      <th></th>\n",
       "      <th></th>\n",
       "      <th></th>\n",
       "      <th></th>\n",
       "      <th></th>\n",
       "      <th></th>\n",
       "      <th></th>\n",
       "      <th></th>\n",
       "      <th></th>\n",
       "      <th></th>\n",
       "    </tr>\n",
       "  </thead>\n",
       "  <tbody>\n",
       "    <tr>\n",
       "      <th>Afghanistan</th>\n",
       "      <td>312.000000</td>\n",
       "      <td>309.000000</td>\n",
       "      <td>318.000000</td>\n",
       "      <td>326.00000</td>\n",
       "      <td>321.000000</td>\n",
       "      <td>292.000000</td>\n",
       "      <td>256.000000</td>\n",
       "      <td>224.000000</td>\n",
       "      <td>201.000000</td>\n",
       "      <td>184.00000</td>\n",
       "      <td>168.000000</td>\n",
       "      <td>158.000000</td>\n",
       "      <td>151.00000</td>\n",
       "      <td>149.000000</td>\n",
       "      <td>151.000000</td>\n",
       "      <td>158.000000</td>\n",
       "      <td>166.00000</td>\n",
       "      <td>173.000000</td>\n",
       "    </tr>\n",
       "    <tr>\n",
       "      <th>Angola</th>\n",
       "      <td>412.000000</td>\n",
       "      <td>394.000000</td>\n",
       "      <td>375.000000</td>\n",
       "      <td>354.00000</td>\n",
       "      <td>326.000000</td>\n",
       "      <td>293.000000</td>\n",
       "      <td>259.000000</td>\n",
       "      <td>232.000000</td>\n",
       "      <td>209.000000</td>\n",
       "      <td>189.00000</td>\n",
       "      <td>168.000000</td>\n",
       "      <td>149.000000</td>\n",
       "      <td>132.00000</td>\n",
       "      <td>120.000000</td>\n",
       "      <td>111.000000</td>\n",
       "      <td>104.000000</td>\n",
       "      <td>96.00000</td>\n",
       "      <td>90.000000</td>\n",
       "    </tr>\n",
       "    <tr>\n",
       "      <th>Arab World</th>\n",
       "      <td>76.337497</td>\n",
       "      <td>75.461594</td>\n",
       "      <td>73.620802</td>\n",
       "      <td>71.74127</td>\n",
       "      <td>71.581633</td>\n",
       "      <td>72.671291</td>\n",
       "      <td>74.395876</td>\n",
       "      <td>75.825826</td>\n",
       "      <td>76.668489</td>\n",
       "      <td>76.02683</td>\n",
       "      <td>75.291664</td>\n",
       "      <td>73.402535</td>\n",
       "      <td>71.54799</td>\n",
       "      <td>55.239727</td>\n",
       "      <td>53.236849</td>\n",
       "      <td>52.198815</td>\n",
       "      <td>51.72893</td>\n",
       "      <td>50.998723</td>\n",
       "    </tr>\n",
       "    <tr>\n",
       "      <th>United Arab Emirates</th>\n",
       "      <td>9.000000</td>\n",
       "      <td>9.000000</td>\n",
       "      <td>9.000000</td>\n",
       "      <td>10.00000</td>\n",
       "      <td>11.000000</td>\n",
       "      <td>12.000000</td>\n",
       "      <td>14.000000</td>\n",
       "      <td>18.000000</td>\n",
       "      <td>24.000000</td>\n",
       "      <td>29.00000</td>\n",
       "      <td>33.000000</td>\n",
       "      <td>35.000000</td>\n",
       "      <td>34.00000</td>\n",
       "      <td>33.000000</td>\n",
       "      <td>30.000000</td>\n",
       "      <td>26.000000</td>\n",
       "      <td>22.00000</td>\n",
       "      <td>18.000000</td>\n",
       "    </tr>\n",
       "    <tr>\n",
       "      <th>Argentina</th>\n",
       "      <td>8.000000</td>\n",
       "      <td>7.000000</td>\n",
       "      <td>6.000000</td>\n",
       "      <td>7.00000</td>\n",
       "      <td>9.000000</td>\n",
       "      <td>12.000000</td>\n",
       "      <td>14.000000</td>\n",
       "      <td>14.000000</td>\n",
       "      <td>12.000000</td>\n",
       "      <td>11.00000</td>\n",
       "      <td>10.000000</td>\n",
       "      <td>10.000000</td>\n",
       "      <td>10.00000</td>\n",
       "      <td>10.000000</td>\n",
       "      <td>8.000000</td>\n",
       "      <td>6.000000</td>\n",
       "      <td>3.00000</td>\n",
       "      <td>2.000000</td>\n",
       "    </tr>\n",
       "  </tbody>\n",
       "</table>\n",
       "</div>"
      ],
      "text/plain": [
       "                            1999        2000        2001       2002  \\\n",
       "Country Name                                                          \n",
       "Afghanistan           312.000000  309.000000  318.000000  326.00000   \n",
       "Angola                412.000000  394.000000  375.000000  354.00000   \n",
       "Arab World             76.337497   75.461594   73.620802   71.74127   \n",
       "United Arab Emirates    9.000000    9.000000    9.000000   10.00000   \n",
       "Argentina               8.000000    7.000000    6.000000    7.00000   \n",
       "\n",
       "                            2003        2004        2005        2006  \\\n",
       "Country Name                                                           \n",
       "Afghanistan           321.000000  292.000000  256.000000  224.000000   \n",
       "Angola                326.000000  293.000000  259.000000  232.000000   \n",
       "Arab World             71.581633   72.671291   74.395876   75.825826   \n",
       "United Arab Emirates   11.000000   12.000000   14.000000   18.000000   \n",
       "Argentina               9.000000   12.000000   14.000000   14.000000   \n",
       "\n",
       "                            2007       2008        2009        2010  \\\n",
       "Country Name                                                          \n",
       "Afghanistan           201.000000  184.00000  168.000000  158.000000   \n",
       "Angola                209.000000  189.00000  168.000000  149.000000   \n",
       "Arab World             76.668489   76.02683   75.291664   73.402535   \n",
       "United Arab Emirates   24.000000   29.00000   33.000000   35.000000   \n",
       "Argentina              12.000000   11.00000   10.000000   10.000000   \n",
       "\n",
       "                           2011        2012        2013        2014  \\\n",
       "Country Name                                                          \n",
       "Afghanistan           151.00000  149.000000  151.000000  158.000000   \n",
       "Angola                132.00000  120.000000  111.000000  104.000000   \n",
       "Arab World             71.54799   55.239727   53.236849   52.198815   \n",
       "United Arab Emirates   34.00000   33.000000   30.000000   26.000000   \n",
       "Argentina              10.00000   10.000000    8.000000    6.000000   \n",
       "\n",
       "                           2015        2016  \n",
       "Country Name                                 \n",
       "Afghanistan           166.00000  173.000000  \n",
       "Angola                 96.00000   90.000000  \n",
       "Arab World             51.72893   50.998723  \n",
       "United Arab Emirates   22.00000   18.000000  \n",
       "Argentina               3.00000    2.000000  "
      ]
     },
     "execution_count": 108,
     "metadata": {},
     "output_type": "execute_result"
    }
   ],
   "source": [
    "foodDeficitByCountry = pd.read_csv(\"../data/depth_of_the_food_deficit/food_deficit.csv\", sep='\\t', engine='python', encoding ='latin1', index_col=0)                 \n",
    "filteredFoodDeficitByCountry = cleanDataSets(foodDeficitByCountry)\n",
    "filteredFoodDeficitByCountry =filteredFoodDeficitByCountry.drop('Country Code', axis=1)\n",
    "filteredFoodDeficitByCountry =filteredFoodDeficitByCountry.drop('1992', axis=1)\n",
    "filteredFoodDeficitByCountry =filteredFoodDeficitByCountry.drop('1993', axis=1)\n",
    "filteredFoodDeficitByCountry =filteredFoodDeficitByCountry.drop('1994', axis=1)\n",
    "filteredFoodDeficitByCountry =filteredFoodDeficitByCountry.drop('1995', axis=1)\n",
    "filteredFoodDeficitByCountry =filteredFoodDeficitByCountry.drop('1996', axis=1)\n",
    "filteredFoodDeficitByCountry =filteredFoodDeficitByCountry.drop('1997', axis=1)\n",
    "filteredFoodDeficitByCountry =filteredFoodDeficitByCountry.drop('1998', axis=1)\n",
    "\n",
    "filteredFoodDeficitByCountry.head()"
   ]
  },
  {
   "cell_type": "code",
   "execution_count": 109,
   "metadata": {},
   "outputs": [],
   "source": [
    "MexicoFoodDeficit=filteredFoodDeficitByCountry.loc['Mexico']\n",
    "ArmeniaFoodDeficit=filteredFoodDeficitByCountry.loc['Armenia']\n",
    "SriLankaFoodDeficit=filteredFoodDeficitByCountry.loc['Sri Lanka']\n",
    "#UkraineFoodDeficit=filteredFoodDeficitByCountry.loc['Ukraine'] Apparently Ukraine is not in the food deficit"
   ]
  },
  {
   "cell_type": "code",
   "execution_count": 110,
   "metadata": {},
   "outputs": [
    {
     "data": {
      "text/plain": [
       "Year\n",
       "1999    12451\n",
       "2000    13322\n",
       "2001    12924\n",
       "2002    11490\n",
       "2003     9425\n",
       "Name: Value, dtype: int64"
      ]
     },
     "execution_count": 110,
     "metadata": {},
     "output_type": "execute_result"
    }
   ],
   "source": [
    "MexicoYearly=MexicoMonthly.groupby(['Year'], as_index=True, sort=True)['Value'].sum()\n",
    "SriLankaYearly=SriLankaMonthly.groupby(['Year'], as_index=True, sort=True)['Value'].sum()\n",
    "ArmeniaYearly=ArmeniaMonthly.groupby(['Year'], as_index=True, sort=True)['Value'].sum()\n",
    "#UkraineYearly=UkraineMonthly.groupby(['Year'], as_index=True, sort=True)['Value'].sum()\n",
    "ArmeniaYearly.head()"
   ]
  },
  {
   "cell_type": "code",
   "execution_count": 111,
   "metadata": {},
   "outputs": [
    {
     "data": {
      "text/html": [
       "<div>\n",
       "<style>\n",
       "    .dataframe thead tr:only-child th {\n",
       "        text-align: right;\n",
       "    }\n",
       "\n",
       "    .dataframe thead th {\n",
       "        text-align: left;\n",
       "    }\n",
       "\n",
       "    .dataframe tbody tr th {\n",
       "        vertical-align: top;\n",
       "    }\n",
       "</style>\n",
       "<table border=\"1\" class=\"dataframe\">\n",
       "  <thead>\n",
       "    <tr style=\"text-align: right;\">\n",
       "      <th></th>\n",
       "      <th>Food_Deficit</th>\n",
       "      <th>Year</th>\n",
       "    </tr>\n",
       "  </thead>\n",
       "  <tbody>\n",
       "    <tr>\n",
       "      <th>0</th>\n",
       "      <td>120.0</td>\n",
       "      <td>1999</td>\n",
       "    </tr>\n",
       "    <tr>\n",
       "      <th>1</th>\n",
       "      <td>133.0</td>\n",
       "      <td>2000</td>\n",
       "    </tr>\n",
       "    <tr>\n",
       "      <th>2</th>\n",
       "      <td>153.0</td>\n",
       "      <td>2001</td>\n",
       "    </tr>\n",
       "    <tr>\n",
       "      <th>3</th>\n",
       "      <td>166.0</td>\n",
       "      <td>2002</td>\n",
       "    </tr>\n",
       "    <tr>\n",
       "      <th>4</th>\n",
       "      <td>162.0</td>\n",
       "      <td>2003</td>\n",
       "    </tr>\n",
       "  </tbody>\n",
       "</table>\n",
       "</div>"
      ],
      "text/plain": [
       "   Food_Deficit  Year\n",
       "0         120.0  1999\n",
       "1         133.0  2000\n",
       "2         153.0  2001\n",
       "3         166.0  2002\n",
       "4         162.0  2003"
      ]
     },
     "execution_count": 111,
     "metadata": {},
     "output_type": "execute_result"
    }
   ],
   "source": [
    "dataFoodDeficitMexico=pd.DataFrame({'Year':MexicoFoodDeficit.index, 'Food_Deficit':MexicoFoodDeficit.values})\n",
    "#dataFoodDeficitMexico.set_index('Year', inplace=True, drop=True)\n",
    "dataFoodDeficitArmenia=pd.DataFrame({'Year':ArmeniaFoodDeficit.index, 'Food_Deficit':ArmeniaFoodDeficit.values})\n",
    "#dataFoodDeficitArmenia.set_index('Year', inplace=True, drop=True)\n",
    "dataFoodDeficitSriLanka=pd.DataFrame({'Year':SriLankaFoodDeficit.index, 'Food_Deficit':SriLankaFoodDeficit.values})\n",
    "#dataFoodDeficitSriLanka.set_index('Year', inplace=True, drop=True)\n",
    "dataFoodDeficitArmenia.head()"
   ]
  },
  {
   "cell_type": "code",
   "execution_count": 112,
   "metadata": {},
   "outputs": [
    {
     "data": {
      "text/html": [
       "<div>\n",
       "<style>\n",
       "    .dataframe thead tr:only-child th {\n",
       "        text-align: right;\n",
       "    }\n",
       "\n",
       "    .dataframe thead th {\n",
       "        text-align: left;\n",
       "    }\n",
       "\n",
       "    .dataframe tbody tr th {\n",
       "        vertical-align: top;\n",
       "    }\n",
       "</style>\n",
       "<table border=\"1\" class=\"dataframe\">\n",
       "  <thead>\n",
       "    <tr style=\"text-align: right;\">\n",
       "      <th></th>\n",
       "      <th>Refugees</th>\n",
       "      <th>Year</th>\n",
       "    </tr>\n",
       "  </thead>\n",
       "  <tbody>\n",
       "    <tr>\n",
       "      <th>0</th>\n",
       "      <td>1608</td>\n",
       "      <td>1999</td>\n",
       "    </tr>\n",
       "    <tr>\n",
       "      <th>1</th>\n",
       "      <td>10457</td>\n",
       "      <td>2000</td>\n",
       "    </tr>\n",
       "    <tr>\n",
       "      <th>2</th>\n",
       "      <td>21648</td>\n",
       "      <td>2001</td>\n",
       "    </tr>\n",
       "    <tr>\n",
       "      <th>3</th>\n",
       "      <td>19929</td>\n",
       "      <td>2002</td>\n",
       "    </tr>\n",
       "    <tr>\n",
       "      <th>4</th>\n",
       "      <td>9089</td>\n",
       "      <td>2003</td>\n",
       "    </tr>\n",
       "  </tbody>\n",
       "</table>\n",
       "</div>"
      ],
      "text/plain": [
       "   Refugees  Year\n",
       "0      1608  1999\n",
       "1     10457  2000\n",
       "2     21648  2001\n",
       "3     19929  2002\n",
       "4      9089  2003"
      ]
     },
     "execution_count": 112,
     "metadata": {},
     "output_type": "execute_result"
    }
   ],
   "source": [
    "dataRefugeeMexico=pd.DataFrame({'Year':MexicoYearly.index, 'Refugees':MexicoYearly.values})\n",
    "#dataRefugeeMexico.set_index('Year', inplace=True, drop=True)\n",
    "dataRefugeeArmenia=pd.DataFrame({'Year':ArmeniaYearly.index, 'Refugees':ArmeniaYearly.values})\n",
    "#dataRefugeeArmenia.set_index('Year', inplace=True, drop=True)\n",
    "dataRefugeeSriLanka=pd.DataFrame({'Year':SriLankaYearly.index, 'Refugees':SriLankaYearly.values})\n",
    "#dataRefugeeSriLanka.set_index('Year', inplace=True, drop=True)\n",
    "dataRefugeeMexico.head()"
   ]
  },
  {
   "cell_type": "code",
   "execution_count": 116,
   "metadata": {},
   "outputs": [
    {
     "data": {
      "text/html": [
       "<div>\n",
       "<style>\n",
       "    .dataframe thead tr:only-child th {\n",
       "        text-align: right;\n",
       "    }\n",
       "\n",
       "    .dataframe thead th {\n",
       "        text-align: left;\n",
       "    }\n",
       "\n",
       "    .dataframe tbody tr th {\n",
       "        vertical-align: top;\n",
       "    }\n",
       "</style>\n",
       "<table border=\"1\" class=\"dataframe\">\n",
       "  <thead>\n",
       "    <tr style=\"text-align: right;\">\n",
       "      <th></th>\n",
       "      <th>Refugees</th>\n",
       "      <th>Food_Deficit</th>\n",
       "    </tr>\n",
       "    <tr>\n",
       "      <th>Year</th>\n",
       "      <th></th>\n",
       "      <th></th>\n",
       "    </tr>\n",
       "  </thead>\n",
       "  <tbody>\n",
       "    <tr>\n",
       "      <th>1999</th>\n",
       "      <td>12451</td>\n",
       "      <td>120.0</td>\n",
       "    </tr>\n",
       "    <tr>\n",
       "      <th>2000</th>\n",
       "      <td>13322</td>\n",
       "      <td>133.0</td>\n",
       "    </tr>\n",
       "    <tr>\n",
       "      <th>2001</th>\n",
       "      <td>12924</td>\n",
       "      <td>153.0</td>\n",
       "    </tr>\n",
       "    <tr>\n",
       "      <th>2002</th>\n",
       "      <td>11490</td>\n",
       "      <td>166.0</td>\n",
       "    </tr>\n",
       "    <tr>\n",
       "      <th>2003</th>\n",
       "      <td>9425</td>\n",
       "      <td>162.0</td>\n",
       "    </tr>\n",
       "  </tbody>\n",
       "</table>\n",
       "</div>"
      ],
      "text/plain": [
       "      Refugees  Food_Deficit\n",
       "Year                        \n",
       "1999     12451         120.0\n",
       "2000     13322         133.0\n",
       "2001     12924         153.0\n",
       "2002     11490         166.0\n",
       "2003      9425         162.0"
      ]
     },
     "execution_count": 116,
     "metadata": {},
     "output_type": "execute_result"
    }
   ],
   "source": [
    "combinedMexico=dataRefugeeMexico.merge(dataFoodDeficitMexico,how='inner', left_index=True, right_index=True)\n",
    "combinedMexico.set_index('Year_x', inplace=True, drop=True)\n",
    "combinedMexico.index.name='Year'\n",
    "combinedMexico=combinedMexico.drop('Year_y', axis=1)\n",
    "combinedArmenia=dataRefugeeArmenia.merge(dataFoodDeficitArmenia,how='inner', left_index=True, right_index=True)\n",
    "combinedArmenia.set_index('Year_x', inplace=True, drop=True)\n",
    "combinedArmenia.index.name='Year'\n",
    "combinedArmenia=combinedArmenia.drop('Year_y', axis=1)\n",
    "combinedSriLanka=dataRefugeeSriLanka.merge(dataFoodDeficitSriLanka,how='inner', left_index=True, right_index=True)\n",
    "combinedSriLanka.set_index('Year_x', inplace=True, drop=True)\n",
    "combinedSriLanka.index.name='Year'\n",
    "combinedSriLanka=combinedSriLanka.drop('Year_y', axis=1)\n",
    "combinedArmenia.head()"
   ]
  },
  {
   "cell_type": "code",
   "execution_count": 117,
   "metadata": {},
   "outputs": [
    {
     "name": "stdout",
     "output_type": "stream",
     "text": [
      "Mexico\n",
      "Intercept       108560.049543\n",
      "Food_Deficit     -2833.238567\n",
      "dtype: float64\n",
      "Armenia\n",
      "Intercept       4409.327023\n",
      "Food_Deficit      41.789306\n",
      "dtype: float64\n",
      "Sri Lanka\n",
      "Intercept       8446.428357\n",
      "Food_Deficit      11.789086\n",
      "dtype: float64\n"
     ]
    }
   ],
   "source": [
    "# this is the standard import if you're using \"formula notation\" (similar to R)\n",
    "import statsmodels.formula.api as smf\n",
    "\n",
    "# create a fitted model for the countries\n",
    "lmMex = smf.ols(formula='Refugees ~ Food_Deficit', data=combinedMexico).fit()\n",
    "lmArm = smf.ols(formula='Refugees ~ Food_Deficit', data=combinedArmenia).fit()\n",
    "lmSri = smf.ols(formula='Refugees ~ Food_Deficit', data=combinedSriLanka).fit()\n",
    "\n",
    "# print the coefficients\n",
    "print \"Mexico\"\n",
    "print lmMex.params\n",
    "print \"Armenia\"\n",
    "print lmArm.params\n",
    "print \"Sri Lanka\"\n",
    "print lmSri.params"
   ]
  },
  {
   "cell_type": "code",
   "execution_count": 118,
   "metadata": {},
   "outputs": [
    {
     "data": {
      "text/html": [
       "<div>\n",
       "<style>\n",
       "    .dataframe thead tr:only-child th {\n",
       "        text-align: right;\n",
       "    }\n",
       "\n",
       "    .dataframe thead th {\n",
       "        text-align: left;\n",
       "    }\n",
       "\n",
       "    .dataframe tbody tr th {\n",
       "        vertical-align: top;\n",
       "    }\n",
       "</style>\n",
       "<table border=\"1\" class=\"dataframe\">\n",
       "  <thead>\n",
       "    <tr style=\"text-align: right;\">\n",
       "      <th></th>\n",
       "      <th>Food_Deficit</th>\n",
       "    </tr>\n",
       "  </thead>\n",
       "  <tbody>\n",
       "    <tr>\n",
       "      <th>0</th>\n",
       "      <td>192.0</td>\n",
       "    </tr>\n",
       "    <tr>\n",
       "      <th>1</th>\n",
       "      <td>270.0</td>\n",
       "    </tr>\n",
       "  </tbody>\n",
       "</table>\n",
       "</div>"
      ],
      "text/plain": [
       "   Food_Deficit\n",
       "0         192.0\n",
       "1         270.0"
      ]
     },
     "execution_count": 118,
     "metadata": {},
     "output_type": "execute_result"
    }
   ],
   "source": [
    "Mexico_new=pd.DataFrame({'Food_Deficit':[combinedMexico['Food_Deficit'].min(),combinedMexico['Food_Deficit'].max()]})\n",
    "Armenia_new=pd.DataFrame({'Food_Deficit':[combinedArmenia['Food_Deficit'].min(),combinedArmenia['Food_Deficit'].max()]})\n",
    "SriLanka_new=pd.DataFrame({'Food_Deficit':[combinedSriLanka['Food_Deficit'].min(),combinedSriLanka['Food_Deficit'].max()]})\n",
    "SriLanka_new.head()"
   ]
  },
  {
   "cell_type": "code",
   "execution_count": 119,
   "metadata": {},
   "outputs": [
    {
     "name": "stdout",
     "output_type": "stream",
     "text": [
      "Mexico\n",
      "0    26396.131098\n",
      "1      896.983994\n",
      "dtype: float64\n",
      "Armenia\n",
      "0     6122.688584\n",
      "1    11346.351879\n",
      "dtype: float64\n",
      "Sri Lanka\n",
      "0    10709.932803\n",
      "1    11629.481484\n",
      "dtype: float64\n"
     ]
    }
   ],
   "source": [
    "# make predictions for those x values and store them\n",
    "Mexico_preds = lmMex.predict(Mexico_new)\n",
    "print \"Mexico\"\n",
    "print Mexico_preds\n",
    "Armenia_preds = lmArm.predict(Armenia_new)\n",
    "print \"Armenia\"\n",
    "print Armenia_preds\n",
    "SriLanka_preds = lmSri.predict(SriLanka_new)\n",
    "print \"Sri Lanka\"\n",
    "print SriLanka_preds\n"
   ]
  },
  {
   "cell_type": "code",
   "execution_count": 125,
   "metadata": {},
   "outputs": [
    {
     "data": {
      "text/plain": [
       "<matplotlib.text.Text at 0x117e77f0>"
      ]
     },
     "execution_count": 125,
     "metadata": {},
     "output_type": "execute_result"
    },
    {
     "data": {
      "text/plain": [
       "<matplotlib.figure.Figure at 0x1270b390>"
      ]
     },
     "metadata": {},
     "output_type": "display_data"
    },
    {
     "data": {
      "image/png": "[encoded data removed]",
      "text/plain": [
       "<matplotlib.figure.Figure at 0xe708be0>"
      ]
     },
     "metadata": {},
     "output_type": "display_data"
    },
    {
     "data": {
      "image/png": "[encoded data removed]",
      "text/plain": [
       "<matplotlib.figure.Figure at 0xe0aa3c8>"
      ]
     },
     "metadata": {},
     "output_type": "display_data"
    },
    {
     "data": {
      "image/png": "[encoded data removed]",
      "text/plain": [
       "<matplotlib.figure.Figure at 0x10bdc7b8>"
      ]
     },
     "metadata": {},
     "output_type": "display_data"
    }
   ],
   "source": [
    "plt.figure(1)\n",
    "# first, plot the observed data\n",
    "combinedMexico.plot(kind='scatter', x='Food_Deficit', y='Refugees')\n",
    "\n",
    "# then, plot the least squares line\n",
    "plt.plot(Mexico_new, Mexico_preds, c='red', linewidth=2)\n",
    "plt.title(\"Mexico\")\n",
    "plt.figure(2)\n",
    "combinedArmenia.plot(kind='scatter', x='Food_Deficit', y='Refugees')\n",
    "\n",
    "plt.plot(Armenia_new, Armenia_preds, c='red', linewidth=2)\n",
    "plt.title(\"Armenia\")\n",
    "plt.figure(3)\n",
    "combinedSriLanka.plot(kind='scatter', x='Food_Deficit', y='Refugees')\n",
    "\n",
    "plt.plot(SriLanka_new, SriLanka_preds, c='red', linewidth=2)\n",
    "plt.title(\"Sri Lanka\")"
   ]
  },
  {
   "cell_type": "markdown",
   "metadata": {},
   "source": [
    "## Null hypothiesis: Food deficit has no affect on the number of refugees"
   ]
  },
  {
   "cell_type": "code",
   "execution_count": 134,
   "metadata": {},
   "outputs": [
    {
     "name": "stdout",
     "output_type": "stream",
     "text": [
      "Mexico\n",
      "                         0              1\n",
      "Intercept     49173.616622  167946.482463\n",
      "Food_Deficit  -4675.422658    -991.054476\n",
      "\n",
      "Armenia\n",
      "                        0            1\n",
      "Intercept     2265.808667  6552.845378\n",
      "Food_Deficit    19.580291    63.998322\n",
      "\n",
      "Sri Lanka\n",
      "                         0             1\n",
      "Intercept    -12949.106606  29841.963320\n",
      "Food_Deficit    -75.103784     98.681956\n"
     ]
    }
   ],
   "source": [
    "# print the confidence intervals for the model coefficients\n",
    "print \"Mexico\"\n",
    "print lmMex.conf_int()\n",
    "print \"\\nArmenia\"\n",
    "print lmArm.conf_int()\n",
    "print \"\\nSri Lanka\"\n",
    "print lmSri.conf_int()"
   ]
  },
  {
   "cell_type": "code",
   "execution_count": 131,
   "metadata": {},
   "outputs": [
    {
     "name": "stdout",
     "output_type": "stream",
     "text": [
      "Mexico\n",
      "Intercept       0.001342\n",
      "Food_Deficit    0.004913\n",
      "dtype: float64\n",
      "Armenia\n",
      "Intercept       0.000485\n",
      "Food_Deficit    0.001056\n",
      "dtype: float64\n",
      "Sri Lanka\n",
      "Intercept       0.414982\n",
      "Food_Deficit    0.777333\n",
      "dtype: float64\n"
     ]
    }
   ],
   "source": [
    "# print the p-values for the model coefficients\n",
    "print \"Mexico\"\n",
    "print lmMex.pvalues\n",
    "print \"Armenia\"\n",
    "print lmArm.pvalues\n",
    "print \"Sri Lanka\"\n",
    "print lmSri.pvalues"
   ]
  },
  {
   "cell_type": "markdown",
   "metadata": {
    "collapsed": true
   },
   "source": [
    "The p-value for Food deficit for Mexico and Armenia is less than .05 so we can reject the null hypothsis and say that there is a relationship between food deficit and people fleeing the country.\n",
    "Sri Lanka's food deficit p-value, however, is greater than 0.05 so for this country we cannot reject the null hypothsis and say there is no relationship between food deficit and people fleeing the country"
   ]
  }
 ],
 "metadata": {
  "anaconda-cloud": {},
  "kernelspec": {
   "display_name": "Python 2",
   "language": "python",
   "name": "python2"
  },
  "language_info": {
   "codemirror_mode": {
    "name": "ipython",
    "version": 2
   },
   "file_extension": ".py",
   "mimetype": "text/x-python",
   "name": "python",
   "nbconvert_exporter": "python",
   "pygments_lexer": "ipython2",
   "version": "2.7.12"
  }
 },
 "nbformat": 4,
 "nbformat_minor": 2
}
