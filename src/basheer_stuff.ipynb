{
 "cells": [
  {
   "cell_type": "code",
   "execution_count": 2,
   "metadata": {},
   "outputs": [
    {
     "name": "stderr",
     "output_type": "stream",
     "text": [
      "/usr/lib/python2.7/dist-packages/matplotlib/__init__.py:874: UserWarning:\n",
      "\n",
      "axes.color_cycle is deprecated and replaced with axes.prop_cycle; please use the latter.\n",
      "\n"
     ]
    }
   ],
   "source": [
    "%matplotlib inline\n",
    "import pandas as pd\n",
    "import numpy as np\n",
    "import plotly \n",
    "import plotly.plotly as py \n",
    "import plotly.figure_factory as ff\n",
    "from plotly.graph_objs import *\n",
    "import matplotlib.pyplot as plt\n",
    "import matplotlib.lines as mlines\n",
    "import seaborn as sns\n",
    "import scipy.stats as stats\n",
    "import math"
   ]
  },
  {
   "cell_type": "code",
   "execution_count": 3,
   "metadata": {},
   "outputs": [
    {
     "data": {
      "text/html": [
       "<div>\n",
       "<style scoped>\n",
       "    .dataframe tbody tr th:only-of-type {\n",
       "        vertical-align: middle;\n",
       "    }\n",
       "\n",
       "    .dataframe tbody tr th {\n",
       "        vertical-align: top;\n",
       "    }\n",
       "\n",
       "    .dataframe thead th {\n",
       "        text-align: right;\n",
       "    }\n",
       "</style>\n",
       "<table border=\"1\" class=\"dataframe\">\n",
       "  <thead>\n",
       "    <tr style=\"text-align: right;\">\n",
       "      <th></th>\n",
       "      <th>Country / territory of asylum/residence</th>\n",
       "      <th>Origin</th>\n",
       "      <th>Year</th>\n",
       "      <th>Month</th>\n",
       "      <th>Value</th>\n",
       "    </tr>\n",
       "  </thead>\n",
       "  <tbody>\n",
       "    <tr>\n",
       "      <th>0</th>\n",
       "      <td>Greece</td>\n",
       "      <td>Georgia</td>\n",
       "      <td>2008</td>\n",
       "      <td>March</td>\n",
       "      <td>140</td>\n",
       "    </tr>\n",
       "    <tr>\n",
       "      <th>1</th>\n",
       "      <td>Greece</td>\n",
       "      <td>Georgia</td>\n",
       "      <td>2008</td>\n",
       "      <td>April</td>\n",
       "      <td>199</td>\n",
       "    </tr>\n",
       "    <tr>\n",
       "      <th>2</th>\n",
       "      <td>Greece</td>\n",
       "      <td>Georgia</td>\n",
       "      <td>2008</td>\n",
       "      <td>May</td>\n",
       "      <td>210</td>\n",
       "    </tr>\n",
       "    <tr>\n",
       "      <th>3</th>\n",
       "      <td>Greece</td>\n",
       "      <td>Georgia</td>\n",
       "      <td>2008</td>\n",
       "      <td>June</td>\n",
       "      <td>208</td>\n",
       "    </tr>\n",
       "    <tr>\n",
       "      <th>4</th>\n",
       "      <td>Greece</td>\n",
       "      <td>Georgia</td>\n",
       "      <td>2008</td>\n",
       "      <td>July</td>\n",
       "      <td>224</td>\n",
       "    </tr>\n",
       "  </tbody>\n",
       "</table>\n",
       "</div>"
      ],
      "text/plain": [
       "  Country / territory of asylum/residence   Origin  Year  Month  Value\n",
       "0                                  Greece  Georgia  2008  March    140\n",
       "1                                  Greece  Georgia  2008  April    199\n",
       "2                                  Greece  Georgia  2008    May    210\n",
       "3                                  Greece  Georgia  2008   June    208\n",
       "4                                  Greece  Georgia  2008   July    224"
      ]
     },
     "execution_count": 3,
     "metadata": {},
     "output_type": "execute_result"
    }
   ],
   "source": [
    "monthlyAsylumSeekers = pd.read_csv(\"../data/refugee_monthly.csv\", sep=\",\", engine='python', encoding ='latin1')   \n",
    "monthlyAsylumSeekers = monthlyAsylumSeekers[monthlyAsylumSeekers['Value'] != '*']\n",
    "monthlyAsylumSeekers['Value'] = monthlyAsylumSeekers['Value'].apply(pd.to_numeric)\n",
    "monthlyAsylumSeekers.head()"
   ]
  },
  {
   "cell_type": "markdown",
   "metadata": {},
   "source": [
    "Assignment 4 will be done on the 4 Countries that have had more than 100,000 people flee through out the years"
   ]
  },
  {
   "cell_type": "code",
   "execution_count": 4,
   "metadata": {},
   "outputs": [
    {
     "data": {
      "text/plain": [
       "Origin\n",
       "Saint Lucia     3671\n",
       "Maldives         226\n",
       "Malaysia       21031\n",
       "Montenegro     13738\n",
       "Monaco            14\n",
       "Name: Value, dtype: int64"
      ]
     },
     "execution_count": 4,
     "metadata": {},
     "output_type": "execute_result"
    }
   ],
   "source": [
    "Monthly=monthlyAsylumSeekers.sort_values(['Value']).groupby(['Origin'], sort=False)['Value'].sum()\n",
    "Monthly.head()"
   ]
  },
  {
   "cell_type": "markdown",
   "metadata": {},
   "source": [
    "Armenia, Mexico, Sri Lanka, and Ukraine will be used"
   ]
  },
  {
   "cell_type": "code",
   "execution_count": 5,
   "metadata": {},
   "outputs": [
    {
     "data": {
      "text/html": [
       "<div>\n",
       "<style scoped>\n",
       "    .dataframe tbody tr th:only-of-type {\n",
       "        vertical-align: middle;\n",
       "    }\n",
       "\n",
       "    .dataframe tbody tr th {\n",
       "        vertical-align: top;\n",
       "    }\n",
       "\n",
       "    .dataframe thead th {\n",
       "        text-align: right;\n",
       "    }\n",
       "</style>\n",
       "<table border=\"1\" class=\"dataframe\">\n",
       "  <thead>\n",
       "    <tr style=\"text-align: right;\">\n",
       "      <th></th>\n",
       "      <th>Country / territory of asylum/residence</th>\n",
       "      <th>Origin</th>\n",
       "      <th>Year</th>\n",
       "      <th>Month</th>\n",
       "      <th>Value</th>\n",
       "    </tr>\n",
       "  </thead>\n",
       "  <tbody>\n",
       "    <tr>\n",
       "      <th>258</th>\n",
       "      <td>Greece</td>\n",
       "      <td>Armenia</td>\n",
       "      <td>2013</td>\n",
       "      <td>February</td>\n",
       "      <td>3</td>\n",
       "    </tr>\n",
       "    <tr>\n",
       "      <th>651</th>\n",
       "      <td>Greece</td>\n",
       "      <td>Armenia</td>\n",
       "      <td>2013</td>\n",
       "      <td>March</td>\n",
       "      <td>3</td>\n",
       "    </tr>\n",
       "    <tr>\n",
       "      <th>780</th>\n",
       "      <td>Greece</td>\n",
       "      <td>Armenia</td>\n",
       "      <td>2013</td>\n",
       "      <td>April</td>\n",
       "      <td>8</td>\n",
       "    </tr>\n",
       "    <tr>\n",
       "      <th>781</th>\n",
       "      <td>Greece</td>\n",
       "      <td>Armenia</td>\n",
       "      <td>2013</td>\n",
       "      <td>May</td>\n",
       "      <td>1</td>\n",
       "    </tr>\n",
       "    <tr>\n",
       "      <th>782</th>\n",
       "      <td>Greece</td>\n",
       "      <td>Armenia</td>\n",
       "      <td>2013</td>\n",
       "      <td>June</td>\n",
       "      <td>3</td>\n",
       "    </tr>\n",
       "  </tbody>\n",
       "</table>\n",
       "</div>"
      ],
      "text/plain": [
       "    Country / territory of asylum/residence   Origin  Year     Month  Value\n",
       "258                                  Greece  Armenia  2013  February      3\n",
       "651                                  Greece  Armenia  2013     March      3\n",
       "780                                  Greece  Armenia  2013     April      8\n",
       "781                                  Greece  Armenia  2013       May      1\n",
       "782                                  Greece  Armenia  2013      June      3"
      ]
     },
     "execution_count": 5,
     "metadata": {},
     "output_type": "execute_result"
    }
   ],
   "source": [
    "MexicoMonthly=monthlyAsylumSeekers[(monthlyAsylumSeekers['Origin']=='Mexico')]\n",
    "SriLankaMonthly=monthlyAsylumSeekers[(monthlyAsylumSeekers['Origin']=='Sri Lanka')]\n",
    "ArmeniaMonthly=monthlyAsylumSeekers[(monthlyAsylumSeekers['Origin']=='Armenia')]\n",
    "UkraineMonthly=monthlyAsylumSeekers[monthlyAsylumSeekers['Origin']=='Ukraine']\n",
    "ArmeniaMonthly.head()"
   ]
  },
  {
   "cell_type": "markdown",
   "metadata": {},
   "source": [
    "Mean refugees for each country"
   ]
  },
  {
   "cell_type": "code",
   "execution_count": 6,
   "metadata": {},
   "outputs": [
    {
     "data": {
      "text/plain": [
       "Year  Month   \n",
       "1999  April       11.884615\n",
       "      August      22.592593\n",
       "      December    24.035714\n",
       "      February    11.125000\n",
       "      January     13.040000\n",
       "Name: Value, dtype: float64"
      ]
     },
     "execution_count": 6,
     "metadata": {},
     "output_type": "execute_result"
    }
   ],
   "source": [
    "MexicoMeanMonthly=MexicoMonthly.groupby(['Year', 'Month'], as_index=True, sort=True)['Value'].mean()\n",
    "SriLankaMeanMonthly=SriLankaMonthly.groupby(['Year', 'Month'], as_index=True, sort=True)['Value'].mean()\n",
    "ArmeniaMeanMonthly=ArmeniaMonthly.groupby(['Year', 'Month'], as_index=True, sort=True)['Value'].mean()\n",
    "UkraineMeanMonthly=UkraineMonthly.groupby(['Year', 'Month'], as_index=True, sort=True)['Value'].mean()\n",
    "UkraineMeanMonthly.head()"
   ]
  },
  {
   "cell_type": "markdown",
   "metadata": {},
   "source": [
    "The median amount of refugees for each country"
   ]
  },
  {
   "cell_type": "code",
   "execution_count": 7,
   "metadata": {},
   "outputs": [
    {
     "data": {
      "text/plain": [
       "Year  Month   \n",
       "1999  April        4.5\n",
       "      August      12.0\n",
       "      December     8.5\n",
       "      February     5.5\n",
       "      January      9.0\n",
       "Name: Value, dtype: float64"
      ]
     },
     "execution_count": 7,
     "metadata": {},
     "output_type": "execute_result"
    }
   ],
   "source": [
    "\n",
    "MexicoMedianMonthly=MexicoMonthly.groupby(['Year', 'Month'], as_index=True, sort=True)['Value'].median()\n",
    "SriLankaMedianMonthly=SriLankaMonthly.groupby(['Year', 'Month'], as_index=True, sort=True)['Value'].median()\n",
    "ArmeniaMedianMonthly=ArmeniaMonthly.groupby(['Year', 'Month'], as_index=True, sort=True)['Value'].median()\n",
    "UkraineMedianMonthly=UkraineMonthly.groupby(['Year', 'Month'], as_index=True, sort=True)['Value'].median()\n",
    "UkraineMedianMonthly.head()"
   ]
  },
  {
   "cell_type": "code",
   "execution_count": 8,
   "metadata": {},
   "outputs": [],
   "source": [
    "MexicoQuantile= [MexicoMonthly.groupby(['Year', 'Month'], sort=True)['Value'].quantile(0),   \n",
    "            MexicoMonthly.groupby(['Year', 'Month'], sort=True)['Value'].quantile(0.25),\n",
    "            MexicoMonthly.groupby(['Year', 'Month'], sort=True)['Value'].quantile(0.50),\n",
    "            MexicoMonthly.groupby(['Year', 'Month'], sort=True)['Value'].quantile(0.75),\n",
    "            MexicoMonthly.groupby(['Year', 'Month'], sort=True)['Value'].quantile(1)]\n",
    "UkraineQuantile= [UkraineMonthly.groupby(['Year', 'Month'], sort=True)['Value'].quantile(0),   \n",
    "            UkraineMonthly.groupby(['Year', 'Month'], sort=True)['Value'].quantile(0.25),\n",
    "            UkraineMonthly.groupby(['Year', 'Month'], sort=True)['Value'].quantile(0.50),\n",
    "            UkraineMonthly.groupby(['Year', 'Month'], sort=True)['Value'].quantile(0.75),\n",
    "            UkraineMonthly.groupby(['Year', 'Month'], sort=True)['Value'].quantile(1)]\n",
    "ArmeniaQuantile= [ArmeniaMonthly.groupby(['Year', 'Month'], sort=True)['Value'].quantile(0),   \n",
    "            ArmeniaMonthly.groupby(['Year', 'Month'], sort=True)['Value'].quantile(0.25),\n",
    "            ArmeniaMonthly.groupby(['Year', 'Month'], sort=True)['Value'].quantile(0.50),\n",
    "            ArmeniaMonthly.groupby(['Year', 'Month'], sort=True)['Value'].quantile(0.75),\n",
    "            ArmeniaMonthly.groupby(['Year', 'Month'], sort=True)['Value'].quantile(1)]\n",
    "SriLankaQuantile= [SriLankaMonthly.groupby(['Year', 'Month'], sort=True)['Value'].quantile(0),   \n",
    "            SriLankaMonthly.groupby(['Year', 'Month'], sort=True)['Value'].quantile(0.25),\n",
    "            SriLankaMonthly.groupby(['Year', 'Month'], sort=True)['Value'].quantile(0.50),\n",
    "            SriLankaMonthly.groupby(['Year', 'Month'], sort=True)['Value'].quantile(0.75),\n",
    "            SriLankaMonthly.groupby(['Year', 'Month'], sort=True)['Value'].quantile(1)]\n"
   ]
  },
  {
   "cell_type": "markdown",
   "metadata": {},
   "source": [
    "### Minimum Value"
   ]
  },
  {
   "cell_type": "code",
   "execution_count": 9,
   "metadata": {},
   "outputs": [
    {
     "data": {
      "text/plain": [
       "Year  Month   \n",
       "1999  April        1.0\n",
       "      August      18.0\n",
       "      December     1.0\n",
       "      February    17.0\n",
       "      January      7.0\n",
       "Name: Value, dtype: float64"
      ]
     },
     "execution_count": 9,
     "metadata": {},
     "output_type": "execute_result"
    }
   ],
   "source": [
    "MexicoQuantile[0].head()"
   ]
  },
  {
   "cell_type": "code",
   "execution_count": 10,
   "metadata": {},
   "outputs": [
    {
     "data": {
      "text/plain": [
       "Year  Month   \n",
       "1999  April       1.0\n",
       "      August      1.0\n",
       "      December    2.0\n",
       "      February    1.0\n",
       "      January     1.0\n",
       "Name: Value, dtype: float64"
      ]
     },
     "execution_count": 10,
     "metadata": {},
     "output_type": "execute_result"
    }
   ],
   "source": [
    "UkraineQuantile[0].head()"
   ]
  },
  {
   "cell_type": "code",
   "execution_count": 11,
   "metadata": {},
   "outputs": [
    {
     "data": {
      "text/plain": [
       "Year  Month   \n",
       "1999  April       1.0\n",
       "      August      2.0\n",
       "      December    1.0\n",
       "      February    1.0\n",
       "      January     1.0\n",
       "Name: Value, dtype: float64"
      ]
     },
     "execution_count": 11,
     "metadata": {},
     "output_type": "execute_result"
    }
   ],
   "source": [
    "SriLankaQuantile[0].head()"
   ]
  },
  {
   "cell_type": "code",
   "execution_count": 12,
   "metadata": {},
   "outputs": [
    {
     "data": {
      "text/plain": [
       "Year  Month   \n",
       "1999  April       1.0\n",
       "      August      1.0\n",
       "      December    2.0\n",
       "      February    1.0\n",
       "      January     1.0\n",
       "Name: Value, dtype: float64"
      ]
     },
     "execution_count": 12,
     "metadata": {},
     "output_type": "execute_result"
    }
   ],
   "source": [
    "ArmeniaQuantile[0].head()"
   ]
  },
  {
   "cell_type": "markdown",
   "metadata": {},
   "source": [
    "### Median"
   ]
  },
  {
   "cell_type": "code",
   "execution_count": 13,
   "metadata": {},
   "outputs": [
    {
     "data": {
      "text/plain": [
       "Year  Month   \n",
       "1999  April       14.5\n",
       "      August      18.0\n",
       "      December    16.0\n",
       "      February    17.0\n",
       "      January      7.0\n",
       "Name: Value, dtype: float64"
      ]
     },
     "execution_count": 13,
     "metadata": {},
     "output_type": "execute_result"
    }
   ],
   "source": [
    "MexicoQuantile[1].head()"
   ]
  },
  {
   "cell_type": "code",
   "execution_count": 14,
   "metadata": {},
   "outputs": [
    {
     "data": {
      "text/plain": [
       "Year  Month   \n",
       "1999  April       2.0\n",
       "      August      5.5\n",
       "      December    4.0\n",
       "      February    2.0\n",
       "      January     6.0\n",
       "Name: Value, dtype: float64"
      ]
     },
     "execution_count": 14,
     "metadata": {},
     "output_type": "execute_result"
    }
   ],
   "source": [
    "UkraineQuantile[1].head()"
   ]
  },
  {
   "cell_type": "code",
   "execution_count": 15,
   "metadata": {},
   "outputs": [
    {
     "data": {
      "text/plain": [
       "Year  Month   \n",
       "1999  April       2.00\n",
       "      August      5.00\n",
       "      December    8.00\n",
       "      February    5.25\n",
       "      January     4.25\n",
       "Name: Value, dtype: float64"
      ]
     },
     "execution_count": 15,
     "metadata": {},
     "output_type": "execute_result"
    }
   ],
   "source": [
    "SriLankaQuantile[1].head()"
   ]
  },
  {
   "cell_type": "code",
   "execution_count": 16,
   "metadata": {},
   "outputs": [
    {
     "data": {
      "text/plain": [
       "Year  Month   \n",
       "1999  April       4.50\n",
       "      August      3.25\n",
       "      December    9.00\n",
       "      February    5.00\n",
       "      January     2.00\n",
       "Name: Value, dtype: float64"
      ]
     },
     "execution_count": 16,
     "metadata": {},
     "output_type": "execute_result"
    }
   ],
   "source": [
    "ArmeniaQuantile[1].head()"
   ]
  },
  {
   "cell_type": "markdown",
   "metadata": {},
   "source": [
    "### Mean"
   ]
  },
  {
   "cell_type": "code",
   "execution_count": 17,
   "metadata": {},
   "outputs": [
    {
     "data": {
      "text/plain": [
       "Year  Month   \n",
       "1999  April       19.0\n",
       "      August      18.0\n",
       "      December    21.0\n",
       "      February    17.0\n",
       "      January      7.0\n",
       "Name: Value, dtype: float64"
      ]
     },
     "execution_count": 17,
     "metadata": {},
     "output_type": "execute_result"
    }
   ],
   "source": [
    "MexicoQuantile[2].head()"
   ]
  },
  {
   "cell_type": "code",
   "execution_count": 18,
   "metadata": {},
   "outputs": [
    {
     "data": {
      "text/plain": [
       "Year  Month   \n",
       "1999  April        4.5\n",
       "      August      12.0\n",
       "      December     8.5\n",
       "      February     5.5\n",
       "      January      9.0\n",
       "Name: Value, dtype: float64"
      ]
     },
     "execution_count": 18,
     "metadata": {},
     "output_type": "execute_result"
    }
   ],
   "source": [
    "UkraineQuantile[2].head()"
   ]
  },
  {
   "cell_type": "code",
   "execution_count": 19,
   "metadata": {},
   "outputs": [
    {
     "data": {
      "text/plain": [
       "Year  Month   \n",
       "1999  April       10.0\n",
       "      August      29.0\n",
       "      December    18.5\n",
       "      February    21.0\n",
       "      January     35.5\n",
       "Name: Value, dtype: float64"
      ]
     },
     "execution_count": 19,
     "metadata": {},
     "output_type": "execute_result"
    }
   ],
   "source": [
    "SriLankaQuantile[2].head()"
   ]
  },
  {
   "cell_type": "code",
   "execution_count": 20,
   "metadata": {},
   "outputs": [
    {
     "data": {
      "text/plain": [
       "Year  Month   \n",
       "1999  April       11.0\n",
       "      August      18.5\n",
       "      December    19.5\n",
       "      February    20.0\n",
       "      January      6.0\n",
       "Name: Value, dtype: float64"
      ]
     },
     "execution_count": 20,
     "metadata": {},
     "output_type": "execute_result"
    }
   ],
   "source": [
    "ArmeniaQuantile[2].head()"
   ]
  },
  {
   "cell_type": "markdown",
   "metadata": {},
   "source": [
    "### Maximum"
   ]
  },
  {
   "cell_type": "code",
   "execution_count": 21,
   "metadata": {},
   "outputs": [
    {
     "data": {
      "text/plain": [
       "Year  Month   \n",
       "1999  April       37.75\n",
       "      August      65.00\n",
       "      December    36.00\n",
       "      February    36.00\n",
       "      January     46.50\n",
       "Name: Value, dtype: float64"
      ]
     },
     "execution_count": 21,
     "metadata": {},
     "output_type": "execute_result"
    }
   ],
   "source": [
    "MexicoQuantile[3].head()"
   ]
  },
  {
   "cell_type": "code",
   "execution_count": 22,
   "metadata": {},
   "outputs": [
    {
     "data": {
      "text/plain": [
       "Year  Month   \n",
       "1999  April       22.0\n",
       "      August      22.0\n",
       "      December    23.0\n",
       "      February    16.0\n",
       "      January     19.0\n",
       "Name: Value, dtype: float64"
      ]
     },
     "execution_count": 22,
     "metadata": {},
     "output_type": "execute_result"
    }
   ],
   "source": [
    "UkraineQuantile[3].head()"
   ]
  },
  {
   "cell_type": "code",
   "execution_count": 23,
   "metadata": {},
   "outputs": [
    {
     "data": {
      "text/plain": [
       "Year  Month   \n",
       "1999  April        52.0\n",
       "      August       81.0\n",
       "      December     85.5\n",
       "      February     51.0\n",
       "      January     109.0\n",
       "Name: Value, dtype: float64"
      ]
     },
     "execution_count": 23,
     "metadata": {},
     "output_type": "execute_result"
    }
   ],
   "source": [
    "SriLankaQuantile[3].head()"
   ]
  },
  {
   "cell_type": "code",
   "execution_count": 24,
   "metadata": {},
   "outputs": [
    {
     "data": {
      "text/plain": [
       "Year  Month   \n",
       "1999  April       38.0\n",
       "      August      67.0\n",
       "      December    57.0\n",
       "      February    80.0\n",
       "      January     44.0\n",
       "Name: Value, dtype: float64"
      ]
     },
     "execution_count": 24,
     "metadata": {},
     "output_type": "execute_result"
    }
   ],
   "source": [
    "ArmeniaQuantile[3].head()"
   ]
  },
  {
   "cell_type": "markdown",
   "metadata": {},
   "source": [
    "### Divergence of Mean and Median (All four countries have a relatively high divergence each year with Mexico having the highest total divergence. This means these countries will probably be skewed)"
   ]
  },
  {
   "cell_type": "code",
   "execution_count": 25,
   "metadata": {},
   "outputs": [
    {
     "name": "stderr",
     "output_type": "stream",
     "text": [
      "/usr/local/lib/python2.7/dist-packages/pandas/core/computation/check.py:17: UserWarning:\n",
      "\n",
      "The installed version of numexpr 2.4.3 is not supported in pandas and will be not be used\n",
      "The minimum supported version is 2.4.6\n",
      "\n",
      "\n"
     ]
    },
    {
     "data": {
      "text/plain": [
       "15566.597360972361"
      ]
     },
     "execution_count": 25,
     "metadata": {},
     "output_type": "execute_result"
    }
   ],
   "source": [
    "Mexicodivergence=MexicoMeanMonthly-MexicoMedianMonthly\n",
    "Mexicodivergence.sum()"
   ]
  },
  {
   "cell_type": "code",
   "execution_count": 26,
   "metadata": {},
   "outputs": [
    {
     "data": {
      "text/plain": [
       "2698.3391884971238"
      ]
     },
     "execution_count": 26,
     "metadata": {},
     "output_type": "execute_result"
    }
   ],
   "source": [
    "UkraineDivergence=UkraineMeanMonthly-UkraineMedianMonthly\n",
    "UkraineDivergence.sum()"
   ]
  },
  {
   "cell_type": "code",
   "execution_count": 27,
   "metadata": {},
   "outputs": [
    {
     "data": {
      "text/plain": [
       "3188.5790070018224"
      ]
     },
     "execution_count": 27,
     "metadata": {},
     "output_type": "execute_result"
    }
   ],
   "source": [
    "ArmeniaDivergence=ArmeniaMeanMonthly-ArmeniaMedianMonthly\n",
    "ArmeniaDivergence.sum()"
   ]
  },
  {
   "cell_type": "code",
   "execution_count": 28,
   "metadata": {},
   "outputs": [
    {
     "data": {
      "text/plain": [
       "4687.0586037352832"
      ]
     },
     "execution_count": 28,
     "metadata": {},
     "output_type": "execute_result"
    }
   ],
   "source": [
    "SriLankaDivergence=SriLankaMeanMonthly-SriLankaMedianMonthly\n",
    "SriLankaDivergence.sum()"
   ]
  },
  {
   "cell_type": "markdown",
   "metadata": {},
   "source": [
    "##### The mean is noticebly more than the median so the density plot is skewed to the right. This means we have outliers a the right end of the distribution"
   ]
  },
  {
   "cell_type": "code",
   "execution_count": 29,
   "metadata": {},
   "outputs": [
    {
     "name": "stdout",
     "output_type": "stream",
     "text": [
      "Mexico\n"
     ]
    },
    {
     "data": {
      "image/png": "[encoded data removed]",
      "text/plain": [
       "<matplotlib.figure.Figure at 0x7fd38ae8b510>"
      ]
     },
     "metadata": {},
     "output_type": "display_data"
    },
    {
     "name": "stdout",
     "output_type": "stream",
     "text": [
      "Armenia\n"
     ]
    },
    {
     "data": {
      "image/png": "[encoded data removed]",
      "text/plain": [
       "<matplotlib.figure.Figure at 0x7fd38ade1810>"
      ]
     },
     "metadata": {},
     "output_type": "display_data"
    },
    {
     "name": "stdout",
     "output_type": "stream",
     "text": [
      "Sri Lanka\n"
     ]
    },
    {
     "data": {
      "image/png": "[encoded data removed]",
      "text/plain": [
       "<matplotlib.figure.Figure at 0x7fd38ade1b10>"
      ]
     },
     "metadata": {},
     "output_type": "display_data"
    },
    {
     "name": "stdout",
     "output_type": "stream",
     "text": [
      "Ukraine\n"
     ]
    },
    {
     "data": {
      "image/png": "[encoded data removed]",
      "text/plain": [
       "<matplotlib.figure.Figure at 0x7fd38ab9d6d0>"
      ]
     },
     "metadata": {},
     "output_type": "display_data"
    }
   ],
   "source": [
    "countries=['Mexico', 'Armenia','Sri Lanka', 'Ukraine']\n",
    "i=0\n",
    "while i<len(countries):\n",
    "    print countries[i]\n",
    "    \n",
    "    CertainMonthlyData = monthlyAsylumSeekers[(monthlyAsylumSeekers['Origin']==countries[i])].groupby(['Year','Month'], as_index=True, sort=True)['Value'].sum()                        \n",
    "    fig, ax = plt.subplots(figsize=(5, 4))\n",
    "    CertainMonthlyData.plot(kind=\"density\",\n",
    "              figsize=(10,10), ax=ax)\n",
    "    if(countries[i]=='Mexico'):\n",
    "        max=0.00045\n",
    "    if(countries[i]=='Armenia'):\n",
    "        max=0.002\n",
    "    if(countries[i]=='Sri Lanka'):\n",
    "        max=0.0012\n",
    "    if(countries[i]=='Ukraine'):\n",
    "        max=0.0008\n",
    "    \n",
    "    plt.vlines(CertainMonthlyData.mean(),     # Plot black line at mean\n",
    "           ymin=0, \n",
    "           ymax=max,\n",
    "           linewidth=5.0)\n",
    "\n",
    "    plt.vlines(CertainMonthlyData.median(),   # Plot red line at median\n",
    "           ymin=0, \n",
    "           ymax=max, \n",
    "           linewidth=2.0,\n",
    "           color=\"red\")\n",
    "    plt.show()\n",
    "    i=i+1\n"
   ]
  },
  {
   "cell_type": "markdown",
   "metadata": {},
   "source": [
    "##### Cumulative distribution function (CDF)"
   ]
  },
  {
   "cell_type": "code",
   "execution_count": 30,
   "metadata": {},
   "outputs": [
    {
     "name": "stdout",
     "output_type": "stream",
     "text": [
      "Mexico\n"
     ]
    },
    {
     "ename": "TypeError",
     "evalue": "'numpy.float64' object cannot be interpreted as an index",
     "output_type": "error",
     "traceback": [
      "\u001b[0;31m---------------------------------------------------------------------------\u001b[0m",
      "\u001b[0;31mTypeError\u001b[0m                                 Traceback (most recent call last)",
      "\u001b[0;32m<ipython-input-30-c850b4997aa6>\u001b[0m in \u001b[0;36m<module>\u001b[0;34m()\u001b[0m\n\u001b[1;32m      8\u001b[0m     sns.distplot(CertainMonthlyData,\n\u001b[1;32m      9\u001b[0m              \u001b[0mhist_kws\u001b[0m\u001b[0;34m=\u001b[0m\u001b[0mdict\u001b[0m\u001b[0;34m(\u001b[0m\u001b[0mcumulative\u001b[0m\u001b[0;34m=\u001b[0m\u001b[0mTrue\u001b[0m\u001b[0;34m)\u001b[0m\u001b[0;34m,\u001b[0m\u001b[0;34m\u001b[0m\u001b[0m\n\u001b[0;32m---> 10\u001b[0;31m              kde_kws=dict(cumulative=True), ax=ax)\n\u001b[0m\u001b[1;32m     11\u001b[0m     \u001b[0mplt\u001b[0m\u001b[0;34m.\u001b[0m\u001b[0mshow\u001b[0m\u001b[0;34m(\u001b[0m\u001b[0;34m)\u001b[0m\u001b[0;34m\u001b[0m\u001b[0m\n\u001b[1;32m     12\u001b[0m     \u001b[0mi\u001b[0m\u001b[0;34m=\u001b[0m\u001b[0mi\u001b[0m\u001b[0;34m+\u001b[0m\u001b[0;36m1\u001b[0m\u001b[0;34m;\u001b[0m\u001b[0;34m\u001b[0m\u001b[0m\n",
      "\u001b[0;32m/usr/lib/python2.7/dist-packages/seaborn/distributions.pyc\u001b[0m in \u001b[0;36mdistplot\u001b[0;34m(a, bins, hist, kde, rug, fit, hist_kws, kde_kws, rug_kws, fit_kws, color, vertical, norm_hist, axlabel, label, ax)\u001b[0m\n\u001b[1;32m    210\u001b[0m         \u001b[0mhist_color\u001b[0m \u001b[0;34m=\u001b[0m \u001b[0mhist_kws\u001b[0m\u001b[0;34m.\u001b[0m\u001b[0mpop\u001b[0m\u001b[0;34m(\u001b[0m\u001b[0;34m\"color\"\u001b[0m\u001b[0;34m,\u001b[0m \u001b[0mcolor\u001b[0m\u001b[0;34m)\u001b[0m\u001b[0;34m\u001b[0m\u001b[0m\n\u001b[1;32m    211\u001b[0m         ax.hist(a, bins, orientation=orientation,\n\u001b[0;32m--> 212\u001b[0;31m                 color=hist_color, **hist_kws)\n\u001b[0m\u001b[1;32m    213\u001b[0m         \u001b[0;32mif\u001b[0m \u001b[0mhist_color\u001b[0m \u001b[0;34m!=\u001b[0m \u001b[0mcolor\u001b[0m\u001b[0;34m:\u001b[0m\u001b[0;34m\u001b[0m\u001b[0m\n\u001b[1;32m    214\u001b[0m             \u001b[0mhist_kws\u001b[0m\u001b[0;34m[\u001b[0m\u001b[0;34m\"color\"\u001b[0m\u001b[0;34m]\u001b[0m \u001b[0;34m=\u001b[0m \u001b[0mhist_color\u001b[0m\u001b[0;34m\u001b[0m\u001b[0m\n",
      "\u001b[0;32m/usr/lib/python2.7/dist-packages/matplotlib/__init__.pyc\u001b[0m in \u001b[0;36minner\u001b[0;34m(ax, *args, **kwargs)\u001b[0m\n\u001b[1;32m   1812\u001b[0m                     warnings.warn(msg % (label_namer, func.__name__),\n\u001b[1;32m   1813\u001b[0m                                   RuntimeWarning, stacklevel=2)\n\u001b[0;32m-> 1814\u001b[0;31m             \u001b[0;32mreturn\u001b[0m \u001b[0mfunc\u001b[0m\u001b[0;34m(\u001b[0m\u001b[0max\u001b[0m\u001b[0;34m,\u001b[0m \u001b[0;34m*\u001b[0m\u001b[0margs\u001b[0m\u001b[0;34m,\u001b[0m \u001b[0;34m**\u001b[0m\u001b[0mkwargs\u001b[0m\u001b[0;34m)\u001b[0m\u001b[0;34m\u001b[0m\u001b[0m\n\u001b[0m\u001b[1;32m   1815\u001b[0m         \u001b[0mpre_doc\u001b[0m \u001b[0;34m=\u001b[0m \u001b[0minner\u001b[0m\u001b[0;34m.\u001b[0m\u001b[0m__doc__\u001b[0m\u001b[0;34m\u001b[0m\u001b[0m\n\u001b[1;32m   1816\u001b[0m         \u001b[0;32mif\u001b[0m \u001b[0mpre_doc\u001b[0m \u001b[0;32mis\u001b[0m \u001b[0mNone\u001b[0m\u001b[0;34m:\u001b[0m\u001b[0;34m\u001b[0m\u001b[0m\n",
      "\u001b[0;32m/usr/lib/python2.7/dist-packages/matplotlib/axes/_axes.pyc\u001b[0m in \u001b[0;36mhist\u001b[0;34m(self, x, bins, range, normed, weights, cumulative, bottom, histtype, align, orientation, rwidth, log, color, label, stacked, **kwargs)\u001b[0m\n\u001b[1;32m   6008\u001b[0m             \u001b[0;31m# this will automatically overwrite bins,\u001b[0m\u001b[0;34m\u001b[0m\u001b[0;34m\u001b[0m\u001b[0m\n\u001b[1;32m   6009\u001b[0m             \u001b[0;31m# so that each histogram uses the same bins\u001b[0m\u001b[0;34m\u001b[0m\u001b[0;34m\u001b[0m\u001b[0m\n\u001b[0;32m-> 6010\u001b[0;31m             \u001b[0mm\u001b[0m\u001b[0;34m,\u001b[0m \u001b[0mbins\u001b[0m \u001b[0;34m=\u001b[0m \u001b[0mnp\u001b[0m\u001b[0;34m.\u001b[0m\u001b[0mhistogram\u001b[0m\u001b[0;34m(\u001b[0m\u001b[0mx\u001b[0m\u001b[0;34m[\u001b[0m\u001b[0mi\u001b[0m\u001b[0;34m]\u001b[0m\u001b[0;34m,\u001b[0m \u001b[0mbins\u001b[0m\u001b[0;34m,\u001b[0m \u001b[0mweights\u001b[0m\u001b[0;34m=\u001b[0m\u001b[0mw\u001b[0m\u001b[0;34m[\u001b[0m\u001b[0mi\u001b[0m\u001b[0;34m]\u001b[0m\u001b[0;34m,\u001b[0m \u001b[0;34m**\u001b[0m\u001b[0mhist_kwargs\u001b[0m\u001b[0;34m)\u001b[0m\u001b[0;34m\u001b[0m\u001b[0m\n\u001b[0m\u001b[1;32m   6011\u001b[0m             \u001b[0mm\u001b[0m \u001b[0;34m=\u001b[0m \u001b[0mm\u001b[0m\u001b[0;34m.\u001b[0m\u001b[0mastype\u001b[0m\u001b[0;34m(\u001b[0m\u001b[0mfloat\u001b[0m\u001b[0;34m)\u001b[0m  \u001b[0;31m# causes problems later if it's an int\u001b[0m\u001b[0;34m\u001b[0m\u001b[0m\n\u001b[1;32m   6012\u001b[0m             \u001b[0;32mif\u001b[0m \u001b[0mmlast\u001b[0m \u001b[0;32mis\u001b[0m \u001b[0mNone\u001b[0m\u001b[0;34m:\u001b[0m\u001b[0;34m\u001b[0m\u001b[0m\n",
      "\u001b[0;32m/usr/local/lib/python2.7/dist-packages/numpy/lib/function_base.pyc\u001b[0m in \u001b[0;36mhistogram\u001b[0;34m(a, bins, range, normed, weights, density)\u001b[0m\n\u001b[1;32m    727\u001b[0m \u001b[0;34m\u001b[0m\u001b[0m\n\u001b[1;32m    728\u001b[0m         \u001b[0;31m# Initialize empty histogram\u001b[0m\u001b[0;34m\u001b[0m\u001b[0;34m\u001b[0m\u001b[0m\n\u001b[0;32m--> 729\u001b[0;31m         \u001b[0mn\u001b[0m \u001b[0;34m=\u001b[0m \u001b[0mnp\u001b[0m\u001b[0;34m.\u001b[0m\u001b[0mzeros\u001b[0m\u001b[0;34m(\u001b[0m\u001b[0mbins\u001b[0m\u001b[0;34m,\u001b[0m \u001b[0mntype\u001b[0m\u001b[0;34m)\u001b[0m\u001b[0;34m\u001b[0m\u001b[0m\n\u001b[0m\u001b[1;32m    730\u001b[0m         \u001b[0;31m# Pre-compute histogram scaling factor\u001b[0m\u001b[0;34m\u001b[0m\u001b[0;34m\u001b[0m\u001b[0m\n\u001b[1;32m    731\u001b[0m         \u001b[0mnorm\u001b[0m \u001b[0;34m=\u001b[0m \u001b[0mbins\u001b[0m \u001b[0;34m/\u001b[0m \u001b[0;34m(\u001b[0m\u001b[0mmx\u001b[0m \u001b[0;34m-\u001b[0m \u001b[0mmn\u001b[0m\u001b[0;34m)\u001b[0m\u001b[0;34m\u001b[0m\u001b[0m\n",
      "\u001b[0;31mTypeError\u001b[0m: 'numpy.float64' object cannot be interpreted as an index"
     ]
    },
    {
     "data": {
      "image/png": "[encoded data removed]",
      "text/plain": [
       "<matplotlib.figure.Figure at 0x7fd37c356450>"
      ]
     },
     "metadata": {},
     "output_type": "display_data"
    }
   ],
   "source": [
    "countries=['Mexico', 'Armenia','Sri Lanka', 'Ukraine']\n",
    "i=0\n",
    "while i<len(countries):\n",
    "    print countries[i]\n",
    "    \n",
    "    CertainMonthlyData = monthlyAsylumSeekers[(monthlyAsylumSeekers['Origin']==countries[i])].groupby(['Year','Month'], as_index=True, sort=True)['Value'].sum()\n",
    "    fig, ax = plt.subplots(figsize=(10,10))\n",
    "    sns.distplot(CertainMonthlyData,\n",
    "             hist_kws=dict(cumulative=True),\n",
    "             kde_kws=dict(cumulative=True), ax=ax)\n",
    "    plt.show()\n",
    "    i=i+1;"
   ]
  },
  {
   "cell_type": "markdown",
   "metadata": {},
   "source": [
    "# Poisson Distribution"
   ]
  },
  {
   "cell_type": "code",
   "execution_count": null,
   "metadata": {},
   "outputs": [],
   "source": [
    "countries=['Mexico', 'Armenia','Sri Lanka', 'Ukraine']\n",
    "i=0\n",
    "while i<len(countries):\n",
    "    print countries[i]\n",
    "    \n",
    "    CertainMonthlyData = monthlyAsylumSeekers[(monthlyAsylumSeekers['Origin']==countries[i])].groupby(['Year','Month'], as_index=True, sort=True)['Value'].sum()                        \n",
    "    fig, ax = plt.subplots(figsize=(5, 4))\n",
    "    if(countries[i]=='Mexico'):\n",
    "        meanMexico=math.ceil(CertainMonthlyData.mean())\n",
    "        mean=meanMexico\n",
    "        medianMexico=CertainMonthlyData.median()\n",
    "        median=medianMexico\n",
    "        varMexico=CertainMonthlyData.var() #Calculating var her for method of moments\n",
    "    if(countries[i]=='Armenia'):\n",
    "        meanArmenia=math.ceil(CertainMonthlyData.mean())\n",
    "        mean=meanArmenia\n",
    "        medianArmenia=CertainMonthlyData.median()\n",
    "        median=medianArmenia\n",
    "        varArmenia=CertainMonthlyData.var()\n",
    "    if(countries[i]=='Sri Lanka'):\n",
    "        meanSriLanka=math.ceil(CertainMonthlyData.mean())\n",
    "        mean=meanSriLanka\n",
    "        medianSriLanka=CertainMonthlyData.median()\n",
    "        median=medianSriLanka\n",
    "        varSriLanka=CertainMonthlyData.var()\n",
    "    if(countries[i]=='Ukraine'):\n",
    "        meanUkraine=math.ceil(CertainMonthlyData.mean())\n",
    "        mean=meanUkraine\n",
    "        medianUkraine=CertainMonthlyData.median()\n",
    "        median=medianUkraine\n",
    "        varUkraine=CertainMonthlyData.var()\n",
    "    maxNum=CertainMonthlyData.max()\n",
    "    print \"mean \"+str(mean)\n",
    "    print \"median \"+str(median)\n",
    "    print \"maximum number \"+str(maxNum)\n",
    "    CertainMonthlyData.plot(kind='hist',range=(-0.5,maxNum+0.5), bins=maxNum/100, ec='black')\n",
    "    i=i+1\n",
    "    plt.show()"
   ]
  },
  {
   "cell_type": "markdown",
   "metadata": {},
   "source": [
    "##### All distributions:\n",
    "The poisson distribution is skewed to the right so the lower the frequency of leaves the higher the amount of people leave each time. Ukraine is the most heavily skewed and the least skewed is Sri Lanka.\n",
    "##### Mexico\n",
    "The highest frequency is near a thousand people leaving. So if there is a high frequency of people leaving in a time period, then it will probably be around a thousand\n",
    "##### Armenia\n",
    "The highest frequency is 400-500 people leaving at a time\n",
    "##### Sri Lanka\n",
    "The highest frequency is 800-900 people leaving at a time\n",
    "##### Ukraine\n",
    "Ukraine has the highest amount of leaves, but each leave is no more than 250 poeple."
   ]
  },
  {
   "cell_type": "markdown",
   "metadata": {},
   "source": [
    "##### Check probabilities with cdf"
   ]
  },
  {
   "cell_type": "code",
   "execution_count": null,
   "metadata": {},
   "outputs": [],
   "source": [
    "print \"Mexico: \"+str(stats.poisson.cdf(k=medianMexico,     # Check the probability of k leaves or less\n",
    "                  mu=meanMexico))   # With leave rate of 1509(mean arrival rate)\n",
    "print \"Armenia: \"+str(stats.poisson.cdf(k=medianArmenia,     # Check the probability of k leaves or less\n",
    "                  mu=meanArmenia))   # With leave rate of 660(mean arrival rate)\n",
    "print \"Sri Lanka: \"+str(stats.poisson.cdf(k=medianSriLanka,     # Check the probability of k leaves or less\n",
    "                  mu=meanSriLanka))   # With leave rate of 941(mean arrival rate)\n",
    "print \"Ukraine: \"+str(stats.poisson.cdf(k=medianUkraine,     # Check the probability of k leaves or less\n",
    "                  mu=meanUkraine))   # With leave rate of 743(mean arrival rate)"
   ]
  },
  {
   "cell_type": "markdown",
   "metadata": {},
   "source": [
    "Each distribution had the probabilties tested with the poisson cdf. Their means were used at the mu value and their median values were used as k-values.\n",
    "Ukraine had the lowest probabilty, basically 0, since its median(of number of people leaving per month) and its mean(average amount of people leaving per month) have such a high divergence. \n",
    "Mexico also has a bascially 0 probility in this case since its divergence is also high.\n",
    "Armenia and Sri Lanka both have high divergences, but not as bad as Mexico and Ukraine"
   ]
  },
  {
   "cell_type": "markdown",
   "metadata": {},
   "source": [
    "##### The poisson Distribution is appropriate for this data because we can find out the probabilty of a certain amount of people fleeing thier country at a time"
   ]
  },
  {
   "cell_type": "markdown",
   "metadata": {},
   "source": [
    "### Method of Moments"
   ]
  },
  {
   "cell_type": "markdown",
   "metadata": {},
   "source": [
    "We need the mean and variance of each country to calculate method of moments"
   ]
  },
  {
   "cell_type": "code",
   "execution_count": null,
   "metadata": {},
   "outputs": [],
   "source": [
    "alpha_mom_mexico = meanMexico** 2 / varMexico\n",
    "beta_mom_mexico = varMexico / meanMexico\n",
    "print \"Mexico\"\n",
    "print alpha_mom_mexico\n",
    "print beta_mom_mexico\n",
    "alpha_mom_armenia = meanArmenia** 2 / varArmenia\n",
    "beta_mom_armenia = varArmenia / meanArmenia\n",
    "print \"Armenia\"\n",
    "print alpha_mom_armenia\n",
    "print beta_mom_armenia\n",
    "alpha_mom_SriLanka = meanSriLanka** 2 / varSriLanka\n",
    "beta_mom_SriLanka = varSriLanka / meanSriLanka\n",
    "print \"Sri Lanka\"\n",
    "print alpha_mom_SriLanka\n",
    "print beta_mom_SriLanka\n",
    "alpha_mom_ukraine = meanUkraine** 2 / varUkraine\n",
    "beta_mom_ukraine = varUkraine / meanUkraine\n",
    "print \"Ukraine\"\n",
    "print alpha_mom_ukraine\n",
    "print beta_mom_ukraine"
   ]
  },
  {
   "cell_type": "markdown",
   "metadata": {
    "collapsed": true
   },
   "source": [
    "# Linear Regression"
   ]
  },
  {
   "cell_type": "code",
   "execution_count": null,
   "metadata": {},
   "outputs": [],
   "source": [
    "def cleanDataSets(df):\n",
    "    # dropping empty rows \n",
    "    df2=df.dropna(subset=['1990','1991','1992','1993','1994','1995','1996','1997','1998','1999','2000','2001','2002',\n",
    "                 '2003','2004','2005','2006','2007','2008','2009','2010','2011','2012','2013','2014','2015','2016'], \n",
    "                  how='all')\n",
    "    # dropping empty columns \n",
    "    df3=df2.dropna(axis=1, how='all')\n",
    "    df4=df3.drop('Indicator Code',axis=1)\n",
    "    df5=df4.drop('Indicator Name',axis=1)\n",
    "    return df5"
   ]
  },
  {
   "cell_type": "code",
   "execution_count": null,
   "metadata": {
    "scrolled": true
   },
   "outputs": [],
   "source": [
    "foodDeficitByCountry = pd.read_csv(\"../data/depth_of_the_food_deficit/food_deficit.csv\", sep='\\t', engine='python', encoding ='latin1', index_col=0)                 \n",
    "filteredFoodDeficitByCountry = cleanDataSets(foodDeficitByCountry)\n",
    "filteredFoodDeficitByCountry =filteredFoodDeficitByCountry.drop('Country Code', axis=1)\n",
    "filteredFoodDeficitByCountry =filteredFoodDeficitByCountry.drop('1992', axis=1)\n",
    "filteredFoodDeficitByCountry =filteredFoodDeficitByCountry.drop('1993', axis=1)\n",
    "filteredFoodDeficitByCountry =filteredFoodDeficitByCountry.drop('1994', axis=1)\n",
    "filteredFoodDeficitByCountry =filteredFoodDeficitByCountry.drop('1995', axis=1)\n",
    "filteredFoodDeficitByCountry =filteredFoodDeficitByCountry.drop('1996', axis=1)\n",
    "filteredFoodDeficitByCountry =filteredFoodDeficitByCountry.drop('1997', axis=1)\n",
    "filteredFoodDeficitByCountry =filteredFoodDeficitByCountry.drop('1998', axis=1)\n",
    "\n",
    "filteredFoodDeficitByCountry.head()"
   ]
  },
  {
   "cell_type": "code",
   "execution_count": null,
   "metadata": {},
   "outputs": [],
   "source": [
    "MexicoFoodDeficit=filteredFoodDeficitByCountry.loc['Mexico']\n",
    "ArmeniaFoodDeficit=filteredFoodDeficitByCountry.loc['Armenia']\n",
    "SriLankaFoodDeficit=filteredFoodDeficitByCountry.loc['Sri Lanka']\n",
    "#UkraineFoodDeficit=filteredFoodDeficitByCountry.loc['Ukraine'] Apparently Ukraine is not in the food deficit"
   ]
  },
  {
   "cell_type": "code",
   "execution_count": null,
   "metadata": {},
   "outputs": [],
   "source": [
    "MexicoYearly=MexicoMonthly.groupby(['Year'], as_index=True, sort=True)['Value'].sum()\n",
    "SriLankaYearly=SriLankaMonthly.groupby(['Year'], as_index=True, sort=True)['Value'].sum()\n",
    "ArmeniaYearly=ArmeniaMonthly.groupby(['Year'], as_index=True, sort=True)['Value'].sum()\n",
    "#UkraineYearly=UkraineMonthly.groupby(['Year'], as_index=True, sort=True)['Value'].sum()\n",
    "ArmeniaYearly.head()"
   ]
  },
  {
   "cell_type": "code",
   "execution_count": null,
   "metadata": {},
   "outputs": [],
   "source": [
    "dataFoodDeficitMexico=pd.DataFrame({'Year':MexicoFoodDeficit.index, 'Food_Deficit':MexicoFoodDeficit.values})\n",
    "#dataFoodDeficitMexico.set_index('Year', inplace=True, drop=True)\n",
    "dataFoodDeficitArmenia=pd.DataFrame({'Year':ArmeniaFoodDeficit.index, 'Food_Deficit':ArmeniaFoodDeficit.values})\n",
    "#dataFoodDeficitArmenia.set_index('Year', inplace=True, drop=True)\n",
    "dataFoodDeficitSriLanka=pd.DataFrame({'Year':SriLankaFoodDeficit.index, 'Food_Deficit':SriLankaFoodDeficit.values})\n",
    "#dataFoodDeficitSriLanka.set_index('Year', inplace=True, drop=True)\n",
    "dataFoodDeficitArmenia.head()"
   ]
  },
  {
   "cell_type": "code",
   "execution_count": null,
   "metadata": {},
   "outputs": [],
   "source": [
    "dataRefugeeMexico=pd.DataFrame({'Year':MexicoYearly.index, 'Refugees':MexicoYearly.values})\n",
    "#dataRefugeeMexico.set_index('Year', inplace=True, drop=True)\n",
    "dataRefugeeArmenia=pd.DataFrame({'Year':ArmeniaYearly.index, 'Refugees':ArmeniaYearly.values})\n",
    "#dataRefugeeArmenia.set_index('Year', inplace=True, drop=True)\n",
    "dataRefugeeSriLanka=pd.DataFrame({'Year':SriLankaYearly.index, 'Refugees':SriLankaYearly.values})\n",
    "#dataRefugeeSriLanka.set_index('Year', inplace=True, drop=True)\n",
    "dataRefugeeMexico.head()"
   ]
  },
  {
   "cell_type": "code",
   "execution_count": null,
   "metadata": {},
   "outputs": [],
   "source": [
    "combinedMexico=dataRefugeeMexico.merge(dataFoodDeficitMexico,how='inner', left_index=True, right_index=True)\n",
    "combinedMexico.set_index('Year_x', inplace=True, drop=True)\n",
    "combinedMexico.index.name='Year'\n",
    "combinedMexico=combinedMexico.drop('Year_y', axis=1)\n",
    "combinedArmenia=dataRefugeeArmenia.merge(dataFoodDeficitArmenia,how='inner', left_index=True, right_index=True)\n",
    "combinedArmenia.set_index('Year_x', inplace=True, drop=True)\n",
    "combinedArmenia.index.name='Year'\n",
    "combinedArmenia=combinedArmenia.drop('Year_y', axis=1)\n",
    "combinedSriLanka=dataRefugeeSriLanka.merge(dataFoodDeficitSriLanka,how='inner', left_index=True, right_index=True)\n",
    "combinedSriLanka.set_index('Year_x', inplace=True, drop=True)\n",
    "combinedSriLanka.index.name='Year'\n",
    "combinedSriLanka=combinedSriLanka.drop('Year_y', axis=1)\n",
    "combinedArmenia.head()"
   ]
  },
  {
   "cell_type": "code",
   "execution_count": null,
   "metadata": {},
   "outputs": [],
   "source": [
    "# this is the standard import if you're using \"formula notation\" (similar to R)\n",
    "import statsmodels.formula.api as smf\n",
    "\n",
    "# create a fitted model for the countries\n",
    "lmMex = smf.ols(formula='Refugees ~ Food_Deficit', data=combinedMexico).fit()\n",
    "lmArm = smf.ols(formula='Refugees ~ Food_Deficit', data=combinedArmenia).fit()\n",
    "lmSri = smf.ols(formula='Refugees ~ Food_Deficit', data=combinedSriLanka).fit()\n",
    "\n",
    "# print the coefficients\n",
    "print \"Mexico\"\n",
    "print lmMex.params\n",
    "print \"Armenia\"\n",
    "print lmArm.params\n",
    "print \"Sri Lanka\"\n",
    "print lmSri.params"
   ]
  },
  {
   "cell_type": "code",
   "execution_count": null,
   "metadata": {},
   "outputs": [],
   "source": [
    "Mexico_new=pd.DataFrame({'Food_Deficit':[combinedMexico['Food_Deficit'].min(),combinedMexico['Food_Deficit'].max()]})\n",
    "Armenia_new=pd.DataFrame({'Food_Deficit':[combinedArmenia['Food_Deficit'].min(),combinedArmenia['Food_Deficit'].max()]})\n",
    "SriLanka_new=pd.DataFrame({'Food_Deficit':[combinedSriLanka['Food_Deficit'].min(),combinedSriLanka['Food_Deficit'].max()]})\n",
    "SriLanka_new.head()"
   ]
  },
  {
   "cell_type": "code",
   "execution_count": null,
   "metadata": {},
   "outputs": [],
   "source": [
    "# make predictions for those x values and store them\n",
    "Mexico_preds = lmMex.predict(Mexico_new)\n",
    "print \"Mexico\"\n",
    "print Mexico_preds\n",
    "Armenia_preds = lmArm.predict(Armenia_new)\n",
    "print \"Armenia\"\n",
    "print Armenia_preds\n",
    "SriLanka_preds = lmSri.predict(SriLanka_new)\n",
    "print \"Sri Lanka\"\n",
    "print SriLanka_preds\n"
   ]
  },
  {
   "cell_type": "code",
   "execution_count": null,
   "metadata": {},
   "outputs": [],
   "source": [
    "plt.figure(1)\n",
    "# first, plot the observed data\n",
    "combinedMexico.plot(kind='scatter', x='Food_Deficit', y='Refugees')\n",
    "\n",
    "# then, plot the least squares line\n",
    "plt.plot(Mexico_new, Mexico_preds, c='red', linewidth=2)\n",
    "plt.title(\"Mexico\")\n",
    "plt.figure(2)\n",
    "combinedArmenia.plot(kind='scatter', x='Food_Deficit', y='Refugees')\n",
    "\n",
    "plt.plot(Armenia_new, Armenia_preds, c='red', linewidth=2)\n",
    "plt.title(\"Armenia\")\n",
    "plt.figure(3)\n",
    "combinedSriLanka.plot(kind='scatter', x='Food_Deficit', y='Refugees')\n",
    "\n",
    "plt.plot(SriLanka_new, SriLanka_preds, c='red', linewidth=2)\n",
    "plt.title(\"Sri Lanka\")"
   ]
  },
  {
   "cell_type": "markdown",
   "metadata": {},
   "source": [
    "## Null hypothiesis: Food deficit has no affect on the number of refugees"
   ]
  },
  {
   "cell_type": "code",
   "execution_count": null,
   "metadata": {},
   "outputs": [],
   "source": [
    "# print the confidence intervals for the model coefficients\n",
    "print \"Mexico\"\n",
    "print lmMex.conf_int()\n",
    "print \"\\nArmenia\"\n",
    "print lmArm.conf_int()\n",
    "print \"\\nSri Lanka\"\n",
    "print lmSri.conf_int()"
   ]
  },
  {
   "cell_type": "code",
   "execution_count": null,
   "metadata": {},
   "outputs": [],
   "source": [
    "# print the p-values for the model coefficients\n",
    "print \"Mexico\"\n",
    "print lmMex.pvalues\n",
    "print \"Armenia\"\n",
    "print lmArm.pvalues\n",
    "print \"Sri Lanka\"\n",
    "print lmSri.pvalues"
   ]
  },
  {
   "cell_type": "markdown",
   "metadata": {
    "collapsed": true
   },
   "source": [
    "The p-value for Food deficit for Mexico and Armenia is less than .05 so we can reject the null hypothsis and say that there is a relationship between food deficit and people fleeing the country.\n",
    "Sri Lanka's food deficit p-value, however, is greater than 0.05 so for this country we cannot reject the null hypothsis and say there is no relationship between food deficit and people fleeing the country"
   ]
  }
 ],
 "metadata": {
  "anaconda-cloud": {},
  "kernelspec": {
   "display_name": "Python 2",
   "language": "python",
   "name": "python2"
  },
  "language_info": {
   "codemirror_mode": {
    "name": "ipython",
    "version": 2
   },
   "file_extension": ".py",
   "mimetype": "text/x-python",
   "name": "python",
   "nbconvert_exporter": "python",
   "pygments_lexer": "ipython2",
   "version": "2.7.12"
  }
 },
 "nbformat": 4,
 "nbformat_minor": 2
}
