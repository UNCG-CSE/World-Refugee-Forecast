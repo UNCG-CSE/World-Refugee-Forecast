{
 "cells": [
  {
   "cell_type": "code",
   "execution_count": 157,
   "metadata": {},
   "outputs": [],
   "source": [
    "%matplotlib inline\n",
    "import matplotlib.pyplot as plt\n",
    "import pandas as pd\n",
    "import numpy as np\n",
    "import seaborn as sns\n",
    "import scipy.stats as stats\n",
    "from scipy.stats import poisson"
   ]
  },
  {
   "cell_type": "code",
   "execution_count": 158,
   "metadata": {},
   "outputs": [
    {
     "data": {
      "text/html": [
       "<div>\n",
       "<style scoped>\n",
       "    .dataframe tbody tr th:only-of-type {\n",
       "        vertical-align: middle;\n",
       "    }\n",
       "\n",
       "    .dataframe tbody tr th {\n",
       "        vertical-align: top;\n",
       "    }\n",
       "\n",
       "    .dataframe thead th {\n",
       "        text-align: right;\n",
       "    }\n",
       "</style>\n",
       "<table border=\"1\" class=\"dataframe\">\n",
       "  <thead>\n",
       "    <tr style=\"text-align: right;\">\n",
       "      <th></th>\n",
       "      <th>Country / territory of asylum/residence</th>\n",
       "      <th>Origin</th>\n",
       "      <th>Year</th>\n",
       "      <th>Month</th>\n",
       "      <th>Value</th>\n",
       "    </tr>\n",
       "  </thead>\n",
       "  <tbody>\n",
       "    <tr>\n",
       "      <th>315117</th>\n",
       "      <td>Germany</td>\n",
       "      <td>Syrian Arab Rep.</td>\n",
       "      <td>2016</td>\n",
       "      <td>February</td>\n",
       "      <td>36860.0</td>\n",
       "    </tr>\n",
       "    <tr>\n",
       "      <th>293335</th>\n",
       "      <td>Germany</td>\n",
       "      <td>Syrian Arab Rep.</td>\n",
       "      <td>2015</td>\n",
       "      <td>November</td>\n",
       "      <td>30863.0</td>\n",
       "    </tr>\n",
       "    <tr>\n",
       "      <th>315118</th>\n",
       "      <td>Germany</td>\n",
       "      <td>Syrian Arab Rep.</td>\n",
       "      <td>2016</td>\n",
       "      <td>March</td>\n",
       "      <td>30856.0</td>\n",
       "    </tr>\n",
       "    <tr>\n",
       "      <th>315116</th>\n",
       "      <td>Germany</td>\n",
       "      <td>Syrian Arab Rep.</td>\n",
       "      <td>2016</td>\n",
       "      <td>January</td>\n",
       "      <td>30261.0</td>\n",
       "    </tr>\n",
       "    <tr>\n",
       "      <th>293334</th>\n",
       "      <td>Germany</td>\n",
       "      <td>Syrian Arab Rep.</td>\n",
       "      <td>2015</td>\n",
       "      <td>October</td>\n",
       "      <td>30216.0</td>\n",
       "    </tr>\n",
       "    <tr>\n",
       "      <th>315119</th>\n",
       "      <td>Germany</td>\n",
       "      <td>Syrian Arab Rep.</td>\n",
       "      <td>2016</td>\n",
       "      <td>April</td>\n",
       "      <td>28561.0</td>\n",
       "    </tr>\n",
       "    <tr>\n",
       "      <th>315123</th>\n",
       "      <td>Germany</td>\n",
       "      <td>Syrian Arab Rep.</td>\n",
       "      <td>2016</td>\n",
       "      <td>August</td>\n",
       "      <td>27315.0</td>\n",
       "    </tr>\n",
       "    <tr>\n",
       "      <th>315121</th>\n",
       "      <td>Germany</td>\n",
       "      <td>Syrian Arab Rep.</td>\n",
       "      <td>2016</td>\n",
       "      <td>June</td>\n",
       "      <td>26454.0</td>\n",
       "    </tr>\n",
       "    <tr>\n",
       "      <th>293336</th>\n",
       "      <td>Germany</td>\n",
       "      <td>Syrian Arab Rep.</td>\n",
       "      <td>2015</td>\n",
       "      <td>December</td>\n",
       "      <td>25250.0</td>\n",
       "    </tr>\n",
       "    <tr>\n",
       "      <th>315122</th>\n",
       "      <td>Germany</td>\n",
       "      <td>Syrian Arab Rep.</td>\n",
       "      <td>2016</td>\n",
       "      <td>July</td>\n",
       "      <td>23979.0</td>\n",
       "    </tr>\n",
       "  </tbody>\n",
       "</table>\n",
       "</div>"
      ],
      "text/plain": [
       "       Country / territory of asylum/residence            Origin  Year  \\\n",
       "315117                                 Germany  Syrian Arab Rep.  2016   \n",
       "293335                                 Germany  Syrian Arab Rep.  2015   \n",
       "315118                                 Germany  Syrian Arab Rep.  2016   \n",
       "315116                                 Germany  Syrian Arab Rep.  2016   \n",
       "293334                                 Germany  Syrian Arab Rep.  2015   \n",
       "315119                                 Germany  Syrian Arab Rep.  2016   \n",
       "315123                                 Germany  Syrian Arab Rep.  2016   \n",
       "315121                                 Germany  Syrian Arab Rep.  2016   \n",
       "293336                                 Germany  Syrian Arab Rep.  2015   \n",
       "315122                                 Germany  Syrian Arab Rep.  2016   \n",
       "\n",
       "           Month    Value  \n",
       "315117  February  36860.0  \n",
       "293335  November  30863.0  \n",
       "315118     March  30856.0  \n",
       "315116   January  30261.0  \n",
       "293334   October  30216.0  \n",
       "315119     April  28561.0  \n",
       "315123    August  27315.0  \n",
       "315121      June  26454.0  \n",
       "293336  December  25250.0  \n",
       "315122      July  23979.0  "
      ]
     },
     "execution_count": 158,
     "metadata": {},
     "output_type": "execute_result"
    }
   ],
   "source": [
    "df = pd.read_csv(\"../data/asylum_seekers_monthly.csv\", header = 3, low_memory=False, dtype={'Year': str})\n",
    "df['Value'] = pd.to_numeric(df['Value'], errors='coerce')\n",
    "df=df.dropna(subset=['Value'])\n",
    "df.sort_values('Value',ascending=False).head(10)"
   ]
  },
  {
   "cell_type": "markdown",
   "metadata": {},
   "source": [
    "Based off knowledge of current events in these countries, I have chosen to analyze Haiti, North Korea, El Salvador, Guatemala, and Iran.\n",
    "\n",
    "I need to find the mean, median, and standard deviation to plot divergence of mean and a poission distribution."
   ]
  },
  {
   "cell_type": "code",
   "execution_count": 159,
   "metadata": {},
   "outputs": [
    {
     "data": {
      "text/html": [
       "<div>\n",
       "<style scoped>\n",
       "    .dataframe tbody tr th:only-of-type {\n",
       "        vertical-align: middle;\n",
       "    }\n",
       "\n",
       "    .dataframe tbody tr th {\n",
       "        vertical-align: top;\n",
       "    }\n",
       "\n",
       "    .dataframe thead th {\n",
       "        text-align: right;\n",
       "    }\n",
       "</style>\n",
       "<table border=\"1\" class=\"dataframe\">\n",
       "  <thead>\n",
       "    <tr style=\"text-align: right;\">\n",
       "      <th></th>\n",
       "      <th>Country / territory of asylum/residence</th>\n",
       "      <th>Origin</th>\n",
       "      <th>Year</th>\n",
       "      <th>Month</th>\n",
       "      <th>Value</th>\n",
       "    </tr>\n",
       "  </thead>\n",
       "  <tbody>\n",
       "    <tr>\n",
       "      <th>1752</th>\n",
       "      <td>Belgium</td>\n",
       "      <td>Haiti</td>\n",
       "      <td>1999</td>\n",
       "      <td>January</td>\n",
       "      <td>1.0</td>\n",
       "    </tr>\n",
       "    <tr>\n",
       "      <th>2956</th>\n",
       "      <td>Canada</td>\n",
       "      <td>Haiti</td>\n",
       "      <td>1999</td>\n",
       "      <td>January</td>\n",
       "      <td>15.0</td>\n",
       "    </tr>\n",
       "    <tr>\n",
       "      <th>2957</th>\n",
       "      <td>Canada</td>\n",
       "      <td>Haiti</td>\n",
       "      <td>1999</td>\n",
       "      <td>February</td>\n",
       "      <td>9.0</td>\n",
       "    </tr>\n",
       "    <tr>\n",
       "      <th>2958</th>\n",
       "      <td>Canada</td>\n",
       "      <td>Haiti</td>\n",
       "      <td>1999</td>\n",
       "      <td>March</td>\n",
       "      <td>20.0</td>\n",
       "    </tr>\n",
       "    <tr>\n",
       "      <th>2959</th>\n",
       "      <td>Canada</td>\n",
       "      <td>Haiti</td>\n",
       "      <td>1999</td>\n",
       "      <td>April</td>\n",
       "      <td>6.0</td>\n",
       "    </tr>\n",
       "    <tr>\n",
       "      <th>2960</th>\n",
       "      <td>Canada</td>\n",
       "      <td>Haiti</td>\n",
       "      <td>1999</td>\n",
       "      <td>May</td>\n",
       "      <td>11.0</td>\n",
       "    </tr>\n",
       "    <tr>\n",
       "      <th>2961</th>\n",
       "      <td>Canada</td>\n",
       "      <td>Haiti</td>\n",
       "      <td>1999</td>\n",
       "      <td>June</td>\n",
       "      <td>21.0</td>\n",
       "    </tr>\n",
       "    <tr>\n",
       "      <th>2962</th>\n",
       "      <td>Canada</td>\n",
       "      <td>Haiti</td>\n",
       "      <td>1999</td>\n",
       "      <td>July</td>\n",
       "      <td>18.0</td>\n",
       "    </tr>\n",
       "    <tr>\n",
       "      <th>2963</th>\n",
       "      <td>Canada</td>\n",
       "      <td>Haiti</td>\n",
       "      <td>1999</td>\n",
       "      <td>August</td>\n",
       "      <td>30.0</td>\n",
       "    </tr>\n",
       "    <tr>\n",
       "      <th>2964</th>\n",
       "      <td>Canada</td>\n",
       "      <td>Haiti</td>\n",
       "      <td>1999</td>\n",
       "      <td>September</td>\n",
       "      <td>51.0</td>\n",
       "    </tr>\n",
       "  </tbody>\n",
       "</table>\n",
       "</div>"
      ],
      "text/plain": [
       "     Country / territory of asylum/residence Origin  Year      Month  Value\n",
       "1752                                 Belgium  Haiti  1999    January    1.0\n",
       "2956                                  Canada  Haiti  1999    January   15.0\n",
       "2957                                  Canada  Haiti  1999   February    9.0\n",
       "2958                                  Canada  Haiti  1999      March   20.0\n",
       "2959                                  Canada  Haiti  1999      April    6.0\n",
       "2960                                  Canada  Haiti  1999        May   11.0\n",
       "2961                                  Canada  Haiti  1999       June   21.0\n",
       "2962                                  Canada  Haiti  1999       July   18.0\n",
       "2963                                  Canada  Haiti  1999     August   30.0\n",
       "2964                                  Canada  Haiti  1999  September   51.0"
      ]
     },
     "execution_count": 159,
     "metadata": {},
     "output_type": "execute_result"
    }
   ],
   "source": [
    "haiti = df[df['Origin']=='Haiti']\n",
    "haiti.head(10)"
   ]
  },
  {
   "cell_type": "code",
   "execution_count": 160,
   "metadata": {},
   "outputs": [
    {
     "data": {
      "text/html": [
       "<div>\n",
       "<style scoped>\n",
       "    .dataframe tbody tr th:only-of-type {\n",
       "        vertical-align: middle;\n",
       "    }\n",
       "\n",
       "    .dataframe tbody tr th {\n",
       "        vertical-align: top;\n",
       "    }\n",
       "\n",
       "    .dataframe thead th {\n",
       "        text-align: right;\n",
       "    }\n",
       "</style>\n",
       "<table border=\"1\" class=\"dataframe\">\n",
       "  <thead>\n",
       "    <tr style=\"text-align: right;\">\n",
       "      <th></th>\n",
       "      <th>Value</th>\n",
       "    </tr>\n",
       "  </thead>\n",
       "  <tbody>\n",
       "    <tr>\n",
       "      <th>count</th>\n",
       "      <td>1104.000000</td>\n",
       "    </tr>\n",
       "    <tr>\n",
       "      <th>mean</th>\n",
       "      <td>108.547101</td>\n",
       "    </tr>\n",
       "    <tr>\n",
       "      <th>std</th>\n",
       "      <td>124.815046</td>\n",
       "    </tr>\n",
       "    <tr>\n",
       "      <th>min</th>\n",
       "      <td>1.000000</td>\n",
       "    </tr>\n",
       "    <tr>\n",
       "      <th>25%</th>\n",
       "      <td>14.000000</td>\n",
       "    </tr>\n",
       "    <tr>\n",
       "      <th>50%</th>\n",
       "      <td>65.500000</td>\n",
       "    </tr>\n",
       "    <tr>\n",
       "      <th>75%</th>\n",
       "      <td>157.000000</td>\n",
       "    </tr>\n",
       "    <tr>\n",
       "      <th>max</th>\n",
       "      <td>1181.000000</td>\n",
       "    </tr>\n",
       "  </tbody>\n",
       "</table>\n",
       "</div>"
      ],
      "text/plain": [
       "             Value\n",
       "count  1104.000000\n",
       "mean    108.547101\n",
       "std     124.815046\n",
       "min       1.000000\n",
       "25%      14.000000\n",
       "50%      65.500000\n",
       "75%     157.000000\n",
       "max    1181.000000"
      ]
     },
     "execution_count": 160,
     "metadata": {},
     "output_type": "execute_result"
    }
   ],
   "source": [
    "haiti.describe()"
   ]
  },
  {
   "cell_type": "code",
   "execution_count": 161,
   "metadata": {},
   "outputs": [],
   "source": [
    "haitiavg = haiti.mean()\n",
    "haitimed = haiti.median()\n",
    "haitistd = haiti.std()"
   ]
  },
  {
   "cell_type": "code",
   "execution_count": 162,
   "metadata": {},
   "outputs": [
    {
     "data": {
      "text/plain": [
       "<matplotlib.text.Text at 0x7f67cfdef6d0>"
      ]
     },
     "execution_count": 162,
     "metadata": {},
     "output_type": "execute_result"
    },
    {
     "data": {
      "image/png": "[encoded data removed]",
      "text/plain": [
       "<matplotlib.figure.Figure at 0x7f67cfe65410>"
      ]
     },
     "metadata": {},
     "output_type": "display_data"
    }
   ],
   "source": [
    "haiti.plot(kind=\"density\",\n",
    "                figsize=(10,5),\n",
    "                xlim=(0, 800))\n",
    "\n",
    "\n",
    "haverage = plt.vlines(haitiavg,     # Plot black line at mean\n",
    "           ymin=0, \n",
    "           ymax=0.006,\n",
    "           linewidth=2.0,\n",
    "           color=\"green\",\n",
    "           label='Mean')\n",
    "\n",
    "hmedian = plt.vlines(haitimed,   # Plot red line at median\n",
    "           ymin=0, \n",
    "           ymax=0.006,\n",
    "           linewidth=2.0,\n",
    "           color=\"red\",\n",
    "           label='Median')\n",
    "\n",
    "hstd = plt.vlines(haitistd,   # Plot blue line at standard deviation \n",
    "            ymin=0, \n",
    "            ymax=0.006,\n",
    "            linewidth=2.0,\n",
    "            color=\"blue\",\n",
    "            label='Standard Deviation')\n",
    "\n",
    "plt.legend(handles=[haverage, hmedian, hstd])\n",
    "plt.title('Haiti Density Chart', fontsize=16)"
   ]
  },
  {
   "cell_type": "code",
   "execution_count": 163,
   "metadata": {},
   "outputs": [
    {
     "data": {
      "text/plain": [
       "<matplotlib.text.Text at 0x7f67cfcd49d0>"
      ]
     },
     "execution_count": 163,
     "metadata": {},
     "output_type": "execute_result"
    },
    {
     "data": {
      "image/png": "[encoded data removed]",
      "text/plain": [
       "<matplotlib.figure.Figure at 0x7f67cff11250>"
      ]
     },
     "metadata": {},
     "output_type": "display_data"
    }
   ],
   "source": [
    "fig, ax = plt.subplots(1, 1)\n",
    "mu = haitiavg\n",
    "mean, var, skew, kurt = poisson.stats(mu, moments='mvsk')\n",
    "x = np.arange(poisson.ppf(0.01, mu), poisson.ppf(0.99, mu))\n",
    "ax.plot(x, poisson.pmf(x, mu), 'bo', ms=8, label='poisson pmf')\n",
    "ax.vlines(x, 0, poisson.pmf(x, mu), colors='b', lw=5, alpha=0.5)\n",
    "plt.title('Poission Distribution for Haiti', fontsize=16)"
   ]
  },
  {
   "cell_type": "code",
   "execution_count": 164,
   "metadata": {},
   "outputs": [
    {
     "data": {
      "text/html": [
       "<div>\n",
       "<style scoped>\n",
       "    .dataframe tbody tr th:only-of-type {\n",
       "        vertical-align: middle;\n",
       "    }\n",
       "\n",
       "    .dataframe tbody tr th {\n",
       "        vertical-align: top;\n",
       "    }\n",
       "\n",
       "    .dataframe thead th {\n",
       "        text-align: right;\n",
       "    }\n",
       "</style>\n",
       "<table border=\"1\" class=\"dataframe\">\n",
       "  <thead>\n",
       "    <tr style=\"text-align: right;\">\n",
       "      <th></th>\n",
       "      <th>Country / territory of asylum/residence</th>\n",
       "      <th>Origin</th>\n",
       "      <th>Year</th>\n",
       "      <th>Month</th>\n",
       "      <th>Value</th>\n",
       "    </tr>\n",
       "  </thead>\n",
       "  <tbody>\n",
       "    <tr>\n",
       "      <th>409</th>\n",
       "      <td>Australia</td>\n",
       "      <td>Pakistan</td>\n",
       "      <td>1999</td>\n",
       "      <td>January</td>\n",
       "      <td>12.0</td>\n",
       "    </tr>\n",
       "    <tr>\n",
       "      <th>410</th>\n",
       "      <td>Australia</td>\n",
       "      <td>Pakistan</td>\n",
       "      <td>1999</td>\n",
       "      <td>February</td>\n",
       "      <td>5.0</td>\n",
       "    </tr>\n",
       "    <tr>\n",
       "      <th>411</th>\n",
       "      <td>Australia</td>\n",
       "      <td>Pakistan</td>\n",
       "      <td>1999</td>\n",
       "      <td>March</td>\n",
       "      <td>12.0</td>\n",
       "    </tr>\n",
       "    <tr>\n",
       "      <th>412</th>\n",
       "      <td>Australia</td>\n",
       "      <td>Pakistan</td>\n",
       "      <td>1999</td>\n",
       "      <td>April</td>\n",
       "      <td>7.0</td>\n",
       "    </tr>\n",
       "    <tr>\n",
       "      <th>413</th>\n",
       "      <td>Australia</td>\n",
       "      <td>Pakistan</td>\n",
       "      <td>1999</td>\n",
       "      <td>May</td>\n",
       "      <td>12.0</td>\n",
       "    </tr>\n",
       "    <tr>\n",
       "      <th>414</th>\n",
       "      <td>Australia</td>\n",
       "      <td>Pakistan</td>\n",
       "      <td>1999</td>\n",
       "      <td>June</td>\n",
       "      <td>12.0</td>\n",
       "    </tr>\n",
       "    <tr>\n",
       "      <th>415</th>\n",
       "      <td>Australia</td>\n",
       "      <td>Pakistan</td>\n",
       "      <td>1999</td>\n",
       "      <td>July</td>\n",
       "      <td>8.0</td>\n",
       "    </tr>\n",
       "    <tr>\n",
       "      <th>416</th>\n",
       "      <td>Australia</td>\n",
       "      <td>Pakistan</td>\n",
       "      <td>1999</td>\n",
       "      <td>August</td>\n",
       "      <td>8.0</td>\n",
       "    </tr>\n",
       "    <tr>\n",
       "      <th>417</th>\n",
       "      <td>Australia</td>\n",
       "      <td>Pakistan</td>\n",
       "      <td>1999</td>\n",
       "      <td>September</td>\n",
       "      <td>12.0</td>\n",
       "    </tr>\n",
       "    <tr>\n",
       "      <th>418</th>\n",
       "      <td>Australia</td>\n",
       "      <td>Pakistan</td>\n",
       "      <td>1999</td>\n",
       "      <td>October</td>\n",
       "      <td>9.0</td>\n",
       "    </tr>\n",
       "  </tbody>\n",
       "</table>\n",
       "</div>"
      ],
      "text/plain": [
       "    Country / territory of asylum/residence    Origin  Year      Month  Value\n",
       "409                               Australia  Pakistan  1999    January   12.0\n",
       "410                               Australia  Pakistan  1999   February    5.0\n",
       "411                               Australia  Pakistan  1999      March   12.0\n",
       "412                               Australia  Pakistan  1999      April    7.0\n",
       "413                               Australia  Pakistan  1999        May   12.0\n",
       "414                               Australia  Pakistan  1999       June   12.0\n",
       "415                               Australia  Pakistan  1999       July    8.0\n",
       "416                               Australia  Pakistan  1999     August    8.0\n",
       "417                               Australia  Pakistan  1999  September   12.0\n",
       "418                               Australia  Pakistan  1999    October    9.0"
      ]
     },
     "execution_count": 164,
     "metadata": {},
     "output_type": "execute_result"
    }
   ],
   "source": [
    "pakistan = df[df['Origin']=='Pakistan']\n",
    "pakistan.head(10)"
   ]
  },
  {
   "cell_type": "code",
   "execution_count": 165,
   "metadata": {},
   "outputs": [
    {
     "data": {
      "text/html": [
       "<div>\n",
       "<style scoped>\n",
       "    .dataframe tbody tr th:only-of-type {\n",
       "        vertical-align: middle;\n",
       "    }\n",
       "\n",
       "    .dataframe tbody tr th {\n",
       "        vertical-align: top;\n",
       "    }\n",
       "\n",
       "    .dataframe thead th {\n",
       "        text-align: right;\n",
       "    }\n",
       "</style>\n",
       "<table border=\"1\" class=\"dataframe\">\n",
       "  <thead>\n",
       "    <tr style=\"text-align: right;\">\n",
       "      <th></th>\n",
       "      <th>Value</th>\n",
       "    </tr>\n",
       "  </thead>\n",
       "  <tbody>\n",
       "    <tr>\n",
       "      <th>count</th>\n",
       "      <td>5962.000000</td>\n",
       "    </tr>\n",
       "    <tr>\n",
       "      <th>mean</th>\n",
       "      <td>57.495807</td>\n",
       "    </tr>\n",
       "    <tr>\n",
       "      <th>std</th>\n",
       "      <td>165.124651</td>\n",
       "    </tr>\n",
       "    <tr>\n",
       "      <th>min</th>\n",
       "      <td>1.000000</td>\n",
       "    </tr>\n",
       "    <tr>\n",
       "      <th>25%</th>\n",
       "      <td>4.000000</td>\n",
       "    </tr>\n",
       "    <tr>\n",
       "      <th>50%</th>\n",
       "      <td>13.000000</td>\n",
       "    </tr>\n",
       "    <tr>\n",
       "      <th>75%</th>\n",
       "      <td>41.000000</td>\n",
       "    </tr>\n",
       "    <tr>\n",
       "      <th>max</th>\n",
       "      <td>6100.000000</td>\n",
       "    </tr>\n",
       "  </tbody>\n",
       "</table>\n",
       "</div>"
      ],
      "text/plain": [
       "             Value\n",
       "count  5962.000000\n",
       "mean     57.495807\n",
       "std     165.124651\n",
       "min       1.000000\n",
       "25%       4.000000\n",
       "50%      13.000000\n",
       "75%      41.000000\n",
       "max    6100.000000"
      ]
     },
     "execution_count": 165,
     "metadata": {},
     "output_type": "execute_result"
    }
   ],
   "source": [
    "pakistan.describe()"
   ]
  },
  {
   "cell_type": "code",
   "execution_count": 166,
   "metadata": {},
   "outputs": [],
   "source": [
    "pakistanavg = pakistan.mean()\n",
    "pakistanmed = pakistan.median()\n",
    "pakistanstd = pakistan.std()"
   ]
  },
  {
   "cell_type": "code",
   "execution_count": 167,
   "metadata": {},
   "outputs": [
    {
     "data": {
      "text/plain": [
       "<matplotlib.text.Text at 0x7f67cfbb4150>"
      ]
     },
     "execution_count": 167,
     "metadata": {},
     "output_type": "execute_result"
    },
    {
     "data": {
      "image/png": "[encoded data removed]",
      "text/plain": [
       "<matplotlib.figure.Figure at 0x7f67cfca8650>"
      ]
     },
     "metadata": {},
     "output_type": "display_data"
    }
   ],
   "source": [
    "pakistan.plot(kind=\"density\",\n",
    "                figsize=(10,5),\n",
    "                xlim=(0, 800))\n",
    "\n",
    "\n",
    "paverage = plt.vlines(pakistanavg,     # Plot black line at mean\n",
    "           ymin=0, \n",
    "           ymax=0.012,\n",
    "           linewidth=2.0,\n",
    "           color=\"green\",\n",
    "           label='Mean')\n",
    "\n",
    "pmedian = plt.vlines(pakistanmed,   # Plot red line at median\n",
    "           ymin=0, \n",
    "           ymax=0.012,\n",
    "           linewidth=2.0,\n",
    "           color=\"red\",\n",
    "           label='Median')\n",
    "\n",
    "pstd = plt.vlines(pakistanstd,   # Plot blue line at standard deviation \n",
    "            ymin=0, \n",
    "            ymax=0.012,\n",
    "            linewidth=2.0,\n",
    "            color=\"blue\",\n",
    "            label='Standard Deviation')\n",
    "\n",
    "plt.legend(handles=[paverage, pmedian, pstd])\n",
    "plt.title('Pakistan Density Chart', fontsize=16)"
   ]
  },
  {
   "cell_type": "code",
   "execution_count": 168,
   "metadata": {},
   "outputs": [
    {
     "data": {
      "text/plain": [
       "<matplotlib.text.Text at 0x7f67cfb10e10>"
      ]
     },
     "execution_count": 168,
     "metadata": {},
     "output_type": "execute_result"
    },
    {
     "data": {
      "image/png": "[encoded data removed]",
      "text/plain": [
       "<matplotlib.figure.Figure at 0x7f67cfbec4d0>"
      ]
     },
     "metadata": {},
     "output_type": "display_data"
    }
   ],
   "source": [
    "fig, ax = plt.subplots(1, 1)\n",
    "mu = pakistanavg\n",
    "mean, var, skew, kurt = poisson.stats(mu, moments='mvsk')\n",
    "x = np.arange(poisson.ppf(0.01, mu), poisson.ppf(0.99, mu))\n",
    "ax.plot(x, poisson.pmf(x, mu), 'bo', ms=8, label='poisson pmf')\n",
    "ax.vlines(x, 0, poisson.pmf(x, mu), colors='b', lw=5, alpha=0.5)\n",
    "plt.title('Poission Distribution for Pakistan', fontsize=16)"
   ]
  },
  {
   "cell_type": "code",
   "execution_count": 169,
   "metadata": {},
   "outputs": [
    {
     "data": {
      "text/html": [
       "<div>\n",
       "<style scoped>\n",
       "    .dataframe tbody tr th:only-of-type {\n",
       "        vertical-align: middle;\n",
       "    }\n",
       "\n",
       "    .dataframe tbody tr th {\n",
       "        vertical-align: top;\n",
       "    }\n",
       "\n",
       "    .dataframe thead th {\n",
       "        text-align: right;\n",
       "    }\n",
       "</style>\n",
       "<table border=\"1\" class=\"dataframe\">\n",
       "  <thead>\n",
       "    <tr style=\"text-align: right;\">\n",
       "      <th></th>\n",
       "      <th>Country / territory of asylum/residence</th>\n",
       "      <th>Origin</th>\n",
       "      <th>Year</th>\n",
       "      <th>Month</th>\n",
       "      <th>Value</th>\n",
       "    </tr>\n",
       "  </thead>\n",
       "  <tbody>\n",
       "    <tr>\n",
       "      <th>179</th>\n",
       "      <td>Australia</td>\n",
       "      <td>El Salvador</td>\n",
       "      <td>1999</td>\n",
       "      <td>January</td>\n",
       "      <td>8.0</td>\n",
       "    </tr>\n",
       "    <tr>\n",
       "      <th>180</th>\n",
       "      <td>Australia</td>\n",
       "      <td>El Salvador</td>\n",
       "      <td>1999</td>\n",
       "      <td>February</td>\n",
       "      <td>3.0</td>\n",
       "    </tr>\n",
       "    <tr>\n",
       "      <th>181</th>\n",
       "      <td>Australia</td>\n",
       "      <td>El Salvador</td>\n",
       "      <td>1999</td>\n",
       "      <td>June</td>\n",
       "      <td>3.0</td>\n",
       "    </tr>\n",
       "    <tr>\n",
       "      <th>182</th>\n",
       "      <td>Australia</td>\n",
       "      <td>El Salvador</td>\n",
       "      <td>1999</td>\n",
       "      <td>November</td>\n",
       "      <td>2.0</td>\n",
       "    </tr>\n",
       "    <tr>\n",
       "      <th>183</th>\n",
       "      <td>Australia</td>\n",
       "      <td>El Salvador</td>\n",
       "      <td>1999</td>\n",
       "      <td>December</td>\n",
       "      <td>1.0</td>\n",
       "    </tr>\n",
       "    <tr>\n",
       "      <th>2805</th>\n",
       "      <td>Canada</td>\n",
       "      <td>El Salvador</td>\n",
       "      <td>1999</td>\n",
       "      <td>January</td>\n",
       "      <td>26.0</td>\n",
       "    </tr>\n",
       "    <tr>\n",
       "      <th>2806</th>\n",
       "      <td>Canada</td>\n",
       "      <td>El Salvador</td>\n",
       "      <td>1999</td>\n",
       "      <td>February</td>\n",
       "      <td>15.0</td>\n",
       "    </tr>\n",
       "    <tr>\n",
       "      <th>2807</th>\n",
       "      <td>Canada</td>\n",
       "      <td>El Salvador</td>\n",
       "      <td>1999</td>\n",
       "      <td>March</td>\n",
       "      <td>25.0</td>\n",
       "    </tr>\n",
       "    <tr>\n",
       "      <th>2808</th>\n",
       "      <td>Canada</td>\n",
       "      <td>El Salvador</td>\n",
       "      <td>1999</td>\n",
       "      <td>April</td>\n",
       "      <td>21.0</td>\n",
       "    </tr>\n",
       "    <tr>\n",
       "      <th>2809</th>\n",
       "      <td>Canada</td>\n",
       "      <td>El Salvador</td>\n",
       "      <td>1999</td>\n",
       "      <td>May</td>\n",
       "      <td>30.0</td>\n",
       "    </tr>\n",
       "  </tbody>\n",
       "</table>\n",
       "</div>"
      ],
      "text/plain": [
       "     Country / territory of asylum/residence       Origin  Year     Month  \\\n",
       "179                                Australia  El Salvador  1999   January   \n",
       "180                                Australia  El Salvador  1999  February   \n",
       "181                                Australia  El Salvador  1999      June   \n",
       "182                                Australia  El Salvador  1999  November   \n",
       "183                                Australia  El Salvador  1999  December   \n",
       "2805                                  Canada  El Salvador  1999   January   \n",
       "2806                                  Canada  El Salvador  1999  February   \n",
       "2807                                  Canada  El Salvador  1999     March   \n",
       "2808                                  Canada  El Salvador  1999     April   \n",
       "2809                                  Canada  El Salvador  1999       May   \n",
       "\n",
       "      Value  \n",
       "179     8.0  \n",
       "180     3.0  \n",
       "181     3.0  \n",
       "182     2.0  \n",
       "183     1.0  \n",
       "2805   26.0  \n",
       "2806   15.0  \n",
       "2807   25.0  \n",
       "2808   21.0  \n",
       "2809   30.0  "
      ]
     },
     "execution_count": 169,
     "metadata": {},
     "output_type": "execute_result"
    }
   ],
   "source": [
    "elsalvador = df[df['Origin']=='El Salvador']\n",
    "elsalvador.head(10)"
   ]
  },
  {
   "cell_type": "code",
   "execution_count": 170,
   "metadata": {},
   "outputs": [
    {
     "data": {
      "text/html": [
       "<div>\n",
       "<style scoped>\n",
       "    .dataframe tbody tr th:only-of-type {\n",
       "        vertical-align: middle;\n",
       "    }\n",
       "\n",
       "    .dataframe tbody tr th {\n",
       "        vertical-align: top;\n",
       "    }\n",
       "\n",
       "    .dataframe thead th {\n",
       "        text-align: right;\n",
       "    }\n",
       "</style>\n",
       "<table border=\"1\" class=\"dataframe\">\n",
       "  <thead>\n",
       "    <tr style=\"text-align: right;\">\n",
       "      <th></th>\n",
       "      <th>Value</th>\n",
       "    </tr>\n",
       "  </thead>\n",
       "  <tbody>\n",
       "    <tr>\n",
       "      <th>count</th>\n",
       "      <td>1281.000000</td>\n",
       "    </tr>\n",
       "    <tr>\n",
       "      <th>mean</th>\n",
       "      <td>97.312256</td>\n",
       "    </tr>\n",
       "    <tr>\n",
       "      <th>std</th>\n",
       "      <td>272.620187</td>\n",
       "    </tr>\n",
       "    <tr>\n",
       "      <th>min</th>\n",
       "      <td>1.000000</td>\n",
       "    </tr>\n",
       "    <tr>\n",
       "      <th>25%</th>\n",
       "      <td>3.000000</td>\n",
       "    </tr>\n",
       "    <tr>\n",
       "      <th>50%</th>\n",
       "      <td>16.000000</td>\n",
       "    </tr>\n",
       "    <tr>\n",
       "      <th>75%</th>\n",
       "      <td>65.000000</td>\n",
       "    </tr>\n",
       "    <tr>\n",
       "      <th>max</th>\n",
       "      <td>2919.000000</td>\n",
       "    </tr>\n",
       "  </tbody>\n",
       "</table>\n",
       "</div>"
      ],
      "text/plain": [
       "             Value\n",
       "count  1281.000000\n",
       "mean     97.312256\n",
       "std     272.620187\n",
       "min       1.000000\n",
       "25%       3.000000\n",
       "50%      16.000000\n",
       "75%      65.000000\n",
       "max    2919.000000"
      ]
     },
     "execution_count": 170,
     "metadata": {},
     "output_type": "execute_result"
    }
   ],
   "source": [
    "elsalvador.describe()"
   ]
  },
  {
   "cell_type": "code",
   "execution_count": 171,
   "metadata": {},
   "outputs": [],
   "source": [
    "elsalavg = elsalvador.mean()\n",
    "elsalmed = elsalvador.median()\n",
    "elsalstd = elsalvador.std()"
   ]
  },
  {
   "cell_type": "code",
   "execution_count": 172,
   "metadata": {},
   "outputs": [
    {
     "data": {
      "text/plain": [
       "<matplotlib.text.Text at 0x7f67cfa67a10>"
      ]
     },
     "execution_count": 172,
     "metadata": {},
     "output_type": "execute_result"
    },
    {
     "data": {
      "image/png": "[encoded data removed]",
      "text/plain": [
       "<matplotlib.figure.Figure at 0x7f67cfb075d0>"
      ]
     },
     "metadata": {},
     "output_type": "display_data"
    }
   ],
   "source": [
    "elsalvador.plot(kind=\"density\",\n",
    "                figsize=(10,5),\n",
    "                xlim=(0, 600),\n",
    "                ylim=(0.000, 0.008))\n",
    "\n",
    "\n",
    "esaverage = plt.vlines(elsalavg,     # Plot black line at mean\n",
    "           ymin=0, \n",
    "           ymax=0.012,\n",
    "           linewidth=2.0,\n",
    "           color=\"green\",\n",
    "           label='Mean')\n",
    "\n",
    "esmedian = plt.vlines(elsalmed,   # Plot red line at median\n",
    "           ymin=0, \n",
    "           ymax=0.012,\n",
    "           linewidth=2.0,\n",
    "           color=\"red\",\n",
    "           label='Median')\n",
    "\n",
    "esstd = plt.vlines(elsalstd,   # Plot blue line at standard deviation \n",
    "            ymin=0, \n",
    "            ymax=0.012,\n",
    "            linewidth=2.0,\n",
    "            color=\"blue\",\n",
    "            label='Standard Deviation')\n",
    "\n",
    "plt.legend(handles=[esaverage, esmedian, esstd])\n",
    "plt.title('El Salvador Density Chart', fontsize=16)"
   ]
  },
  {
   "cell_type": "code",
   "execution_count": 173,
   "metadata": {},
   "outputs": [
    {
     "data": {
      "text/plain": [
       "<matplotlib.text.Text at 0x7f67cf94a650>"
      ]
     },
     "execution_count": 173,
     "metadata": {},
     "output_type": "execute_result"
    },
    {
     "data": {
      "image/png": "[encoded data removed]",
      "text/plain": [
       "<matplotlib.figure.Figure at 0x7f67cf9cb510>"
      ]
     },
     "metadata": {},
     "output_type": "display_data"
    }
   ],
   "source": [
    "fig, ax = plt.subplots(1, 1)\n",
    "mu = elsalavg\n",
    "mean, var, skew, kurt = poisson.stats(mu, moments='mvsk')\n",
    "x = np.arange(poisson.ppf(0.01, mu), poisson.ppf(0.99, mu))\n",
    "ax.plot(x, poisson.pmf(x, mu), 'bo', ms=8, label='poisson pmf')\n",
    "ax.vlines(x, 0, poisson.pmf(x, mu), colors='b', lw=5, alpha=0.5)\n",
    "plt.title('Poission Distribution for El Salvador', fontsize=16)"
   ]
  },
  {
   "cell_type": "code",
   "execution_count": 174,
   "metadata": {},
   "outputs": [
    {
     "data": {
      "text/html": [
       "<div>\n",
       "<style scoped>\n",
       "    .dataframe tbody tr th:only-of-type {\n",
       "        vertical-align: middle;\n",
       "    }\n",
       "\n",
       "    .dataframe tbody tr th {\n",
       "        vertical-align: top;\n",
       "    }\n",
       "\n",
       "    .dataframe thead th {\n",
       "        text-align: right;\n",
       "    }\n",
       "</style>\n",
       "<table border=\"1\" class=\"dataframe\">\n",
       "  <thead>\n",
       "    <tr style=\"text-align: right;\">\n",
       "      <th></th>\n",
       "      <th>Country / territory of asylum/residence</th>\n",
       "      <th>Origin</th>\n",
       "      <th>Year</th>\n",
       "      <th>Month</th>\n",
       "      <th>Value</th>\n",
       "    </tr>\n",
       "  </thead>\n",
       "  <tbody>\n",
       "    <tr>\n",
       "      <th>229</th>\n",
       "      <td>Australia</td>\n",
       "      <td>Guatemala</td>\n",
       "      <td>1999</td>\n",
       "      <td>December</td>\n",
       "      <td>1.0</td>\n",
       "    </tr>\n",
       "    <tr>\n",
       "      <th>1730</th>\n",
       "      <td>Belgium</td>\n",
       "      <td>Guatemala</td>\n",
       "      <td>1999</td>\n",
       "      <td>October</td>\n",
       "      <td>1.0</td>\n",
       "    </tr>\n",
       "    <tr>\n",
       "      <th>2915</th>\n",
       "      <td>Canada</td>\n",
       "      <td>Guatemala</td>\n",
       "      <td>1999</td>\n",
       "      <td>January</td>\n",
       "      <td>17.0</td>\n",
       "    </tr>\n",
       "    <tr>\n",
       "      <th>2916</th>\n",
       "      <td>Canada</td>\n",
       "      <td>Guatemala</td>\n",
       "      <td>1999</td>\n",
       "      <td>February</td>\n",
       "      <td>19.0</td>\n",
       "    </tr>\n",
       "    <tr>\n",
       "      <th>2917</th>\n",
       "      <td>Canada</td>\n",
       "      <td>Guatemala</td>\n",
       "      <td>1999</td>\n",
       "      <td>March</td>\n",
       "      <td>17.0</td>\n",
       "    </tr>\n",
       "    <tr>\n",
       "      <th>2918</th>\n",
       "      <td>Canada</td>\n",
       "      <td>Guatemala</td>\n",
       "      <td>1999</td>\n",
       "      <td>April</td>\n",
       "      <td>13.0</td>\n",
       "    </tr>\n",
       "    <tr>\n",
       "      <th>2919</th>\n",
       "      <td>Canada</td>\n",
       "      <td>Guatemala</td>\n",
       "      <td>1999</td>\n",
       "      <td>May</td>\n",
       "      <td>11.0</td>\n",
       "    </tr>\n",
       "    <tr>\n",
       "      <th>2920</th>\n",
       "      <td>Canada</td>\n",
       "      <td>Guatemala</td>\n",
       "      <td>1999</td>\n",
       "      <td>June</td>\n",
       "      <td>14.0</td>\n",
       "    </tr>\n",
       "    <tr>\n",
       "      <th>2921</th>\n",
       "      <td>Canada</td>\n",
       "      <td>Guatemala</td>\n",
       "      <td>1999</td>\n",
       "      <td>July</td>\n",
       "      <td>6.0</td>\n",
       "    </tr>\n",
       "    <tr>\n",
       "      <th>2922</th>\n",
       "      <td>Canada</td>\n",
       "      <td>Guatemala</td>\n",
       "      <td>1999</td>\n",
       "      <td>August</td>\n",
       "      <td>8.0</td>\n",
       "    </tr>\n",
       "  </tbody>\n",
       "</table>\n",
       "</div>"
      ],
      "text/plain": [
       "     Country / territory of asylum/residence     Origin  Year     Month  Value\n",
       "229                                Australia  Guatemala  1999  December    1.0\n",
       "1730                                 Belgium  Guatemala  1999   October    1.0\n",
       "2915                                  Canada  Guatemala  1999   January   17.0\n",
       "2916                                  Canada  Guatemala  1999  February   19.0\n",
       "2917                                  Canada  Guatemala  1999     March   17.0\n",
       "2918                                  Canada  Guatemala  1999     April   13.0\n",
       "2919                                  Canada  Guatemala  1999       May   11.0\n",
       "2920                                  Canada  Guatemala  1999      June   14.0\n",
       "2921                                  Canada  Guatemala  1999      July    6.0\n",
       "2922                                  Canada  Guatemala  1999    August    8.0"
      ]
     },
     "execution_count": 174,
     "metadata": {},
     "output_type": "execute_result"
    }
   ],
   "source": [
    "guatemala = df[df['Origin']=='Guatemala']\n",
    "guatemala.head(10)"
   ]
  },
  {
   "cell_type": "code",
   "execution_count": 175,
   "metadata": {},
   "outputs": [
    {
     "data": {
      "text/html": [
       "<div>\n",
       "<style scoped>\n",
       "    .dataframe tbody tr th:only-of-type {\n",
       "        vertical-align: middle;\n",
       "    }\n",
       "\n",
       "    .dataframe tbody tr th {\n",
       "        vertical-align: top;\n",
       "    }\n",
       "\n",
       "    .dataframe thead th {\n",
       "        text-align: right;\n",
       "    }\n",
       "</style>\n",
       "<table border=\"1\" class=\"dataframe\">\n",
       "  <thead>\n",
       "    <tr style=\"text-align: right;\">\n",
       "      <th></th>\n",
       "      <th>Value</th>\n",
       "    </tr>\n",
       "  </thead>\n",
       "  <tbody>\n",
       "    <tr>\n",
       "      <th>count</th>\n",
       "      <td>864.000000</td>\n",
       "    </tr>\n",
       "    <tr>\n",
       "      <th>mean</th>\n",
       "      <td>112.718750</td>\n",
       "    </tr>\n",
       "    <tr>\n",
       "      <th>std</th>\n",
       "      <td>238.141108</td>\n",
       "    </tr>\n",
       "    <tr>\n",
       "      <th>min</th>\n",
       "      <td>1.000000</td>\n",
       "    </tr>\n",
       "    <tr>\n",
       "      <th>25%</th>\n",
       "      <td>4.000000</td>\n",
       "    </tr>\n",
       "    <tr>\n",
       "      <th>50%</th>\n",
       "      <td>32.500000</td>\n",
       "    </tr>\n",
       "    <tr>\n",
       "      <th>75%</th>\n",
       "      <td>95.000000</td>\n",
       "    </tr>\n",
       "    <tr>\n",
       "      <th>max</th>\n",
       "      <td>1716.000000</td>\n",
       "    </tr>\n",
       "  </tbody>\n",
       "</table>\n",
       "</div>"
      ],
      "text/plain": [
       "             Value\n",
       "count   864.000000\n",
       "mean    112.718750\n",
       "std     238.141108\n",
       "min       1.000000\n",
       "25%       4.000000\n",
       "50%      32.500000\n",
       "75%      95.000000\n",
       "max    1716.000000"
      ]
     },
     "execution_count": 175,
     "metadata": {},
     "output_type": "execute_result"
    }
   ],
   "source": [
    "guatemala.describe()"
   ]
  },
  {
   "cell_type": "code",
   "execution_count": 176,
   "metadata": {},
   "outputs": [],
   "source": [
    "guatemalaavg = guatemala.mean()\n",
    "guatemalamed = guatemala.median()\n",
    "guatemalastd = guatemala.std()"
   ]
  },
  {
   "cell_type": "code",
   "execution_count": 177,
   "metadata": {},
   "outputs": [
    {
     "data": {
      "text/plain": [
       "<matplotlib.text.Text at 0x7f67cf8beb10>"
      ]
     },
     "execution_count": 177,
     "metadata": {},
     "output_type": "execute_result"
    },
    {
     "data": {
      "image/png": "[encoded data removed]",
      "text/plain": [
       "<matplotlib.figure.Figure at 0x7f67cf92b350>"
      ]
     },
     "metadata": {},
     "output_type": "display_data"
    }
   ],
   "source": [
    "guatemala.plot(kind=\"density\",\n",
    "                figsize=(10,5),\n",
    "                xlim=(0, 600),\n",
    "                ylim=(0.000, 0.006))\n",
    "\n",
    "\n",
    "gaverage = plt.vlines(guatemalaavg,     # Plot black line at mean\n",
    "           ymin=0, \n",
    "           ymax=0.012,\n",
    "           linewidth=2.0,\n",
    "           color=\"green\",\n",
    "           label='Mean')\n",
    "\n",
    "gmedian = plt.vlines(guatemalamed,   # Plot red line at median\n",
    "           ymin=0, \n",
    "           ymax=0.012,\n",
    "           linewidth=2.0,\n",
    "           color=\"red\",\n",
    "           label='Median')\n",
    "\n",
    "gstd = plt.vlines(guatemalastd,   # Plot blue line at standard deviation \n",
    "            ymin=0, \n",
    "            ymax=0.012,\n",
    "            linewidth=2.0,\n",
    "            color=\"blue\",\n",
    "            label='Standard Deviation')\n",
    "\n",
    "plt.legend(handles=[gaverage, gmedian, gstd])\n",
    "plt.title('Guatemala Density Chart', fontsize=16)"
   ]
  },
  {
   "cell_type": "code",
   "execution_count": 178,
   "metadata": {},
   "outputs": [
    {
     "data": {
      "text/plain": [
       "<matplotlib.text.Text at 0x7f67cf7e5f10>"
      ]
     },
     "execution_count": 178,
     "metadata": {},
     "output_type": "execute_result"
    },
    {
     "data": {
      "image/png": "[encoded data removed]",
      "text/plain": [
       "<matplotlib.figure.Figure at 0x7f67cf86cf90>"
      ]
     },
     "metadata": {},
     "output_type": "display_data"
    }
   ],
   "source": [
    "fig, ax = plt.subplots(1, 1)\n",
    "mu = guatemalaavg\n",
    "mean, var, skew, kurt = poisson.stats(mu, moments='mvsk')\n",
    "x = np.arange(poisson.ppf(0.01, mu), poisson.ppf(0.99, mu))\n",
    "ax.plot(x, poisson.pmf(x, mu), 'bo', ms=8, label='poisson pmf')\n",
    "ax.vlines(x, 0, poisson.pmf(x, mu), colors='b', lw=5, alpha=0.5)\n",
    "plt.title('Poission Distribution for Guatemala', fontsize=16)"
   ]
  },
  {
   "cell_type": "code",
   "execution_count": 179,
   "metadata": {},
   "outputs": [
    {
     "data": {
      "text/html": [
       "<div>\n",
       "<style scoped>\n",
       "    .dataframe tbody tr th:only-of-type {\n",
       "        vertical-align: middle;\n",
       "    }\n",
       "\n",
       "    .dataframe tbody tr th {\n",
       "        vertical-align: top;\n",
       "    }\n",
       "\n",
       "    .dataframe thead th {\n",
       "        text-align: right;\n",
       "    }\n",
       "</style>\n",
       "<table border=\"1\" class=\"dataframe\">\n",
       "  <thead>\n",
       "    <tr style=\"text-align: right;\">\n",
       "      <th></th>\n",
       "      <th>Country / territory of asylum/residence</th>\n",
       "      <th>Origin</th>\n",
       "      <th>Year</th>\n",
       "      <th>Month</th>\n",
       "      <th>Value</th>\n",
       "    </tr>\n",
       "  </thead>\n",
       "  <tbody>\n",
       "    <tr>\n",
       "      <th>168</th>\n",
       "      <td>Australia</td>\n",
       "      <td>Egypt</td>\n",
       "      <td>1999</td>\n",
       "      <td>February</td>\n",
       "      <td>2.0</td>\n",
       "    </tr>\n",
       "    <tr>\n",
       "      <th>169</th>\n",
       "      <td>Australia</td>\n",
       "      <td>Egypt</td>\n",
       "      <td>1999</td>\n",
       "      <td>March</td>\n",
       "      <td>3.0</td>\n",
       "    </tr>\n",
       "    <tr>\n",
       "      <th>170</th>\n",
       "      <td>Australia</td>\n",
       "      <td>Egypt</td>\n",
       "      <td>1999</td>\n",
       "      <td>April</td>\n",
       "      <td>4.0</td>\n",
       "    </tr>\n",
       "    <tr>\n",
       "      <th>171</th>\n",
       "      <td>Australia</td>\n",
       "      <td>Egypt</td>\n",
       "      <td>1999</td>\n",
       "      <td>May</td>\n",
       "      <td>1.0</td>\n",
       "    </tr>\n",
       "    <tr>\n",
       "      <th>172</th>\n",
       "      <td>Australia</td>\n",
       "      <td>Egypt</td>\n",
       "      <td>1999</td>\n",
       "      <td>June</td>\n",
       "      <td>3.0</td>\n",
       "    </tr>\n",
       "    <tr>\n",
       "      <th>173</th>\n",
       "      <td>Australia</td>\n",
       "      <td>Egypt</td>\n",
       "      <td>1999</td>\n",
       "      <td>July</td>\n",
       "      <td>3.0</td>\n",
       "    </tr>\n",
       "    <tr>\n",
       "      <th>174</th>\n",
       "      <td>Australia</td>\n",
       "      <td>Egypt</td>\n",
       "      <td>1999</td>\n",
       "      <td>August</td>\n",
       "      <td>6.0</td>\n",
       "    </tr>\n",
       "    <tr>\n",
       "      <th>175</th>\n",
       "      <td>Australia</td>\n",
       "      <td>Egypt</td>\n",
       "      <td>1999</td>\n",
       "      <td>September</td>\n",
       "      <td>2.0</td>\n",
       "    </tr>\n",
       "    <tr>\n",
       "      <th>176</th>\n",
       "      <td>Australia</td>\n",
       "      <td>Egypt</td>\n",
       "      <td>1999</td>\n",
       "      <td>October</td>\n",
       "      <td>6.0</td>\n",
       "    </tr>\n",
       "    <tr>\n",
       "      <th>177</th>\n",
       "      <td>Australia</td>\n",
       "      <td>Egypt</td>\n",
       "      <td>1999</td>\n",
       "      <td>November</td>\n",
       "      <td>8.0</td>\n",
       "    </tr>\n",
       "  </tbody>\n",
       "</table>\n",
       "</div>"
      ],
      "text/plain": [
       "    Country / territory of asylum/residence Origin  Year      Month  Value\n",
       "168                               Australia  Egypt  1999   February    2.0\n",
       "169                               Australia  Egypt  1999      March    3.0\n",
       "170                               Australia  Egypt  1999      April    4.0\n",
       "171                               Australia  Egypt  1999        May    1.0\n",
       "172                               Australia  Egypt  1999       June    3.0\n",
       "173                               Australia  Egypt  1999       July    3.0\n",
       "174                               Australia  Egypt  1999     August    6.0\n",
       "175                               Australia  Egypt  1999  September    2.0\n",
       "176                               Australia  Egypt  1999    October    6.0\n",
       "177                               Australia  Egypt  1999   November    8.0"
      ]
     },
     "execution_count": 179,
     "metadata": {},
     "output_type": "execute_result"
    }
   ],
   "source": [
    "egypt = df[df['Origin']=='Egypt']\n",
    "egypt.head(10)"
   ]
  },
  {
   "cell_type": "code",
   "execution_count": 180,
   "metadata": {},
   "outputs": [
    {
     "data": {
      "text/html": [
       "<div>\n",
       "<style scoped>\n",
       "    .dataframe tbody tr th:only-of-type {\n",
       "        vertical-align: middle;\n",
       "    }\n",
       "\n",
       "    .dataframe tbody tr th {\n",
       "        vertical-align: top;\n",
       "    }\n",
       "\n",
       "    .dataframe thead th {\n",
       "        text-align: right;\n",
       "    }\n",
       "</style>\n",
       "<table border=\"1\" class=\"dataframe\">\n",
       "  <thead>\n",
       "    <tr style=\"text-align: right;\">\n",
       "      <th></th>\n",
       "      <th>Value</th>\n",
       "    </tr>\n",
       "  </thead>\n",
       "  <tbody>\n",
       "    <tr>\n",
       "      <th>count</th>\n",
       "      <td>4056.000000</td>\n",
       "    </tr>\n",
       "    <tr>\n",
       "      <th>mean</th>\n",
       "      <td>13.875000</td>\n",
       "    </tr>\n",
       "    <tr>\n",
       "      <th>std</th>\n",
       "      <td>29.094962</td>\n",
       "    </tr>\n",
       "    <tr>\n",
       "      <th>min</th>\n",
       "      <td>1.000000</td>\n",
       "    </tr>\n",
       "    <tr>\n",
       "      <th>25%</th>\n",
       "      <td>2.000000</td>\n",
       "    </tr>\n",
       "    <tr>\n",
       "      <th>50%</th>\n",
       "      <td>5.000000</td>\n",
       "    </tr>\n",
       "    <tr>\n",
       "      <th>75%</th>\n",
       "      <td>13.000000</td>\n",
       "    </tr>\n",
       "    <tr>\n",
       "      <th>max</th>\n",
       "      <td>645.000000</td>\n",
       "    </tr>\n",
       "  </tbody>\n",
       "</table>\n",
       "</div>"
      ],
      "text/plain": [
       "             Value\n",
       "count  4056.000000\n",
       "mean     13.875000\n",
       "std      29.094962\n",
       "min       1.000000\n",
       "25%       2.000000\n",
       "50%       5.000000\n",
       "75%      13.000000\n",
       "max     645.000000"
      ]
     },
     "execution_count": 180,
     "metadata": {},
     "output_type": "execute_result"
    }
   ],
   "source": [
    "egypt.describe()"
   ]
  },
  {
   "cell_type": "code",
   "execution_count": 181,
   "metadata": {},
   "outputs": [],
   "source": [
    "egyptavg = egypt.mean()\n",
    "egyptmed = egypt.median()\n",
    "egyptstd = egypt.std()"
   ]
  },
  {
   "cell_type": "code",
   "execution_count": 182,
   "metadata": {},
   "outputs": [
    {
     "data": {
      "text/plain": [
       "<matplotlib.text.Text at 0x7f67cf6b7710>"
      ]
     },
     "execution_count": 182,
     "metadata": {},
     "output_type": "execute_result"
    },
    {
     "data": {
      "image/png": "[encoded data removed]",
      "text/plain": [
       "<matplotlib.figure.Figure at 0x7f67cf7e5250>"
      ]
     },
     "metadata": {},
     "output_type": "display_data"
    }
   ],
   "source": [
    "egypt.plot(kind=\"density\",\n",
    "                figsize=(10,5),\n",
    "                xlim=(0, 600),\n",
    "                ylim=(0.000, 0.050))\n",
    "\n",
    "\n",
    "eaverage = plt.vlines(egyptavg,     # Plot black line at mean\n",
    "           ymin=0, \n",
    "           ymax=0.050,\n",
    "           linewidth=2.0,\n",
    "           color=\"green\",\n",
    "           label='Mean')\n",
    "\n",
    "emedian = plt.vlines(egyptmed,   # Plot red line at median\n",
    "           ymin=0, \n",
    "           ymax=0.050,\n",
    "           linewidth=2.0,\n",
    "           color=\"red\",\n",
    "           label='Median')\n",
    "\n",
    "estd = plt.vlines(egyptstd,   # Plot blue line at standard deviation \n",
    "            ymin=0, \n",
    "            ymax=0.050,\n",
    "            linewidth=2.0,\n",
    "            color=\"blue\",\n",
    "            label='Standard Deviation')\n",
    "\n",
    "plt.legend(handles=[eaverage, emedian, estd])\n",
    "plt.title('Egypt Density Chart', fontsize=16)"
   ]
  },
  {
   "cell_type": "code",
   "execution_count": 183,
   "metadata": {},
   "outputs": [
    {
     "data": {
      "text/plain": [
       "<matplotlib.text.Text at 0x7f67cf60bc90>"
      ]
     },
     "execution_count": 183,
     "metadata": {},
     "output_type": "execute_result"
    },
    {
     "data": {
      "image/png": "[encoded data removed]",
      "text/plain": [
       "<matplotlib.figure.Figure at 0x7f67cf69e150>"
      ]
     },
     "metadata": {},
     "output_type": "display_data"
    }
   ],
   "source": [
    "fig, ax = plt.subplots(1, 1)\n",
    "mu = egyptavg\n",
    "mean, var, skew, kurt = poisson.stats(mu, moments='mvsk')\n",
    "x = np.arange(poisson.ppf(0.01, mu), poisson.ppf(0.99, mu))\n",
    "ax.plot(x, poisson.pmf(x, mu), 'bo', ms=8, label='poisson pmf')\n",
    "ax.vlines(x, 0, poisson.pmf(x, mu), colors='b', lw=5, alpha=0.5)\n",
    "plt.title('Poission Distribution for Egypt', fontsize=16)"
   ]
  },
  {
   "cell_type": "markdown",
   "metadata": {},
   "source": [
    "I then grouped these country datasets by year to calculate the maximum value from each year. I will use this maximum to compare GDP."
   ]
  },
  {
   "cell_type": "code",
   "execution_count": 202,
   "metadata": {},
   "outputs": [
    {
     "data": {
      "text/plain": [
       "<pandas.core.groupby.DataFrameGroupBy object at 0x7f67cf50c590>"
      ]
     },
     "execution_count": 202,
     "metadata": {},
     "output_type": "execute_result"
    }
   ],
   "source": [
    "groupedhaiti = haiti.groupby('Year')\n",
    "groupedhaiti"
   ]
  },
  {
   "cell_type": "code",
   "execution_count": 185,
   "metadata": {},
   "outputs": [
    {
     "data": {
      "text/plain": [
       "Year\n",
       "1999     349.0\n",
       "2000     382.0\n",
       "2001     366.0\n",
       "2002     783.0\n",
       "2003     997.0\n",
       "2004     303.0\n",
       "2005     383.0\n",
       "2006     784.0\n",
       "2007    1189.0\n",
       "2008     729.0\n",
       "2009     452.0\n",
       "2010     508.0\n",
       "2011     478.0\n",
       "2012     477.0\n",
       "2013     666.0\n",
       "2014     882.0\n",
       "2015    6100.0\n",
       "2016    2227.0\n",
       "2017    1087.0\n",
       "Name: Value, dtype: float64"
      ]
     },
     "execution_count": 185,
     "metadata": {},
     "output_type": "execute_result"
    }
   ],
   "source": [
    "groupedpakistan = pakistan.groupby('Year')['Value'].max()\n",
    "groupedpakistan"
   ]
  },
  {
   "cell_type": "code",
   "execution_count": 186,
   "metadata": {},
   "outputs": [
    {
     "data": {
      "text/plain": [
       "Year\n",
       "1999     117.0\n",
       "2000     198.0\n",
       "2001     195.0\n",
       "2002     101.0\n",
       "2003      92.0\n",
       "2004     107.0\n",
       "2005     246.0\n",
       "2006     318.0\n",
       "2007     290.0\n",
       "2008     278.0\n",
       "2009     217.0\n",
       "2010     200.0\n",
       "2011     356.0\n",
       "2012     416.0\n",
       "2013     465.0\n",
       "2014     866.0\n",
       "2015    1096.0\n",
       "2016    2919.0\n",
       "2017    2586.0\n",
       "Name: Value, dtype: float64"
      ]
     },
     "execution_count": 186,
     "metadata": {},
     "output_type": "execute_result"
    }
   ],
   "source": [
    "groupedelsalvador = elsalvador.groupby('Year')['Value'].max()\n",
    "groupedelsalvador"
   ]
  },
  {
   "cell_type": "code",
   "execution_count": 187,
   "metadata": {},
   "outputs": [
    {
     "data": {
      "text/plain": [
       "Year\n",
       "1999      62.0\n",
       "2000     118.0\n",
       "2001     198.0\n",
       "2002     123.0\n",
       "2003     468.0\n",
       "2004     102.0\n",
       "2005     214.0\n",
       "2006     116.0\n",
       "2007     164.0\n",
       "2008     128.0\n",
       "2009     121.0\n",
       "2010     133.0\n",
       "2011     215.0\n",
       "2012     260.0\n",
       "2013     278.0\n",
       "2014     546.0\n",
       "2015     989.0\n",
       "2016    1716.0\n",
       "2017    1456.0\n",
       "Name: Value, dtype: float64"
      ]
     },
     "execution_count": 187,
     "metadata": {},
     "output_type": "execute_result"
    }
   ],
   "source": [
    "groupedguatemala = guatemala.groupby('Year')['Value'].max()\n",
    "groupedguatemala"
   ]
  },
  {
   "cell_type": "code",
   "execution_count": 188,
   "metadata": {},
   "outputs": [
    {
     "data": {
      "text/plain": [
       "Year\n",
       "1999     27.0\n",
       "2000     72.0\n",
       "2001     69.0\n",
       "2002     73.0\n",
       "2003     70.0\n",
       "2004     34.0\n",
       "2005     42.0\n",
       "2006    213.0\n",
       "2007     35.0\n",
       "2008     42.0\n",
       "2009     35.0\n",
       "2010     51.0\n",
       "2011    135.0\n",
       "2012    258.0\n",
       "2013    645.0\n",
       "2014    150.0\n",
       "2015    210.0\n",
       "2016    291.0\n",
       "2017    142.0\n",
       "Name: Value, dtype: float64"
      ]
     },
     "execution_count": 188,
     "metadata": {},
     "output_type": "execute_result"
    }
   ],
   "source": [
    "groupedegypt = egypt.groupby('Year')['Value'].max()\n",
    "groupedegypt"
   ]
  },
  {
   "cell_type": "markdown",
   "metadata": {},
   "source": [
    "* Haiti's Highest Year: 2016\n",
    "* Pakistan's Highest Year: 2015\n",
    "* El Salvador's Highest Year: 2016\n",
    "* Guatemala's Highest Year: 2016\n",
    "* Egypt's Highest Year: 2013"
   ]
  }
 ],
 "metadata": {
  "kernelspec": {
   "display_name": "Python 2",
   "language": "python",
   "name": "python2"
  },
  "language_info": {
   "codemirror_mode": {
    "name": "ipython",
    "version": 2
   },
   "file_extension": ".py",
   "mimetype": "text/x-python",
   "name": "python",
   "nbconvert_exporter": "python",
   "pygments_lexer": "ipython2",
   "version": "2.7.12"
  }
 },
 "nbformat": 4,
 "nbformat_minor": 2
}
